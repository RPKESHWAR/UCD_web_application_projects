{
 "cells": [
  {
   "cell_type": "markdown",
   "metadata": {},
   "source": [
    "# Data Preparation"
   ]
  },
  {
   "cell_type": "code",
   "execution_count": 409,
   "metadata": {
    "hideCode": false,
    "hidePrompt": false
   },
   "outputs": [],
   "source": [
    "# Import pandas, numpy, matplotlib, seaborn libraries\n",
    "import pandas as pd\n",
    "import numpy as np\n",
    "import matplotlib.pyplot as plt\n",
    "import matplotlib.patches as mpatches\n",
    "import seaborn as sns\n",
    "from matplotlib.backends.backend_pdf import PdfPages\n",
    "from tabulate import tabulate\n",
    "import datetime\n",
    "import keras\n",
    "\n",
    "# Using Skicit-learn to split data into training and testing sets\n",
    "from sklearn.model_selection import train_test_split\n",
    "from sklearn.feature_extraction import DictVectorizer\n",
    "from sklearn.ensemble import RandomForestRegressor\n",
    "\n",
    "\n",
    "# hide ipykernel warnings \n",
    "import warnings\n",
    "warnings.filterwarnings('ignore')\n",
    "\n",
    "%matplotlib inline"
   ]
  },
  {
   "cell_type": "markdown",
   "metadata": {},
   "source": [
    "## Import data"
   ]
  },
  {
   "cell_type": "markdown",
   "metadata": {},
   "source": [
    "### Import bike dynamic data from csv into dataframe"
   ]
  },
  {
   "cell_type": "code",
   "execution_count": 410,
   "metadata": {},
   "outputs": [
    {
     "data": {
      "text/html": [
       "<div>\n",
       "<style scoped>\n",
       "    .dataframe tbody tr th:only-of-type {\n",
       "        vertical-align: middle;\n",
       "    }\n",
       "\n",
       "    .dataframe tbody tr th {\n",
       "        vertical-align: top;\n",
       "    }\n",
       "\n",
       "    .dataframe thead th {\n",
       "        text-align: right;\n",
       "    }\n",
       "</style>\n",
       "<table border=\"1\" class=\"dataframe\">\n",
       "  <thead>\n",
       "    <tr style=\"text-align: right;\">\n",
       "      <th></th>\n",
       "      <th>id_Entry</th>\n",
       "      <th>number</th>\n",
       "      <th>status</th>\n",
       "      <th>bike_stands</th>\n",
       "      <th>available_bike_stands</th>\n",
       "      <th>available_bikes</th>\n",
       "      <th>last_update</th>\n",
       "      <th>data_entry_timestamp</th>\n",
       "    </tr>\n",
       "  </thead>\n",
       "  <tbody>\n",
       "    <tr>\n",
       "      <th>369155</th>\n",
       "      <td>370900</td>\n",
       "      <td>39</td>\n",
       "      <td>OPEN</td>\n",
       "      <td>20</td>\n",
       "      <td>6</td>\n",
       "      <td>14</td>\n",
       "      <td>2020-03-24 11:37:49</td>\n",
       "      <td>2020-03-24 11:40:02</td>\n",
       "    </tr>\n",
       "    <tr>\n",
       "      <th>369156</th>\n",
       "      <td>370901</td>\n",
       "      <td>83</td>\n",
       "      <td>OPEN</td>\n",
       "      <td>40</td>\n",
       "      <td>27</td>\n",
       "      <td>13</td>\n",
       "      <td>2020-03-24 11:35:57</td>\n",
       "      <td>2020-03-24 11:40:02</td>\n",
       "    </tr>\n",
       "    <tr>\n",
       "      <th>369157</th>\n",
       "      <td>370902</td>\n",
       "      <td>92</td>\n",
       "      <td>OPEN</td>\n",
       "      <td>40</td>\n",
       "      <td>25</td>\n",
       "      <td>15</td>\n",
       "      <td>2020-03-24 11:38:08</td>\n",
       "      <td>2020-03-24 11:40:02</td>\n",
       "    </tr>\n",
       "    <tr>\n",
       "      <th>369158</th>\n",
       "      <td>370903</td>\n",
       "      <td>21</td>\n",
       "      <td>OPEN</td>\n",
       "      <td>30</td>\n",
       "      <td>22</td>\n",
       "      <td>8</td>\n",
       "      <td>2020-03-24 11:31:46</td>\n",
       "      <td>2020-03-24 11:40:02</td>\n",
       "    </tr>\n",
       "    <tr>\n",
       "      <th>369159</th>\n",
       "      <td>370904</td>\n",
       "      <td>88</td>\n",
       "      <td>OPEN</td>\n",
       "      <td>30</td>\n",
       "      <td>9</td>\n",
       "      <td>21</td>\n",
       "      <td>2020-03-24 11:35:03</td>\n",
       "      <td>2020-03-24 11:40:02</td>\n",
       "    </tr>\n",
       "  </tbody>\n",
       "</table>\n",
       "</div>"
      ],
      "text/plain": [
       "        id_Entry  number status  bike_stands  available_bike_stands  \\\n",
       "369155    370900      39   OPEN           20                      6   \n",
       "369156    370901      83   OPEN           40                     27   \n",
       "369157    370902      92   OPEN           40                     25   \n",
       "369158    370903      21   OPEN           30                     22   \n",
       "369159    370904      88   OPEN           30                      9   \n",
       "\n",
       "        available_bikes          last_update data_entry_timestamp  \n",
       "369155               14  2020-03-24 11:37:49  2020-03-24 11:40:02  \n",
       "369156               13  2020-03-24 11:35:57  2020-03-24 11:40:02  \n",
       "369157               15  2020-03-24 11:38:08  2020-03-24 11:40:02  \n",
       "369158                8  2020-03-24 11:31:46  2020-03-24 11:40:02  \n",
       "369159               21  2020-03-24 11:35:03  2020-03-24 11:40:02  "
      ]
     },
     "execution_count": 410,
     "metadata": {},
     "output_type": "execute_result"
    }
   ],
   "source": [
    "# Read in data as pandas dataframe and display first 5 rows\n",
    "bikeDynamic = pd.read_csv('dBikeD.csv')\n",
    "bikeDynamic.tail(5)"
   ]
  },
  {
   "cell_type": "markdown",
   "metadata": {},
   "source": [
    "#### check for shape"
   ]
  },
  {
   "cell_type": "code",
   "execution_count": 411,
   "metadata": {
    "hideCode": false,
    "hidePrompt": false,
    "scrolled": false
   },
   "outputs": [
    {
     "name": "stdout",
     "output_type": "stream",
     "text": [
      "The shape of our features is: (369160, 8) \n",
      " id_Entry                  int64\n",
      "number                    int64\n",
      "status                   object\n",
      "bike_stands               int64\n",
      "available_bike_stands     int64\n",
      "available_bikes           int64\n",
      "last_update              object\n",
      "data_entry_timestamp     object\n",
      "dtype: object\n"
     ]
    }
   ],
   "source": [
    "print('The shape of our features is:', bikeDynamic.shape,'\\n', bikeDynamic.dtypes)"
   ]
  },
  {
   "cell_type": "markdown",
   "metadata": {},
   "source": [
    "#### check for Null entries"
   ]
  },
  {
   "cell_type": "code",
   "execution_count": 412,
   "metadata": {
    "scrolled": false
   },
   "outputs": [
    {
     "data": {
      "text/plain": [
       "id_Entry                 0\n",
       "number                   0\n",
       "status                   0\n",
       "bike_stands              0\n",
       "available_bike_stands    0\n",
       "available_bikes          0\n",
       "last_update              0\n",
       "data_entry_timestamp     0\n",
       "dtype: int64"
      ]
     },
     "execution_count": 412,
     "metadata": {},
     "output_type": "execute_result"
    }
   ],
   "source": [
    "bikeDynamic.isnull().sum()"
   ]
  },
  {
   "cell_type": "markdown",
   "metadata": {},
   "source": [
    "### Import weather dynamic data from csv into dataframe"
   ]
  },
  {
   "cell_type": "code",
   "execution_count": 413,
   "metadata": {
    "scrolled": true
   },
   "outputs": [
    {
     "data": {
      "text/html": [
       "<div>\n",
       "<style scoped>\n",
       "    .dataframe tbody tr th:only-of-type {\n",
       "        vertical-align: middle;\n",
       "    }\n",
       "\n",
       "    .dataframe tbody tr th {\n",
       "        vertical-align: top;\n",
       "    }\n",
       "\n",
       "    .dataframe thead th {\n",
       "        text-align: right;\n",
       "    }\n",
       "</style>\n",
       "<table border=\"1\" class=\"dataframe\">\n",
       "  <thead>\n",
       "    <tr style=\"text-align: right;\">\n",
       "      <th></th>\n",
       "      <th>weather_main</th>\n",
       "      <th>weather_description</th>\n",
       "      <th>clouds_all</th>\n",
       "      <th>main_temp</th>\n",
       "      <th>main_feels_like</th>\n",
       "      <th>main_pressure</th>\n",
       "      <th>main_humidity</th>\n",
       "      <th>main_temp_min</th>\n",
       "      <th>main_temp_max</th>\n",
       "      <th>wind_speed</th>\n",
       "      <th>wind_deg</th>\n",
       "      <th>visibility</th>\n",
       "      <th>data_entry_timestamp</th>\n",
       "    </tr>\n",
       "  </thead>\n",
       "  <tbody>\n",
       "    <tr>\n",
       "      <th>3427</th>\n",
       "      <td>Clouds</td>\n",
       "      <td>broken clouds</td>\n",
       "      <td>75</td>\n",
       "      <td>11</td>\n",
       "      <td>9</td>\n",
       "      <td>1017</td>\n",
       "      <td>58</td>\n",
       "      <td>9</td>\n",
       "      <td>12</td>\n",
       "      <td>1.0</td>\n",
       "      <td>NaN</td>\n",
       "      <td>10000.0</td>\n",
       "      <td>3/24/2020 11:00</td>\n",
       "    </tr>\n",
       "    <tr>\n",
       "      <th>3428</th>\n",
       "      <td>Clouds</td>\n",
       "      <td>broken clouds</td>\n",
       "      <td>75</td>\n",
       "      <td>11</td>\n",
       "      <td>9</td>\n",
       "      <td>1017</td>\n",
       "      <td>58</td>\n",
       "      <td>9</td>\n",
       "      <td>12</td>\n",
       "      <td>1.0</td>\n",
       "      <td>NaN</td>\n",
       "      <td>10000.0</td>\n",
       "      <td>3/24/2020 11:10</td>\n",
       "    </tr>\n",
       "    <tr>\n",
       "      <th>3429</th>\n",
       "      <td>Clouds</td>\n",
       "      <td>broken clouds</td>\n",
       "      <td>75</td>\n",
       "      <td>11</td>\n",
       "      <td>7</td>\n",
       "      <td>1017</td>\n",
       "      <td>62</td>\n",
       "      <td>10</td>\n",
       "      <td>12</td>\n",
       "      <td>4.1</td>\n",
       "      <td>200.0</td>\n",
       "      <td>10000.0</td>\n",
       "      <td>3/24/2020 11:20</td>\n",
       "    </tr>\n",
       "    <tr>\n",
       "      <th>3430</th>\n",
       "      <td>Clouds</td>\n",
       "      <td>broken clouds</td>\n",
       "      <td>75</td>\n",
       "      <td>11</td>\n",
       "      <td>7</td>\n",
       "      <td>1017</td>\n",
       "      <td>62</td>\n",
       "      <td>10</td>\n",
       "      <td>12</td>\n",
       "      <td>4.1</td>\n",
       "      <td>200.0</td>\n",
       "      <td>10000.0</td>\n",
       "      <td>3/24/2020 11:30</td>\n",
       "    </tr>\n",
       "    <tr>\n",
       "      <th>3431</th>\n",
       "      <td>Clouds</td>\n",
       "      <td>broken clouds</td>\n",
       "      <td>75</td>\n",
       "      <td>12</td>\n",
       "      <td>8</td>\n",
       "      <td>1017</td>\n",
       "      <td>62</td>\n",
       "      <td>10</td>\n",
       "      <td>12</td>\n",
       "      <td>4.1</td>\n",
       "      <td>200.0</td>\n",
       "      <td>10000.0</td>\n",
       "      <td>3/24/2020 11:40</td>\n",
       "    </tr>\n",
       "  </tbody>\n",
       "</table>\n",
       "</div>"
      ],
      "text/plain": [
       "     weather_main weather_description  clouds_all  main_temp  main_feels_like  \\\n",
       "3427       Clouds       broken clouds          75         11                9   \n",
       "3428       Clouds       broken clouds          75         11                9   \n",
       "3429       Clouds       broken clouds          75         11                7   \n",
       "3430       Clouds       broken clouds          75         11                7   \n",
       "3431       Clouds       broken clouds          75         12                8   \n",
       "\n",
       "      main_pressure  main_humidity  main_temp_min  main_temp_max  wind_speed  \\\n",
       "3427           1017             58              9             12         1.0   \n",
       "3428           1017             58              9             12         1.0   \n",
       "3429           1017             62             10             12         4.1   \n",
       "3430           1017             62             10             12         4.1   \n",
       "3431           1017             62             10             12         4.1   \n",
       "\n",
       "      wind_deg  visibility data_entry_timestamp  \n",
       "3427       NaN     10000.0      3/24/2020 11:00  \n",
       "3428       NaN     10000.0      3/24/2020 11:10  \n",
       "3429     200.0     10000.0      3/24/2020 11:20  \n",
       "3430     200.0     10000.0      3/24/2020 11:30  \n",
       "3431     200.0     10000.0      3/24/2020 11:40  "
      ]
     },
     "execution_count": 413,
     "metadata": {},
     "output_type": "execute_result"
    }
   ],
   "source": [
    "# Read in data as pandas dataframe and display first 5 rows\n",
    "weatherDynamic = pd.read_csv('dWeatherD.csv')\n",
    "weatherDynamic = weatherDynamic[['weather_main','weather_description','clouds_all','main_temp','main_feels_like',\\\n",
    "                               'main_pressure','main_humidity','main_temp_min', 'main_temp_max', \\\n",
    "                                'wind_speed', 'wind_deg', 'visibility','data_entry_timestamp']]\n",
    "weatherDynamic.tail(5)"
   ]
  },
  {
   "cell_type": "markdown",
   "metadata": {},
   "source": [
    "#### check for shape"
   ]
  },
  {
   "cell_type": "code",
   "execution_count": 414,
   "metadata": {
    "hideCode": false,
    "hidePrompt": false,
    "scrolled": true
   },
   "outputs": [
    {
     "name": "stdout",
     "output_type": "stream",
     "text": [
      "The shape of our features is: (3432, 13) \n",
      " weather_main             object\n",
      "weather_description      object\n",
      "clouds_all                int64\n",
      "main_temp                 int64\n",
      "main_feels_like           int64\n",
      "main_pressure             int64\n",
      "main_humidity             int64\n",
      "main_temp_min             int64\n",
      "main_temp_max             int64\n",
      "wind_speed              float64\n",
      "wind_deg                float64\n",
      "visibility              float64\n",
      "data_entry_timestamp     object\n",
      "dtype: object\n"
     ]
    }
   ],
   "source": [
    "print('The shape of our features is:', weatherDynamic.shape,'\\n', weatherDynamic.dtypes)"
   ]
  },
  {
   "cell_type": "markdown",
   "metadata": {},
   "source": [
    "#### check for Null entries"
   ]
  },
  {
   "cell_type": "code",
   "execution_count": 415,
   "metadata": {
    "scrolled": false
   },
   "outputs": [
    {
     "data": {
      "text/plain": [
       "weather_main              0\n",
       "weather_description       0\n",
       "clouds_all                0\n",
       "main_temp                 0\n",
       "main_feels_like           0\n",
       "main_pressure             0\n",
       "main_humidity             0\n",
       "main_temp_min             0\n",
       "main_temp_max             0\n",
       "wind_speed                0\n",
       "wind_deg                109\n",
       "visibility                7\n",
       "data_entry_timestamp      0\n",
       "dtype: int64"
      ]
     },
     "execution_count": 415,
     "metadata": {},
     "output_type": "execute_result"
    }
   ],
   "source": [
    "weatherDynamic.isnull().sum()"
   ]
  },
  {
   "cell_type": "markdown",
   "metadata": {},
   "source": [
    "#### check for Null entries"
   ]
  },
  {
   "cell_type": "code",
   "execution_count": 416,
   "metadata": {},
   "outputs": [],
   "source": [
    "weatherDynamic.loc[weatherDynamic['wind_deg'].isnull(),('wind_deg')] = weatherDynamic['wind_deg'].ffill()\n",
    "weatherDynamic.loc[weatherDynamic['visibility'].isnull(),('visibility')] = weatherDynamic['visibility'].ffill()"
   ]
  },
  {
   "cell_type": "code",
   "execution_count": 417,
   "metadata": {
    "scrolled": true
   },
   "outputs": [
    {
     "data": {
      "text/plain": [
       "weather_main            0\n",
       "weather_description     0\n",
       "clouds_all              0\n",
       "main_temp               0\n",
       "main_feels_like         0\n",
       "main_pressure           0\n",
       "main_humidity           0\n",
       "main_temp_min           0\n",
       "main_temp_max           0\n",
       "wind_speed              0\n",
       "wind_deg                0\n",
       "visibility              0\n",
       "data_entry_timestamp    0\n",
       "dtype: int64"
      ]
     },
     "execution_count": 417,
     "metadata": {},
     "output_type": "execute_result"
    }
   ],
   "source": [
    "weatherDynamic.isnull().sum()"
   ]
  },
  {
   "cell_type": "markdown",
   "metadata": {},
   "source": [
    "## Process and normalise dates"
   ]
  },
  {
   "cell_type": "markdown",
   "metadata": {},
   "source": [
    "**Observation on spreadsheet state that results for date 28 February and 24 March are patial. Hence, they are to be dropped for data consistency.** "
   ]
  },
  {
   "cell_type": "markdown",
   "metadata": {},
   "source": [
    "### dublin bikes"
   ]
  },
  {
   "cell_type": "code",
   "execution_count": 418,
   "metadata": {
    "scrolled": true
   },
   "outputs": [
    {
     "data": {
      "text/html": [
       "<div>\n",
       "<style scoped>\n",
       "    .dataframe tbody tr th:only-of-type {\n",
       "        vertical-align: middle;\n",
       "    }\n",
       "\n",
       "    .dataframe tbody tr th {\n",
       "        vertical-align: top;\n",
       "    }\n",
       "\n",
       "    .dataframe thead th {\n",
       "        text-align: right;\n",
       "    }\n",
       "</style>\n",
       "<table border=\"1\" class=\"dataframe\">\n",
       "  <thead>\n",
       "    <tr style=\"text-align: right;\">\n",
       "      <th></th>\n",
       "      <th>id_Entry</th>\n",
       "      <th>number</th>\n",
       "      <th>status</th>\n",
       "      <th>bike_stands</th>\n",
       "      <th>available_bike_stands</th>\n",
       "      <th>available_bikes</th>\n",
       "      <th>last_update</th>\n",
       "      <th>data_entry_timestamp</th>\n",
       "    </tr>\n",
       "  </thead>\n",
       "  <tbody>\n",
       "    <tr>\n",
       "      <th>361345</th>\n",
       "      <td>363090</td>\n",
       "      <td>39</td>\n",
       "      <td>OPEN</td>\n",
       "      <td>20</td>\n",
       "      <td>16</td>\n",
       "      <td>4</td>\n",
       "      <td>2020-03-23 23:48:00</td>\n",
       "      <td>2020-03-23 23:50:00</td>\n",
       "    </tr>\n",
       "    <tr>\n",
       "      <th>361346</th>\n",
       "      <td>363091</td>\n",
       "      <td>83</td>\n",
       "      <td>OPEN</td>\n",
       "      <td>40</td>\n",
       "      <td>21</td>\n",
       "      <td>19</td>\n",
       "      <td>2020-03-23 23:47:00</td>\n",
       "      <td>2020-03-23 23:50:00</td>\n",
       "    </tr>\n",
       "    <tr>\n",
       "      <th>361347</th>\n",
       "      <td>363092</td>\n",
       "      <td>92</td>\n",
       "      <td>OPEN</td>\n",
       "      <td>40</td>\n",
       "      <td>32</td>\n",
       "      <td>8</td>\n",
       "      <td>2020-03-23 23:47:00</td>\n",
       "      <td>2020-03-23 23:50:00</td>\n",
       "    </tr>\n",
       "    <tr>\n",
       "      <th>361348</th>\n",
       "      <td>363093</td>\n",
       "      <td>21</td>\n",
       "      <td>OPEN</td>\n",
       "      <td>30</td>\n",
       "      <td>22</td>\n",
       "      <td>8</td>\n",
       "      <td>2020-03-23 23:44:00</td>\n",
       "      <td>2020-03-23 23:50:00</td>\n",
       "    </tr>\n",
       "    <tr>\n",
       "      <th>361349</th>\n",
       "      <td>363094</td>\n",
       "      <td>88</td>\n",
       "      <td>OPEN</td>\n",
       "      <td>30</td>\n",
       "      <td>8</td>\n",
       "      <td>22</td>\n",
       "      <td>2020-03-23 23:47:00</td>\n",
       "      <td>2020-03-23 23:50:00</td>\n",
       "    </tr>\n",
       "  </tbody>\n",
       "</table>\n",
       "</div>"
      ],
      "text/plain": [
       "        id_Entry  number status  bike_stands  available_bike_stands  \\\n",
       "361345    363090      39   OPEN           20                     16   \n",
       "361346    363091      83   OPEN           40                     21   \n",
       "361347    363092      92   OPEN           40                     32   \n",
       "361348    363093      21   OPEN           30                     22   \n",
       "361349    363094      88   OPEN           30                      8   \n",
       "\n",
       "        available_bikes         last_update data_entry_timestamp  \n",
       "361345                4 2020-03-23 23:48:00  2020-03-23 23:50:00  \n",
       "361346               19 2020-03-23 23:47:00  2020-03-23 23:50:00  \n",
       "361347                8 2020-03-23 23:47:00  2020-03-23 23:50:00  \n",
       "361348                8 2020-03-23 23:44:00  2020-03-23 23:50:00  \n",
       "361349               22 2020-03-23 23:47:00  2020-03-23 23:50:00  "
      ]
     },
     "execution_count": 418,
     "metadata": {},
     "output_type": "execute_result"
    }
   ],
   "source": [
    "#DATETIME DATA\n",
    "\n",
    "# Select columns containing datetime data\n",
    "continous_date_columns = bikeDynamic[['last_update', 'data_entry_timestamp']].columns\n",
    "\n",
    "# Assign object type datetime to columns enlisted in continous_date_columns\n",
    "for column in continous_date_columns:\n",
    "    bikeDynamic[column] = pd.to_datetime(bikeDynamic[column])   \n",
    "    \n",
    "end_date = pd.to_datetime('2020-03-24')\n",
    "start_date = pd.to_datetime('2020-02-28')\n",
    "\n",
    "# Ommit partial data for dates 28-2-2020 and 24-3-2020\n",
    "mask = (bikeDynamic['data_entry_timestamp'].dt.date > start_date) & (bikeDynamic['data_entry_timestamp'].dt.date < end_date)\n",
    "bikeDynamic = bikeDynamic.loc[mask]\n",
    "\n",
    "# # resolution to minutes\n",
    "bikeDynamic['data_entry_timestamp'] = bikeDynamic['data_entry_timestamp'].dt.strftime(\"%Y-%m-%d %H:%M:00\")\n",
    "bikeDynamic['last_update'] = bikeDynamic['last_update'].dt.strftime(\"%Y-%m-%d %H:%M:00\")\n",
    "\n",
    "for column in continous_date_columns:\n",
    "    bikeDynamic[column] = pd.to_datetime(bikeDynamic[column]) \n",
    "    \n",
    "bikeDynamic.tail()"
   ]
  },
  {
   "cell_type": "code",
   "execution_count": 419,
   "metadata": {
    "hideCode": false,
    "hidePrompt": false,
    "scrolled": false
   },
   "outputs": [
    {
     "name": "stdout",
     "output_type": "stream",
     "text": [
      "The shape of our features is: (355410, 8) \n",
      " id_Entry                          int64\n",
      "number                            int64\n",
      "status                           object\n",
      "bike_stands                       int64\n",
      "available_bike_stands             int64\n",
      "available_bikes                   int64\n",
      "last_update              datetime64[ns]\n",
      "data_entry_timestamp     datetime64[ns]\n",
      "dtype: object\n"
     ]
    }
   ],
   "source": [
    "print('The shape of our features is:', bikeDynamic.shape,'\\n', bikeDynamic.dtypes)"
   ]
  },
  {
   "cell_type": "markdown",
   "metadata": {},
   "source": [
    "### dublin weather"
   ]
  },
  {
   "cell_type": "code",
   "execution_count": 420,
   "metadata": {
    "scrolled": true
   },
   "outputs": [
    {
     "data": {
      "text/html": [
       "<div>\n",
       "<style scoped>\n",
       "    .dataframe tbody tr th:only-of-type {\n",
       "        vertical-align: middle;\n",
       "    }\n",
       "\n",
       "    .dataframe tbody tr th {\n",
       "        vertical-align: top;\n",
       "    }\n",
       "\n",
       "    .dataframe thead th {\n",
       "        text-align: right;\n",
       "    }\n",
       "</style>\n",
       "<table border=\"1\" class=\"dataframe\">\n",
       "  <thead>\n",
       "    <tr style=\"text-align: right;\">\n",
       "      <th></th>\n",
       "      <th>weather_main</th>\n",
       "      <th>weather_description</th>\n",
       "      <th>clouds_all</th>\n",
       "      <th>main_temp</th>\n",
       "      <th>main_feels_like</th>\n",
       "      <th>main_pressure</th>\n",
       "      <th>main_humidity</th>\n",
       "      <th>main_temp_min</th>\n",
       "      <th>main_temp_max</th>\n",
       "      <th>wind_speed</th>\n",
       "      <th>wind_deg</th>\n",
       "      <th>visibility</th>\n",
       "      <th>data_entry_timestamp</th>\n",
       "    </tr>\n",
       "  </thead>\n",
       "  <tbody>\n",
       "    <tr>\n",
       "      <th>3356</th>\n",
       "      <td>Clouds</td>\n",
       "      <td>broken clouds</td>\n",
       "      <td>75</td>\n",
       "      <td>7</td>\n",
       "      <td>5</td>\n",
       "      <td>1021</td>\n",
       "      <td>70</td>\n",
       "      <td>6</td>\n",
       "      <td>8</td>\n",
       "      <td>1.5</td>\n",
       "      <td>100.0</td>\n",
       "      <td>10000.0</td>\n",
       "      <td>2020-03-23 23:10:00</td>\n",
       "    </tr>\n",
       "    <tr>\n",
       "      <th>3357</th>\n",
       "      <td>Clouds</td>\n",
       "      <td>broken clouds</td>\n",
       "      <td>75</td>\n",
       "      <td>7</td>\n",
       "      <td>4</td>\n",
       "      <td>1020</td>\n",
       "      <td>70</td>\n",
       "      <td>6</td>\n",
       "      <td>8</td>\n",
       "      <td>2.1</td>\n",
       "      <td>110.0</td>\n",
       "      <td>10000.0</td>\n",
       "      <td>2020-03-23 23:20:00</td>\n",
       "    </tr>\n",
       "    <tr>\n",
       "      <th>3358</th>\n",
       "      <td>Clouds</td>\n",
       "      <td>broken clouds</td>\n",
       "      <td>75</td>\n",
       "      <td>7</td>\n",
       "      <td>4</td>\n",
       "      <td>1020</td>\n",
       "      <td>70</td>\n",
       "      <td>6</td>\n",
       "      <td>8</td>\n",
       "      <td>2.1</td>\n",
       "      <td>110.0</td>\n",
       "      <td>10000.0</td>\n",
       "      <td>2020-03-23 23:30:00</td>\n",
       "    </tr>\n",
       "    <tr>\n",
       "      <th>3359</th>\n",
       "      <td>Clouds</td>\n",
       "      <td>broken clouds</td>\n",
       "      <td>75</td>\n",
       "      <td>7</td>\n",
       "      <td>4</td>\n",
       "      <td>1020</td>\n",
       "      <td>70</td>\n",
       "      <td>6</td>\n",
       "      <td>8</td>\n",
       "      <td>2.1</td>\n",
       "      <td>110.0</td>\n",
       "      <td>10000.0</td>\n",
       "      <td>2020-03-23 23:40:00</td>\n",
       "    </tr>\n",
       "    <tr>\n",
       "      <th>3360</th>\n",
       "      <td>Clouds</td>\n",
       "      <td>broken clouds</td>\n",
       "      <td>75</td>\n",
       "      <td>7</td>\n",
       "      <td>4</td>\n",
       "      <td>1020</td>\n",
       "      <td>75</td>\n",
       "      <td>6</td>\n",
       "      <td>8</td>\n",
       "      <td>2.6</td>\n",
       "      <td>150.0</td>\n",
       "      <td>10000.0</td>\n",
       "      <td>2020-03-23 23:50:00</td>\n",
       "    </tr>\n",
       "  </tbody>\n",
       "</table>\n",
       "</div>"
      ],
      "text/plain": [
       "     weather_main weather_description  clouds_all  main_temp  main_feels_like  \\\n",
       "3356       Clouds       broken clouds          75          7                5   \n",
       "3357       Clouds       broken clouds          75          7                4   \n",
       "3358       Clouds       broken clouds          75          7                4   \n",
       "3359       Clouds       broken clouds          75          7                4   \n",
       "3360       Clouds       broken clouds          75          7                4   \n",
       "\n",
       "      main_pressure  main_humidity  main_temp_min  main_temp_max  wind_speed  \\\n",
       "3356           1021             70              6              8         1.5   \n",
       "3357           1020             70              6              8         2.1   \n",
       "3358           1020             70              6              8         2.1   \n",
       "3359           1020             70              6              8         2.1   \n",
       "3360           1020             75              6              8         2.6   \n",
       "\n",
       "      wind_deg  visibility data_entry_timestamp  \n",
       "3356     100.0     10000.0  2020-03-23 23:10:00  \n",
       "3357     110.0     10000.0  2020-03-23 23:20:00  \n",
       "3358     110.0     10000.0  2020-03-23 23:30:00  \n",
       "3359     110.0     10000.0  2020-03-23 23:40:00  \n",
       "3360     150.0     10000.0  2020-03-23 23:50:00  "
      ]
     },
     "execution_count": 420,
     "metadata": {},
     "output_type": "execute_result"
    }
   ],
   "source": [
    "#DATETIME DATA\n",
    "\n",
    "# Select columns containing datetime data\n",
    "continous_date_columns = weatherDynamic[['data_entry_timestamp']].columns\n",
    "\n",
    "# Assign object type datetime to columns enlisted in continous_date_columns\n",
    "for column in continous_date_columns:\n",
    "    weatherDynamic[column] = pd.to_datetime(weatherDynamic[column])   \n",
    "    \n",
    "end_date = pd.to_datetime('2020-03-24')\n",
    "start_date = pd.to_datetime('2020-02-28')\n",
    "\n",
    "# Ommit partial data for dates 28-2-2020 and 24-3-2020\n",
    "mask = (weatherDynamic['data_entry_timestamp'].dt.date > start_date) & (weatherDynamic['data_entry_timestamp'].dt.date < end_date)\n",
    "weatherDynamic = weatherDynamic.loc[mask]\n",
    "\n",
    "for column in continous_date_columns:\n",
    "    weatherDynamic[column] = pd.to_datetime(weatherDynamic[column])   \n",
    "    \n",
    "weatherDynamic.tail()"
   ]
  },
  {
   "cell_type": "code",
   "execution_count": 421,
   "metadata": {
    "hideCode": false,
    "hidePrompt": false,
    "scrolled": true
   },
   "outputs": [
    {
     "name": "stdout",
     "output_type": "stream",
     "text": [
      "The shape of our features is: (3307, 13) \n",
      " weather_main                    object\n",
      "weather_description             object\n",
      "clouds_all                       int64\n",
      "main_temp                        int64\n",
      "main_feels_like                  int64\n",
      "main_pressure                    int64\n",
      "main_humidity                    int64\n",
      "main_temp_min                    int64\n",
      "main_temp_max                    int64\n",
      "wind_speed                     float64\n",
      "wind_deg                       float64\n",
      "visibility                     float64\n",
      "data_entry_timestamp    datetime64[ns]\n",
      "dtype: object\n"
     ]
    }
   ],
   "source": [
    "print('The shape of our features is:', weatherDynamic.shape,'\\n', weatherDynamic.dtypes)"
   ]
  },
  {
   "cell_type": "markdown",
   "metadata": {},
   "source": [
    "### Merge bike and weather dataframes"
   ]
  },
  {
   "cell_type": "code",
   "execution_count": 422,
   "metadata": {
    "scrolled": true
   },
   "outputs": [
    {
     "data": {
      "text/html": [
       "<div>\n",
       "<style scoped>\n",
       "    .dataframe tbody tr th:only-of-type {\n",
       "        vertical-align: middle;\n",
       "    }\n",
       "\n",
       "    .dataframe tbody tr th {\n",
       "        vertical-align: top;\n",
       "    }\n",
       "\n",
       "    .dataframe thead th {\n",
       "        text-align: right;\n",
       "    }\n",
       "</style>\n",
       "<table border=\"1\" class=\"dataframe\">\n",
       "  <thead>\n",
       "    <tr style=\"text-align: right;\">\n",
       "      <th></th>\n",
       "      <th>id_Entry</th>\n",
       "      <th>number</th>\n",
       "      <th>status</th>\n",
       "      <th>bike_stands</th>\n",
       "      <th>available_bike_stands</th>\n",
       "      <th>available_bikes</th>\n",
       "      <th>last_update</th>\n",
       "      <th>data_entry_timestamp</th>\n",
       "    </tr>\n",
       "  </thead>\n",
       "  <tbody>\n",
       "    <tr>\n",
       "      <th>5940</th>\n",
       "      <td>7685</td>\n",
       "      <td>42</td>\n",
       "      <td>OPEN</td>\n",
       "      <td>30</td>\n",
       "      <td>10</td>\n",
       "      <td>20</td>\n",
       "      <td>2020-02-28 23:52:00</td>\n",
       "      <td>2020-02-29</td>\n",
       "    </tr>\n",
       "    <tr>\n",
       "      <th>5941</th>\n",
       "      <td>7686</td>\n",
       "      <td>30</td>\n",
       "      <td>OPEN</td>\n",
       "      <td>20</td>\n",
       "      <td>20</td>\n",
       "      <td>0</td>\n",
       "      <td>2020-02-28 23:53:00</td>\n",
       "      <td>2020-02-29</td>\n",
       "    </tr>\n",
       "    <tr>\n",
       "      <th>5942</th>\n",
       "      <td>7687</td>\n",
       "      <td>54</td>\n",
       "      <td>OPEN</td>\n",
       "      <td>33</td>\n",
       "      <td>29</td>\n",
       "      <td>4</td>\n",
       "      <td>2020-02-28 23:54:00</td>\n",
       "      <td>2020-02-29</td>\n",
       "    </tr>\n",
       "    <tr>\n",
       "      <th>5943</th>\n",
       "      <td>7688</td>\n",
       "      <td>108</td>\n",
       "      <td>OPEN</td>\n",
       "      <td>40</td>\n",
       "      <td>31</td>\n",
       "      <td>9</td>\n",
       "      <td>2020-02-28 22:57:00</td>\n",
       "      <td>2020-02-29</td>\n",
       "    </tr>\n",
       "    <tr>\n",
       "      <th>5944</th>\n",
       "      <td>7689</td>\n",
       "      <td>56</td>\n",
       "      <td>OPEN</td>\n",
       "      <td>40</td>\n",
       "      <td>37</td>\n",
       "      <td>3</td>\n",
       "      <td>2020-02-28 23:50:00</td>\n",
       "      <td>2020-02-29</td>\n",
       "    </tr>\n",
       "  </tbody>\n",
       "</table>\n",
       "</div>"
      ],
      "text/plain": [
       "      id_Entry  number status  bike_stands  available_bike_stands  \\\n",
       "5940      7685      42   OPEN           30                     10   \n",
       "5941      7686      30   OPEN           20                     20   \n",
       "5942      7687      54   OPEN           33                     29   \n",
       "5943      7688     108   OPEN           40                     31   \n",
       "5944      7689      56   OPEN           40                     37   \n",
       "\n",
       "      available_bikes         last_update data_entry_timestamp  \n",
       "5940               20 2020-02-28 23:52:00           2020-02-29  \n",
       "5941                0 2020-02-28 23:53:00           2020-02-29  \n",
       "5942                4 2020-02-28 23:54:00           2020-02-29  \n",
       "5943                9 2020-02-28 22:57:00           2020-02-29  \n",
       "5944                3 2020-02-28 23:50:00           2020-02-29  "
      ]
     },
     "execution_count": 422,
     "metadata": {},
     "output_type": "execute_result"
    }
   ],
   "source": [
    "bikeDynamic.head()"
   ]
  },
  {
   "cell_type": "code",
   "execution_count": 423,
   "metadata": {},
   "outputs": [
    {
     "data": {
      "text/html": [
       "<div>\n",
       "<style scoped>\n",
       "    .dataframe tbody tr th:only-of-type {\n",
       "        vertical-align: middle;\n",
       "    }\n",
       "\n",
       "    .dataframe tbody tr th {\n",
       "        vertical-align: top;\n",
       "    }\n",
       "\n",
       "    .dataframe thead th {\n",
       "        text-align: right;\n",
       "    }\n",
       "</style>\n",
       "<table border=\"1\" class=\"dataframe\">\n",
       "  <thead>\n",
       "    <tr style=\"text-align: right;\">\n",
       "      <th></th>\n",
       "      <th>weather_main</th>\n",
       "      <th>weather_description</th>\n",
       "      <th>clouds_all</th>\n",
       "      <th>main_temp</th>\n",
       "      <th>main_feels_like</th>\n",
       "      <th>main_pressure</th>\n",
       "      <th>main_humidity</th>\n",
       "      <th>main_temp_min</th>\n",
       "      <th>main_temp_max</th>\n",
       "      <th>wind_speed</th>\n",
       "      <th>wind_deg</th>\n",
       "      <th>visibility</th>\n",
       "      <th>data_entry_timestamp</th>\n",
       "    </tr>\n",
       "  </thead>\n",
       "  <tbody>\n",
       "    <tr>\n",
       "      <th>54</th>\n",
       "      <td>Rain</td>\n",
       "      <td>light rain</td>\n",
       "      <td>75</td>\n",
       "      <td>9</td>\n",
       "      <td>6</td>\n",
       "      <td>977</td>\n",
       "      <td>93</td>\n",
       "      <td>9</td>\n",
       "      <td>10</td>\n",
       "      <td>4.6</td>\n",
       "      <td>170.0</td>\n",
       "      <td>10000.0</td>\n",
       "      <td>2020-02-29 00:00:00</td>\n",
       "    </tr>\n",
       "    <tr>\n",
       "      <th>55</th>\n",
       "      <td>Rain</td>\n",
       "      <td>light rain</td>\n",
       "      <td>75</td>\n",
       "      <td>8</td>\n",
       "      <td>5</td>\n",
       "      <td>977</td>\n",
       "      <td>93</td>\n",
       "      <td>6</td>\n",
       "      <td>9</td>\n",
       "      <td>4.6</td>\n",
       "      <td>170.0</td>\n",
       "      <td>10000.0</td>\n",
       "      <td>2020-02-29 00:10:00</td>\n",
       "    </tr>\n",
       "    <tr>\n",
       "      <th>56</th>\n",
       "      <td>Rain</td>\n",
       "      <td>light rain</td>\n",
       "      <td>75</td>\n",
       "      <td>8</td>\n",
       "      <td>4</td>\n",
       "      <td>977</td>\n",
       "      <td>93</td>\n",
       "      <td>6</td>\n",
       "      <td>9</td>\n",
       "      <td>4.6</td>\n",
       "      <td>170.0</td>\n",
       "      <td>10000.0</td>\n",
       "      <td>2020-02-29 00:20:00</td>\n",
       "    </tr>\n",
       "    <tr>\n",
       "      <th>57</th>\n",
       "      <td>Rain</td>\n",
       "      <td>light rain</td>\n",
       "      <td>75</td>\n",
       "      <td>8</td>\n",
       "      <td>4</td>\n",
       "      <td>977</td>\n",
       "      <td>93</td>\n",
       "      <td>6</td>\n",
       "      <td>9</td>\n",
       "      <td>4.6</td>\n",
       "      <td>170.0</td>\n",
       "      <td>10000.0</td>\n",
       "      <td>2020-02-29 00:30:00</td>\n",
       "    </tr>\n",
       "    <tr>\n",
       "      <th>58</th>\n",
       "      <td>Rain</td>\n",
       "      <td>light rain</td>\n",
       "      <td>75</td>\n",
       "      <td>6</td>\n",
       "      <td>-4</td>\n",
       "      <td>976</td>\n",
       "      <td>87</td>\n",
       "      <td>5</td>\n",
       "      <td>7</td>\n",
       "      <td>13.9</td>\n",
       "      <td>260.0</td>\n",
       "      <td>6000.0</td>\n",
       "      <td>2020-02-29 00:40:00</td>\n",
       "    </tr>\n",
       "  </tbody>\n",
       "</table>\n",
       "</div>"
      ],
      "text/plain": [
       "   weather_main weather_description  clouds_all  main_temp  main_feels_like  \\\n",
       "54         Rain          light rain          75          9                6   \n",
       "55         Rain          light rain          75          8                5   \n",
       "56         Rain          light rain          75          8                4   \n",
       "57         Rain          light rain          75          8                4   \n",
       "58         Rain          light rain          75          6               -4   \n",
       "\n",
       "    main_pressure  main_humidity  main_temp_min  main_temp_max  wind_speed  \\\n",
       "54            977             93              9             10         4.6   \n",
       "55            977             93              6              9         4.6   \n",
       "56            977             93              6              9         4.6   \n",
       "57            977             93              6              9         4.6   \n",
       "58            976             87              5              7        13.9   \n",
       "\n",
       "    wind_deg  visibility data_entry_timestamp  \n",
       "54     170.0     10000.0  2020-02-29 00:00:00  \n",
       "55     170.0     10000.0  2020-02-29 00:10:00  \n",
       "56     170.0     10000.0  2020-02-29 00:20:00  \n",
       "57     170.0     10000.0  2020-02-29 00:30:00  \n",
       "58     260.0      6000.0  2020-02-29 00:40:00  "
      ]
     },
     "execution_count": 423,
     "metadata": {},
     "output_type": "execute_result"
    }
   ],
   "source": [
    "weatherDynamic.head()"
   ]
  },
  {
   "cell_type": "code",
   "execution_count": 424,
   "metadata": {},
   "outputs": [
    {
     "name": "stdout",
     "output_type": "stream",
     "text": [
      "(355410, 20)\n"
     ]
    },
    {
     "data": {
      "text/html": [
       "<div>\n",
       "<style scoped>\n",
       "    .dataframe tbody tr th:only-of-type {\n",
       "        vertical-align: middle;\n",
       "    }\n",
       "\n",
       "    .dataframe tbody tr th {\n",
       "        vertical-align: top;\n",
       "    }\n",
       "\n",
       "    .dataframe thead th {\n",
       "        text-align: right;\n",
       "    }\n",
       "</style>\n",
       "<table border=\"1\" class=\"dataframe\">\n",
       "  <thead>\n",
       "    <tr style=\"text-align: right;\">\n",
       "      <th></th>\n",
       "      <th>id_Entry</th>\n",
       "      <th>number</th>\n",
       "      <th>status</th>\n",
       "      <th>bike_stands</th>\n",
       "      <th>available_bike_stands</th>\n",
       "      <th>available_bikes</th>\n",
       "      <th>last_update</th>\n",
       "      <th>data_entry_timestamp</th>\n",
       "      <th>weather_main</th>\n",
       "      <th>weather_description</th>\n",
       "      <th>clouds_all</th>\n",
       "      <th>main_temp</th>\n",
       "      <th>main_feels_like</th>\n",
       "      <th>main_pressure</th>\n",
       "      <th>main_humidity</th>\n",
       "      <th>main_temp_min</th>\n",
       "      <th>main_temp_max</th>\n",
       "      <th>wind_speed</th>\n",
       "      <th>wind_deg</th>\n",
       "      <th>visibility</th>\n",
       "    </tr>\n",
       "  </thead>\n",
       "  <tbody>\n",
       "    <tr>\n",
       "      <th>0</th>\n",
       "      <td>7685</td>\n",
       "      <td>42</td>\n",
       "      <td>OPEN</td>\n",
       "      <td>30</td>\n",
       "      <td>10</td>\n",
       "      <td>20</td>\n",
       "      <td>2020-02-28 23:52:00</td>\n",
       "      <td>2020-02-29</td>\n",
       "      <td>Rain</td>\n",
       "      <td>light rain</td>\n",
       "      <td>75</td>\n",
       "      <td>9</td>\n",
       "      <td>6</td>\n",
       "      <td>977</td>\n",
       "      <td>93</td>\n",
       "      <td>9</td>\n",
       "      <td>10</td>\n",
       "      <td>4.6</td>\n",
       "      <td>170.0</td>\n",
       "      <td>10000.0</td>\n",
       "    </tr>\n",
       "    <tr>\n",
       "      <th>1</th>\n",
       "      <td>7686</td>\n",
       "      <td>30</td>\n",
       "      <td>OPEN</td>\n",
       "      <td>20</td>\n",
       "      <td>20</td>\n",
       "      <td>0</td>\n",
       "      <td>2020-02-28 23:53:00</td>\n",
       "      <td>2020-02-29</td>\n",
       "      <td>Rain</td>\n",
       "      <td>light rain</td>\n",
       "      <td>75</td>\n",
       "      <td>9</td>\n",
       "      <td>6</td>\n",
       "      <td>977</td>\n",
       "      <td>93</td>\n",
       "      <td>9</td>\n",
       "      <td>10</td>\n",
       "      <td>4.6</td>\n",
       "      <td>170.0</td>\n",
       "      <td>10000.0</td>\n",
       "    </tr>\n",
       "    <tr>\n",
       "      <th>2</th>\n",
       "      <td>7687</td>\n",
       "      <td>54</td>\n",
       "      <td>OPEN</td>\n",
       "      <td>33</td>\n",
       "      <td>29</td>\n",
       "      <td>4</td>\n",
       "      <td>2020-02-28 23:54:00</td>\n",
       "      <td>2020-02-29</td>\n",
       "      <td>Rain</td>\n",
       "      <td>light rain</td>\n",
       "      <td>75</td>\n",
       "      <td>9</td>\n",
       "      <td>6</td>\n",
       "      <td>977</td>\n",
       "      <td>93</td>\n",
       "      <td>9</td>\n",
       "      <td>10</td>\n",
       "      <td>4.6</td>\n",
       "      <td>170.0</td>\n",
       "      <td>10000.0</td>\n",
       "    </tr>\n",
       "    <tr>\n",
       "      <th>3</th>\n",
       "      <td>7688</td>\n",
       "      <td>108</td>\n",
       "      <td>OPEN</td>\n",
       "      <td>40</td>\n",
       "      <td>31</td>\n",
       "      <td>9</td>\n",
       "      <td>2020-02-28 22:57:00</td>\n",
       "      <td>2020-02-29</td>\n",
       "      <td>Rain</td>\n",
       "      <td>light rain</td>\n",
       "      <td>75</td>\n",
       "      <td>9</td>\n",
       "      <td>6</td>\n",
       "      <td>977</td>\n",
       "      <td>93</td>\n",
       "      <td>9</td>\n",
       "      <td>10</td>\n",
       "      <td>4.6</td>\n",
       "      <td>170.0</td>\n",
       "      <td>10000.0</td>\n",
       "    </tr>\n",
       "    <tr>\n",
       "      <th>4</th>\n",
       "      <td>7689</td>\n",
       "      <td>56</td>\n",
       "      <td>OPEN</td>\n",
       "      <td>40</td>\n",
       "      <td>37</td>\n",
       "      <td>3</td>\n",
       "      <td>2020-02-28 23:50:00</td>\n",
       "      <td>2020-02-29</td>\n",
       "      <td>Rain</td>\n",
       "      <td>light rain</td>\n",
       "      <td>75</td>\n",
       "      <td>9</td>\n",
       "      <td>6</td>\n",
       "      <td>977</td>\n",
       "      <td>93</td>\n",
       "      <td>9</td>\n",
       "      <td>10</td>\n",
       "      <td>4.6</td>\n",
       "      <td>170.0</td>\n",
       "      <td>10000.0</td>\n",
       "    </tr>\n",
       "  </tbody>\n",
       "</table>\n",
       "</div>"
      ],
      "text/plain": [
       "   id_Entry  number status  bike_stands  available_bike_stands  \\\n",
       "0      7685      42   OPEN           30                     10   \n",
       "1      7686      30   OPEN           20                     20   \n",
       "2      7687      54   OPEN           33                     29   \n",
       "3      7688     108   OPEN           40                     31   \n",
       "4      7689      56   OPEN           40                     37   \n",
       "\n",
       "   available_bikes         last_update data_entry_timestamp weather_main  \\\n",
       "0               20 2020-02-28 23:52:00           2020-02-29         Rain   \n",
       "1                0 2020-02-28 23:53:00           2020-02-29         Rain   \n",
       "2                4 2020-02-28 23:54:00           2020-02-29         Rain   \n",
       "3                9 2020-02-28 22:57:00           2020-02-29         Rain   \n",
       "4                3 2020-02-28 23:50:00           2020-02-29         Rain   \n",
       "\n",
       "  weather_description  clouds_all  main_temp  main_feels_like  main_pressure  \\\n",
       "0          light rain          75          9                6            977   \n",
       "1          light rain          75          9                6            977   \n",
       "2          light rain          75          9                6            977   \n",
       "3          light rain          75          9                6            977   \n",
       "4          light rain          75          9                6            977   \n",
       "\n",
       "   main_humidity  main_temp_min  main_temp_max  wind_speed  wind_deg  \\\n",
       "0             93              9             10         4.6     170.0   \n",
       "1             93              9             10         4.6     170.0   \n",
       "2             93              9             10         4.6     170.0   \n",
       "3             93              9             10         4.6     170.0   \n",
       "4             93              9             10         4.6     170.0   \n",
       "\n",
       "   visibility  \n",
       "0     10000.0  \n",
       "1     10000.0  \n",
       "2     10000.0  \n",
       "3     10000.0  \n",
       "4     10000.0  "
      ]
     },
     "execution_count": 424,
     "metadata": {},
     "output_type": "execute_result"
    }
   ],
   "source": [
    "dfML = pd.merge(bikeDynamic, weatherDynamic, on='data_entry_timestamp')\n",
    "print(dfML.shape)\n",
    "dfML.head()"
   ]
  },
  {
   "cell_type": "code",
   "execution_count": 425,
   "metadata": {
    "hideCode": false,
    "hidePrompt": false,
    "scrolled": true
   },
   "outputs": [
    {
     "name": "stdout",
     "output_type": "stream",
     "text": [
      "The shape of our features is: (355410, 20) \n",
      " id_Entry                          int64\n",
      "number                            int64\n",
      "status                           object\n",
      "bike_stands                       int64\n",
      "available_bike_stands             int64\n",
      "available_bikes                   int64\n",
      "last_update              datetime64[ns]\n",
      "data_entry_timestamp     datetime64[ns]\n",
      "weather_main                     object\n",
      "weather_description              object\n",
      "clouds_all                        int64\n",
      "main_temp                         int64\n",
      "main_feels_like                   int64\n",
      "main_pressure                     int64\n",
      "main_humidity                     int64\n",
      "main_temp_min                     int64\n",
      "main_temp_max                     int64\n",
      "wind_speed                      float64\n",
      "wind_deg                        float64\n",
      "visibility                      float64\n",
      "dtype: object\n"
     ]
    }
   ],
   "source": [
    "print('The shape of our features is:', dfML.shape,'\\n', dfML.dtypes)"
   ]
  },
  {
   "cell_type": "markdown",
   "metadata": {},
   "source": [
    "### Check logical integrity of data "
   ]
  },
  {
   "cell_type": "markdown",
   "metadata": {},
   "source": [
    "**Data integrity is checked for following cases:**\n",
    " - is \"bike_stands\" $>=$ \"available_bike_stands\" $+$ \"available_bikes\"  [Any other sequence is incorrect]\n",
    " - is \"last_update\" $<=$ \"data_entry_timestamp\" [Any other sequence is incorrect]"
   ]
  },
  {
   "cell_type": "code",
   "execution_count": 426,
   "metadata": {},
   "outputs": [
    {
     "name": "stdout",
     "output_type": "stream",
     "text": [
      "Number of rows failing the test:  18\n"
     ]
    },
    {
     "data": {
      "text/html": [
       "<div>\n",
       "<style scoped>\n",
       "    .dataframe tbody tr th:only-of-type {\n",
       "        vertical-align: middle;\n",
       "    }\n",
       "\n",
       "    .dataframe tbody tr th {\n",
       "        vertical-align: top;\n",
       "    }\n",
       "\n",
       "    .dataframe thead th {\n",
       "        text-align: right;\n",
       "    }\n",
       "</style>\n",
       "<table border=\"1\" class=\"dataframe\">\n",
       "  <thead>\n",
       "    <tr style=\"text-align: right;\">\n",
       "      <th></th>\n",
       "      <th>id_Entry</th>\n",
       "      <th>available_bike_stands</th>\n",
       "      <th>available_bikes</th>\n",
       "      <th>bike_stands</th>\n",
       "    </tr>\n",
       "  </thead>\n",
       "  <tbody>\n",
       "    <tr>\n",
       "      <th>57945</th>\n",
       "      <td>65630</td>\n",
       "      <td>17</td>\n",
       "      <td>0</td>\n",
       "      <td>16</td>\n",
       "    </tr>\n",
       "    <tr>\n",
       "      <th>242855</th>\n",
       "      <td>250540</td>\n",
       "      <td>16</td>\n",
       "      <td>1</td>\n",
       "      <td>16</td>\n",
       "    </tr>\n",
       "    <tr>\n",
       "      <th>242965</th>\n",
       "      <td>250650</td>\n",
       "      <td>16</td>\n",
       "      <td>1</td>\n",
       "      <td>16</td>\n",
       "    </tr>\n",
       "    <tr>\n",
       "      <th>243185</th>\n",
       "      <td>250870</td>\n",
       "      <td>16</td>\n",
       "      <td>1</td>\n",
       "      <td>16</td>\n",
       "    </tr>\n",
       "    <tr>\n",
       "      <th>243295</th>\n",
       "      <td>250980</td>\n",
       "      <td>16</td>\n",
       "      <td>1</td>\n",
       "      <td>16</td>\n",
       "    </tr>\n",
       "  </tbody>\n",
       "</table>\n",
       "</div>"
      ],
      "text/plain": [
       "        id_Entry  available_bike_stands  available_bikes  bike_stands\n",
       "57945      65630                     17                0           16\n",
       "242855    250540                     16                1           16\n",
       "242965    250650                     16                1           16\n",
       "243185    250870                     16                1           16\n",
       "243295    250980                     16                1           16"
      ]
     },
     "execution_count": 426,
     "metadata": {},
     "output_type": "execute_result"
    }
   ],
   "source": [
    "test_1 = dfML[[\"id_Entry\",\"available_bike_stands\",\"available_bikes\",\"bike_stands\"]][dfML[\"available_bike_stands\"].add(dfML[\"available_bikes\"], axis=0)  >\\\n",
    "                                                                         dfML[\"bike_stands\"]]\n",
    "print(\"Number of rows failing the test: \", test_1.shape[0])\n",
    "test_1.head(5)"
   ]
  },
  {
   "cell_type": "markdown",
   "metadata": {},
   "source": [
    "#### Remove errors by adding available_bikes and bike_stands"
   ]
  },
  {
   "cell_type": "code",
   "execution_count": 427,
   "metadata": {},
   "outputs": [],
   "source": [
    "dTest_1 = test_1[\"id_Entry\"]\n",
    "\n",
    "for data in dTest_1: \n",
    "    dfML.loc[(dfML.id_Entry == data),'bike_stands'] = dfML.loc[(dfML.id_Entry == data),'available_bikes'] + dfML.loc[(dfML.id_Entry == data),'available_bike_stands']"
   ]
  },
  {
   "cell_type": "code",
   "execution_count": 428,
   "metadata": {},
   "outputs": [
    {
     "name": "stdout",
     "output_type": "stream",
     "text": [
      "Number of rows failing the test:  0\n"
     ]
    },
    {
     "data": {
      "text/html": [
       "<div>\n",
       "<style scoped>\n",
       "    .dataframe tbody tr th:only-of-type {\n",
       "        vertical-align: middle;\n",
       "    }\n",
       "\n",
       "    .dataframe tbody tr th {\n",
       "        vertical-align: top;\n",
       "    }\n",
       "\n",
       "    .dataframe thead th {\n",
       "        text-align: right;\n",
       "    }\n",
       "</style>\n",
       "<table border=\"1\" class=\"dataframe\">\n",
       "  <thead>\n",
       "    <tr style=\"text-align: right;\">\n",
       "      <th></th>\n",
       "      <th>id_Entry</th>\n",
       "      <th>available_bike_stands</th>\n",
       "      <th>available_bikes</th>\n",
       "      <th>bike_stands</th>\n",
       "    </tr>\n",
       "  </thead>\n",
       "  <tbody>\n",
       "  </tbody>\n",
       "</table>\n",
       "</div>"
      ],
      "text/plain": [
       "Empty DataFrame\n",
       "Columns: [id_Entry, available_bike_stands, available_bikes, bike_stands]\n",
       "Index: []"
      ]
     },
     "execution_count": 428,
     "metadata": {},
     "output_type": "execute_result"
    }
   ],
   "source": [
    "test_1 = dfML[[\"id_Entry\",\"available_bike_stands\",\"available_bikes\",\"bike_stands\"]][dfML[\"available_bike_stands\"].add(dfML[\"available_bikes\"], axis=0)  >\\\n",
    "                                                                         dfML[\"bike_stands\"]]\n",
    "print(\"Number of rows failing the test: \", test_1.shape[0])\n",
    "test_1.head(5)"
   ]
  },
  {
   "cell_type": "markdown",
   "metadata": {},
   "source": [
    "## Encoding"
   ]
  },
  {
   "cell_type": "markdown",
   "metadata": {},
   "source": [
    "#### Dictionary vectorization"
   ]
  },
  {
   "cell_type": "code",
   "execution_count": 429,
   "metadata": {},
   "outputs": [],
   "source": [
    "dfML_enc = pd.get_dummies(dfML, prefix_sep='_')\n",
    "# X head\n",
    "dfML_enc.head()\n",
    "\n",
    "dfML_enc.to_csv(\"FeaturesGetDummies.csv\")"
   ]
  },
  {
   "cell_type": "code",
   "execution_count": 430,
   "metadata": {},
   "outputs": [
    {
     "name": "stdout",
     "output_type": "stream",
     "text": [
      "Shape of features after one-hot encoding: (355410, 42)\n"
     ]
    }
   ],
   "source": [
    "print('Shape of features after one-hot encoding:', dfML_enc.shape)"
   ]
  },
  {
   "cell_type": "markdown",
   "metadata": {},
   "source": [
    "## Features and Labels"
   ]
  },
  {
   "cell_type": "code",
   "execution_count": 431,
   "metadata": {},
   "outputs": [],
   "source": [
    "# return dataframe without target variable for processing\n",
    "def prepareDF(dfML, targetCol):\n",
    "    target = np.array(dfML[targetCol])\n",
    "    \n",
    "    # Remove the target variable from dataframe\n",
    "    dfML= dfML.drop(targetCol, axis = 1)\n",
    "\n",
    "    # Saving feature names for later use\n",
    "    feature_list = list(dfML.columns)\n",
    "\n",
    "    # Convert to numpy array\n",
    "    dfML_array = np.array(dfML)\n",
    "    \n",
    "    return dfML_array, target, feature_list"
   ]
  },
  {
   "cell_type": "markdown",
   "metadata": {},
   "source": [
    "## Training and Testing Sets"
   ]
  },
  {
   "cell_type": "code",
   "execution_count": 432,
   "metadata": {},
   "outputs": [],
   "source": [
    "def trainTestData(features, target):\n",
    "    # Split the data into training and testing sets\n",
    "    train_features, test_features, train_labels, test_labels = train_test_split(features, target, test_size = 0.25,\n",
    "                                                                               random_state = 42)\n",
    "    return train_features, test_features, train_labels, test_labels"
   ]
  },
  {
   "cell_type": "markdown",
   "metadata": {},
   "source": [
    "## Establish Baseline"
   ]
  },
  {
   "cell_type": "code",
   "execution_count": 433,
   "metadata": {},
   "outputs": [],
   "source": [
    "# def baseLine(test_features, feature_list, target):\n",
    "#     # The baseline predictions are the historical averages\n",
    "#     baseline_preds = test_features[:, feature_list.index(target)]\n",
    "\n",
    "#     # Baseline errors, and display average baseline error\n",
    "#     baseline_errors = abs(baseline_preds - test_labels)\n",
    "#     print('Average baseline error: ', round(np.mean(baseline_errors), 2), 'degrees.')"
   ]
  },
  {
   "cell_type": "markdown",
   "metadata": {},
   "source": [
    "## Training the Forest"
   ]
  },
  {
   "cell_type": "code",
   "execution_count": 434,
   "metadata": {
    "hideCode": false,
    "hidePrompt": false
   },
   "outputs": [],
   "source": [
    "def trainRandomForest(train_features, train_labels):\n",
    "    # Instantiate model \n",
    "    rf = RandomForestRegressor(n_estimators= 1000, random_state=42)\n",
    "\n",
    "    # Train the random forest model\n",
    "    rf.fit(train_features, train_labels)\n",
    "    \n",
    "    return rf"
   ]
  },
  {
   "cell_type": "markdown",
   "metadata": {},
   "source": [
    "Model with different hyperparameters"
   ]
  },
  {
   "cell_type": "code",
   "execution_count": 435,
   "metadata": {},
   "outputs": [],
   "source": [
    "# rf_new = RandomForestRegressor(n_estimators = 100, criterion = 'mse', max_depth = None, \n",
    "#                                min_samples_split = 2, min_samples_leaf = 1)"
   ]
  },
  {
   "cell_type": "markdown",
   "metadata": {},
   "source": [
    "## Make Predictions on Test Data"
   ]
  },
  {
   "cell_type": "code",
   "execution_count": 436,
   "metadata": {},
   "outputs": [],
   "source": [
    "def predict(rf, test_features, test_labels):\n",
    "    # Use the forest's predict method on the test data\n",
    "    predictions = rf.predict(test_features) \n",
    "    \n",
    "    return predictions"
   ]
  },
  {
   "cell_type": "markdown",
   "metadata": {},
   "source": [
    "## View Results"
   ]
  },
  {
   "cell_type": "code",
   "execution_count": 437,
   "metadata": {},
   "outputs": [],
   "source": [
    "def result(predictions,test_labels,dates):\n",
    "    # Calculate the absolute errors\n",
    "    errors = abs(predictions - test_labels)\n",
    "\n",
    "    # Print out the mean absolute error (mae)\n",
    "    print('Mean Absolute Error:', round(np.mean(errors), 2), 'degrees.')\n",
    "    \n",
    "    # Calculate mean absolute percentage error (MAPE)\n",
    "    mape = 100 * (errors / test_labels)\n",
    "\n",
    "    # Calculate and display accuracy\n",
    "    accuracy = 100 - np.mean(mape)\n",
    "    print('Accuracy:', round(accuracy, 2), '%.')\n",
    "    \n",
    "    plt.plot(test_labels)\n",
    "    plt.xticks(range(len(dates)), dates)\n",
    "    plt.plot(predictions)\n",
    "    \n",
    "    plt.xlabel('Time')\n",
    "    plt.ylabel('Available stands')\n",
    "\n",
    "\n",
    "#     plt.xlabel('Time')\n",
    "#     plt.ylabel('Available stands')\n",
    "\n",
    "    plt.show()\n",
    "\n"
   ]
  },
  {
   "cell_type": "markdown",
   "metadata": {},
   "source": [
    "## Pipeline"
   ]
  },
  {
   "cell_type": "code",
   "execution_count": 439,
   "metadata": {},
   "outputs": [
    {
     "name": "stdout",
     "output_type": "stream",
     "text": [
      "Training Features Shape: (266557, 41)\n",
      "Training Labels Shape: (266557,)\n",
      "Testing Features Shape: (88853, 41)\n",
      "Testing Labels Shape: (88853,)\n"
     ]
    },
    {
     "ename": "TypeError",
     "evalue": "float() argument must be a string or a number, not 'Timestamp'",
     "output_type": "error",
     "traceback": [
      "\u001b[1;31m---------------------------------------------------------------------------\u001b[0m",
      "\u001b[1;31mTypeError\u001b[0m                                 Traceback (most recent call last)",
      "\u001b[1;32m<ipython-input-439-970417e50ea6>\u001b[0m in \u001b[0;36m<module>\u001b[1;34m\u001b[0m\n\u001b[0;32m     17\u001b[0m \u001b[1;31m# baseLine()\u001b[0m\u001b[1;33m\u001b[0m\u001b[1;33m\u001b[0m\u001b[1;33m\u001b[0m\u001b[0m\n\u001b[0;32m     18\u001b[0m \u001b[1;33m\u001b[0m\u001b[0m\n\u001b[1;32m---> 19\u001b[1;33m \u001b[0mrf\u001b[0m \u001b[1;33m=\u001b[0m \u001b[0mtrainRandomForest\u001b[0m\u001b[1;33m(\u001b[0m\u001b[0mtrain_features\u001b[0m\u001b[1;33m,\u001b[0m \u001b[0mtrain_labels\u001b[0m\u001b[1;33m)\u001b[0m\u001b[1;33m\u001b[0m\u001b[1;33m\u001b[0m\u001b[0m\n\u001b[0m\u001b[0;32m     20\u001b[0m \u001b[0mpredictions\u001b[0m \u001b[1;33m=\u001b[0m \u001b[0mpredictRandomForest\u001b[0m\u001b[1;33m(\u001b[0m\u001b[0mrf\u001b[0m\u001b[1;33m,\u001b[0m\u001b[0mtest_features\u001b[0m\u001b[1;33m,\u001b[0m \u001b[0mtest_labels\u001b[0m\u001b[1;33m)\u001b[0m\u001b[1;33m\u001b[0m\u001b[1;33m\u001b[0m\u001b[0m\n\u001b[0;32m     21\u001b[0m \u001b[0mresult\u001b[0m\u001b[1;33m(\u001b[0m\u001b[0mpredictions\u001b[0m\u001b[1;33m,\u001b[0m\u001b[0mtest_labels\u001b[0m\u001b[1;33m,\u001b[0m\u001b[0mdates\u001b[0m\u001b[1;33m)\u001b[0m\u001b[1;33m\u001b[0m\u001b[1;33m\u001b[0m\u001b[0m\n",
      "\u001b[1;32m<ipython-input-434-9a92b850c598>\u001b[0m in \u001b[0;36mtrainRandomForest\u001b[1;34m(train_features, train_labels)\u001b[0m\n\u001b[0;32m      4\u001b[0m \u001b[1;33m\u001b[0m\u001b[0m\n\u001b[0;32m      5\u001b[0m     \u001b[1;31m# Train the random forest model\u001b[0m\u001b[1;33m\u001b[0m\u001b[1;33m\u001b[0m\u001b[1;33m\u001b[0m\u001b[0m\n\u001b[1;32m----> 6\u001b[1;33m     \u001b[0mrf\u001b[0m\u001b[1;33m.\u001b[0m\u001b[0mfit\u001b[0m\u001b[1;33m(\u001b[0m\u001b[0mtrain_features\u001b[0m\u001b[1;33m,\u001b[0m \u001b[0mtrain_labels\u001b[0m\u001b[1;33m)\u001b[0m\u001b[1;33m\u001b[0m\u001b[1;33m\u001b[0m\u001b[0m\n\u001b[0m\u001b[0;32m      7\u001b[0m \u001b[1;33m\u001b[0m\u001b[0m\n\u001b[0;32m      8\u001b[0m     \u001b[1;32mreturn\u001b[0m \u001b[0mrf\u001b[0m\u001b[1;33m\u001b[0m\u001b[1;33m\u001b[0m\u001b[0m\n",
      "\u001b[1;32m~\\Anaconda3\\envs\\comp30830\\lib\\site-packages\\sklearn\\ensemble\\_forest.py\u001b[0m in \u001b[0;36mfit\u001b[1;34m(self, X, y, sample_weight)\u001b[0m\n\u001b[0;32m    293\u001b[0m         \"\"\"\n\u001b[0;32m    294\u001b[0m         \u001b[1;31m# Validate or convert input data\u001b[0m\u001b[1;33m\u001b[0m\u001b[1;33m\u001b[0m\u001b[1;33m\u001b[0m\u001b[0m\n\u001b[1;32m--> 295\u001b[1;33m         \u001b[0mX\u001b[0m \u001b[1;33m=\u001b[0m \u001b[0mcheck_array\u001b[0m\u001b[1;33m(\u001b[0m\u001b[0mX\u001b[0m\u001b[1;33m,\u001b[0m \u001b[0maccept_sparse\u001b[0m\u001b[1;33m=\u001b[0m\u001b[1;34m\"csc\"\u001b[0m\u001b[1;33m,\u001b[0m \u001b[0mdtype\u001b[0m\u001b[1;33m=\u001b[0m\u001b[0mDTYPE\u001b[0m\u001b[1;33m)\u001b[0m\u001b[1;33m\u001b[0m\u001b[1;33m\u001b[0m\u001b[0m\n\u001b[0m\u001b[0;32m    296\u001b[0m         \u001b[0my\u001b[0m \u001b[1;33m=\u001b[0m \u001b[0mcheck_array\u001b[0m\u001b[1;33m(\u001b[0m\u001b[0my\u001b[0m\u001b[1;33m,\u001b[0m \u001b[0maccept_sparse\u001b[0m\u001b[1;33m=\u001b[0m\u001b[1;34m'csc'\u001b[0m\u001b[1;33m,\u001b[0m \u001b[0mensure_2d\u001b[0m\u001b[1;33m=\u001b[0m\u001b[1;32mFalse\u001b[0m\u001b[1;33m,\u001b[0m \u001b[0mdtype\u001b[0m\u001b[1;33m=\u001b[0m\u001b[1;32mNone\u001b[0m\u001b[1;33m)\u001b[0m\u001b[1;33m\u001b[0m\u001b[1;33m\u001b[0m\u001b[0m\n\u001b[0;32m    297\u001b[0m         \u001b[1;32mif\u001b[0m \u001b[0msample_weight\u001b[0m \u001b[1;32mis\u001b[0m \u001b[1;32mnot\u001b[0m \u001b[1;32mNone\u001b[0m\u001b[1;33m:\u001b[0m\u001b[1;33m\u001b[0m\u001b[1;33m\u001b[0m\u001b[0m\n",
      "\u001b[1;32m~\\Anaconda3\\envs\\comp30830\\lib\\site-packages\\sklearn\\utils\\validation.py\u001b[0m in \u001b[0;36mcheck_array\u001b[1;34m(array, accept_sparse, accept_large_sparse, dtype, order, copy, force_all_finite, ensure_2d, allow_nd, ensure_min_samples, ensure_min_features, warn_on_dtype, estimator)\u001b[0m\n\u001b[0;32m    529\u001b[0m                     \u001b[0marray\u001b[0m \u001b[1;33m=\u001b[0m \u001b[0marray\u001b[0m\u001b[1;33m.\u001b[0m\u001b[0mastype\u001b[0m\u001b[1;33m(\u001b[0m\u001b[0mdtype\u001b[0m\u001b[1;33m,\u001b[0m \u001b[0mcasting\u001b[0m\u001b[1;33m=\u001b[0m\u001b[1;34m\"unsafe\"\u001b[0m\u001b[1;33m,\u001b[0m \u001b[0mcopy\u001b[0m\u001b[1;33m=\u001b[0m\u001b[1;32mFalse\u001b[0m\u001b[1;33m)\u001b[0m\u001b[1;33m\u001b[0m\u001b[1;33m\u001b[0m\u001b[0m\n\u001b[0;32m    530\u001b[0m                 \u001b[1;32melse\u001b[0m\u001b[1;33m:\u001b[0m\u001b[1;33m\u001b[0m\u001b[1;33m\u001b[0m\u001b[0m\n\u001b[1;32m--> 531\u001b[1;33m                     \u001b[0marray\u001b[0m \u001b[1;33m=\u001b[0m \u001b[0mnp\u001b[0m\u001b[1;33m.\u001b[0m\u001b[0masarray\u001b[0m\u001b[1;33m(\u001b[0m\u001b[0marray\u001b[0m\u001b[1;33m,\u001b[0m \u001b[0morder\u001b[0m\u001b[1;33m=\u001b[0m\u001b[0morder\u001b[0m\u001b[1;33m,\u001b[0m \u001b[0mdtype\u001b[0m\u001b[1;33m=\u001b[0m\u001b[0mdtype\u001b[0m\u001b[1;33m)\u001b[0m\u001b[1;33m\u001b[0m\u001b[1;33m\u001b[0m\u001b[0m\n\u001b[0m\u001b[0;32m    532\u001b[0m             \u001b[1;32mexcept\u001b[0m \u001b[0mComplexWarning\u001b[0m\u001b[1;33m:\u001b[0m\u001b[1;33m\u001b[0m\u001b[1;33m\u001b[0m\u001b[0m\n\u001b[0;32m    533\u001b[0m                 raise ValueError(\"Complex data not supported\\n\"\n",
      "\u001b[1;32m~\\Anaconda3\\envs\\comp30830\\lib\\site-packages\\numpy\\core\\_asarray.py\u001b[0m in \u001b[0;36masarray\u001b[1;34m(a, dtype, order)\u001b[0m\n\u001b[0;32m     83\u001b[0m \u001b[1;33m\u001b[0m\u001b[0m\n\u001b[0;32m     84\u001b[0m     \"\"\"\n\u001b[1;32m---> 85\u001b[1;33m     \u001b[1;32mreturn\u001b[0m \u001b[0marray\u001b[0m\u001b[1;33m(\u001b[0m\u001b[0ma\u001b[0m\u001b[1;33m,\u001b[0m \u001b[0mdtype\u001b[0m\u001b[1;33m,\u001b[0m \u001b[0mcopy\u001b[0m\u001b[1;33m=\u001b[0m\u001b[1;32mFalse\u001b[0m\u001b[1;33m,\u001b[0m \u001b[0morder\u001b[0m\u001b[1;33m=\u001b[0m\u001b[0morder\u001b[0m\u001b[1;33m)\u001b[0m\u001b[1;33m\u001b[0m\u001b[1;33m\u001b[0m\u001b[0m\n\u001b[0m\u001b[0;32m     86\u001b[0m \u001b[1;33m\u001b[0m\u001b[0m\n\u001b[0;32m     87\u001b[0m \u001b[1;33m\u001b[0m\u001b[0m\n",
      "\u001b[1;31mTypeError\u001b[0m: float() argument must be a string or a number, not 'Timestamp'"
     ]
    }
   ],
   "source": [
    "# Data processing pipeline \n",
    "\n",
    "dfML_pipeline = dfML_enc\n",
    "targetCol = ['available_bikes','available_bike_stands']\n",
    "i = 1\n",
    "\n",
    "features, target, feature_list = prepareDF(dfML_pipeline,targetCol[i])\n",
    "train_features, test_features, train_labels, test_labels = trainTestData(features, target)\n",
    "\n",
    "dates = test_features[:, feature_list.index('data_entry_timestamp')]\n",
    "\n",
    "print('Training Features Shape:', train_features.shape)\n",
    "print('Training Labels Shape:', train_labels.shape)\n",
    "print('Testing Features Shape:', test_features.shape)\n",
    "print('Testing Labels Shape:', test_labels.shape)\n",
    "\n",
    "# baseLine()\n",
    "\n",
    "rf = trainRandomForest(train_features, train_labels)\n",
    "predictions = predictRandomForest(rf,test_features, test_labels)\n",
    "result(predictions,test_labels,dates)"
   ]
  },
  {
   "cell_type": "markdown",
   "metadata": {},
   "source": [
    "## Visualizing a Single Decision Tree"
   ]
  },
  {
   "cell_type": "code",
   "execution_count": null,
   "metadata": {},
   "outputs": [],
   "source": [
    "# Import tools needed for visualization\n",
    "from sklearn.tree import export_graphviz\n",
    "import pydot\n",
    "\n",
    "# Pull out one tree from the forest\n",
    "tree = rf.estimators_[5]\n",
    "\n",
    "# Export the image to a dot file\n",
    "export_graphviz(tree, out_file = 'tree.dot', feature_names = feature_list, rounded = True, precision = 1)\n",
    "\n",
    "# Use dot file to create a graph\n",
    "(graph, ) = pydot.graph_from_dot_file('tree.dot')\n",
    "\n",
    "# Write graph to a png file\n",
    "graph.write_png('tree.png'); "
   ]
  },
  {
   "cell_type": "markdown",
   "metadata": {},
   "source": [
    "![Decision Tree](tree.png)"
   ]
  },
  {
   "cell_type": "code",
   "execution_count": null,
   "metadata": {},
   "outputs": [],
   "source": [
    "print('The depth of this tree is:', tree.tree_.max_depth)"
   ]
  },
  {
   "cell_type": "markdown",
   "metadata": {},
   "source": [
    "Smaller tree for visualization."
   ]
  },
  {
   "cell_type": "code",
   "execution_count": null,
   "metadata": {},
   "outputs": [],
   "source": [
    "# Limit depth of tree to 2 levels\n",
    "rf_small = RandomForestRegressor(n_estimators=10, max_depth = 3, random_state=42)\n",
    "rf_small.fit(train_features, train_labels)\n",
    "\n",
    "# Extract the small tree\n",
    "tree_small = rf_small.estimators_[5]\n",
    "\n",
    "# Save the tree as a png image\n",
    "export_graphviz(tree_small, out_file = 'small_tree.dot', feature_names = feature_list, rounded = True, precision = 1)\n",
    "\n",
    "(graph, ) = pydot.graph_from_dot_file('small_tree.dot')\n",
    "\n",
    "graph.write_png('small_tree.png')"
   ]
  },
  {
   "cell_type": "markdown",
   "metadata": {},
   "source": [
    "![Small Decision Tree](small_tree.PNG)"
   ]
  },
  {
   "cell_type": "markdown",
   "metadata": {},
   "source": [
    "### Annotated Version of Tree"
   ]
  },
  {
   "cell_type": "markdown",
   "metadata": {},
   "source": [
    "![Annotated Decision Tree](small_tree_annotated.PNG)"
   ]
  },
  {
   "cell_type": "markdown",
   "metadata": {},
   "source": [
    "## Variable Importances"
   ]
  },
  {
   "cell_type": "code",
   "execution_count": null,
   "metadata": {},
   "outputs": [],
   "source": [
    "# Get numerical feature importances\n",
    "importances = list(rf.feature_importances_)\n",
    "\n",
    "# List of tuples with variable and importance\n",
    "feature_importances = [(feature, round(importance, 2)) for feature, importance in zip(feature_list, importances)]\n",
    "\n",
    "# Sort the feature importances by most important first\n",
    "feature_importances = sorted(feature_importances, key = lambda x: x[1], reverse = True)\n",
    "\n",
    "# Print out the feature and importances \n",
    "[print('Variable: {:20} Importance: {}'.format(*pair)) for pair in feature_importances];"
   ]
  },
  {
   "cell_type": "markdown",
   "metadata": {},
   "source": [
    "### Two Most Important Features"
   ]
  },
  {
   "cell_type": "code",
   "execution_count": null,
   "metadata": {},
   "outputs": [],
   "source": [
    "# New random forest with only the two most important variables\n",
    "rf_most_important = RandomForestRegressor(n_estimators= 1000, random_state=42)\n",
    "\n",
    "# Extract the two most important features\n",
    "important_indices = [feature_list.index('temp_1'), feature_list.index('average')]\n",
    "train_important = train_features[:, important_indices]\n",
    "test_important = test_features[:, important_indices]\n",
    "\n",
    "# Train the random forest\n",
    "rf_most_important.fit(train_important, train_labels)\n",
    "\n",
    "# Make predictions and determine the error\n",
    "predictions = rf_most_important.predict(test_important)\n",
    "\n",
    "errors = abs(predictions - test_labels)\n",
    "\n",
    "# Display the performance metrics\n",
    "print('Mean Absolute Error:', round(np.mean(errors), 2), 'degrees.')\n",
    "\n",
    "mape = np.mean(100 * (errors / test_labels))\n",
    "accuracy = 100 - mape\n",
    "\n",
    "print('Accuracy:', round(accuracy, 2), '%.')"
   ]
  },
  {
   "cell_type": "markdown",
   "metadata": {
    "collapsed": true
   },
   "source": [
    "## Visualizations"
   ]
  },
  {
   "cell_type": "code",
   "execution_count": null,
   "metadata": {},
   "outputs": [],
   "source": [
    "# Import matplotlib for plotting and use magic command for Jupyter Notebooks\n",
    "import matplotlib.pyplot as plt\n",
    "\n",
    "%matplotlib inline\n",
    "\n",
    "# Set the style\n",
    "plt.style.use('fivethirtyeight')\n",
    "\n",
    "# list of x locations for plotting\n",
    "x_values = list(range(len(importances)))\n",
    "\n",
    "# Make a bar chart\n",
    "plt.bar(x_values, importances, orientation = 'vertical')\n",
    "\n",
    "# Tick labels for x axis\n",
    "plt.xticks(x_values, feature_list, rotation='vertical')\n",
    "\n",
    "# Axis labels and title\n",
    "plt.ylabel('Importance'); plt.xlabel('Variable'); plt.title('Variable Importances'); "
   ]
  },
  {
   "cell_type": "code",
   "execution_count": null,
   "metadata": {},
   "outputs": [],
   "source": [
    "import datetime\n",
    "\n",
    "# Dates of training values\n",
    "months = features[:, feature_list.index('month')]\n",
    "days = features[:, feature_list.index('day')]\n",
    "years = features[:, feature_list.index('year')]\n",
    "\n",
    "# List and then convert to datetime object\n",
    "dates = [str(int(year)) + '-' + str(int(month)) + '-' + str(int(day)) for year, month, day in zip(years, months, days)]\n",
    "dates = [datetime.datetime.strptime(date, '%Y-%m-%d') for date in dates]\n",
    "\n",
    "# Dataframe with true values and dates\n",
    "true_data = pd.DataFrame(data = {'date': dates, 'actual': labels})\n",
    "\n",
    "# Dates of predictions\n",
    "months = test_features[:, feature_list.index('month')]\n",
    "days = test_features[:, feature_list.index('day')]\n",
    "years = test_features[:, feature_list.index('year')]\n",
    "\n",
    "# Column of dates\n",
    "test_dates = [str(int(year)) + '-' + str(int(month)) + '-' + str(int(day)) for year, month, day in zip(years, months, days)]\n",
    "\n",
    "# Convert to datetime objects\n",
    "test_dates = [datetime.datetime.strptime(date, '%Y-%m-%d') for date in test_dates]\n",
    "\n",
    "# Dataframe with predictions and dates\n",
    "predictions_data = pd.DataFrame(data = {'date': test_dates, 'prediction': predictions}) "
   ]
  },
  {
   "cell_type": "code",
   "execution_count": null,
   "metadata": {},
   "outputs": [],
   "source": [
    "# Plot the actual values\n",
    "plt.plot(true_data['date'], true_data['actual'], 'b-', label = 'actual')\n",
    "\n",
    "# Plot the predicted values\n",
    "plt.plot(predictions_data['date'], predictions_data['prediction'], 'ro', label = 'prediction')\n",
    "plt.xticks(rotation = '60'); \n",
    "plt.legend()\n",
    "\n",
    "# Graph labels\n",
    "plt.xlabel('Date'); plt.ylabel('Maximum Temperature (F)'); plt.title('Actual and Predicted Values');\n"
   ]
  },
  {
   "cell_type": "code",
   "execution_count": null,
   "metadata": {},
   "outputs": [],
   "source": [
    "# Make the data accessible for plotting\n",
    "true_data['temp_1'] = features[:, feature_list.index('temp_1')]\n",
    "true_data['average'] = features[:, feature_list.index('average')]\n",
    "true_data['friend'] = features[:, feature_list.index('friend')]\n",
    "\n",
    "# Plot all the data as lines\n",
    "plt.plot(true_data['date'], true_data['actual'], 'b-', label  = 'actual', alpha = 1.0)\n",
    "plt.plot(true_data['date'], true_data['temp_1'], 'y-', label  = 'temp_1', alpha = 1.0)\n",
    "plt.plot(true_data['date'], true_data['average'], 'k-', label = 'average', alpha = 0.8)\n",
    "plt.plot(true_data['date'], true_data['friend'], 'r-', label = 'friend', alpha = 0.3)\n",
    "\n",
    "# Formatting plot\n",
    "plt.legend(); plt.xticks(rotation = '60');\n",
    "\n",
    "# Lables and title\n",
    "plt.xlabel('Date'); plt.ylabel('Maximum Temperature (F)'); plt.title('Actual Max Temp and Variables');"
   ]
  },
  {
   "cell_type": "code",
   "execution_count": null,
   "metadata": {},
   "outputs": [],
   "source": []
  }
 ],
 "metadata": {
  "hide_code_all_hidden": false,
  "kernelspec": {
   "display_name": "Python 3",
   "language": "python",
   "name": "python3"
  },
  "language_info": {
   "codemirror_mode": {
    "name": "ipython",
    "version": 3
   },
   "file_extension": ".py",
   "mimetype": "text/x-python",
   "name": "python",
   "nbconvert_exporter": "python",
   "pygments_lexer": "ipython3",
   "version": "3.7.6"
  }
 },
 "nbformat": 4,
 "nbformat_minor": 2
}

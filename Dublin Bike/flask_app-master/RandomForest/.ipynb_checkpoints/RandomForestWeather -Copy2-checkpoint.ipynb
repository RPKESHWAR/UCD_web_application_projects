{
 "cells": [
  {
   "cell_type": "markdown",
   "metadata": {},
   "source": [
    "get format for datetime inputs [day hour minute year month2 month3 mon tue wed thu fri sat sun]"
   ]
  },
  {
   "cell_type": "markdown",
   "metadata": {},
   "source": [
    "# Data Preparation"
   ]
  },
  {
   "cell_type": "code",
   "execution_count": 1,
   "metadata": {
    "hideCode": false,
    "hidePrompt": false
   },
   "outputs": [],
   "source": [
    "# Import pandas, numpy, matplotlib, seaborn libraries\n",
    "import pandas as pd\n",
    "import numpy as np\n",
    "import matplotlib.pyplot as plt\n",
    "import matplotlib.patches as mpatches\n",
    "import datetime\n",
    "\n",
    "# Using Skicit-learn to split data into training and testing sets\n",
    "from sklearn.model_selection import train_test_split\n",
    "from sklearn.feature_extraction import DictVectorizer\n",
    "from sklearn.ensemble import RandomForestRegressor\n",
    "from sklearn import metrics\n",
    "from sklearn import preprocessing\n",
    "import pickle\n",
    "\n",
    "# hide ipykernel warnings \n",
    "import warnings\n",
    "warnings.filterwarnings('ignore')\n",
    "\n",
    "%matplotlib inline"
   ]
  },
  {
   "cell_type": "markdown",
   "metadata": {},
   "source": [
    "## Import data"
   ]
  },
  {
   "cell_type": "markdown",
   "metadata": {},
   "source": [
    "### Import weather dynamic data from csv into dataframe"
   ]
  },
  {
   "cell_type": "code",
   "execution_count": 2,
   "metadata": {
    "scrolled": true
   },
   "outputs": [
    {
     "data": {
      "text/html": [
       "<div>\n",
       "<style scoped>\n",
       "    .dataframe tbody tr th:only-of-type {\n",
       "        vertical-align: middle;\n",
       "    }\n",
       "\n",
       "    .dataframe tbody tr th {\n",
       "        vertical-align: top;\n",
       "    }\n",
       "\n",
       "    .dataframe thead th {\n",
       "        text-align: right;\n",
       "    }\n",
       "</style>\n",
       "<table border=\"1\" class=\"dataframe\">\n",
       "  <thead>\n",
       "    <tr style=\"text-align: right;\">\n",
       "      <th></th>\n",
       "      <th>main_temp</th>\n",
       "      <th>main_feels_like</th>\n",
       "      <th>main_pressure</th>\n",
       "      <th>main_humidity</th>\n",
       "      <th>main_temp_min</th>\n",
       "      <th>main_temp_max</th>\n",
       "      <th>wind_speed</th>\n",
       "      <th>wind_deg</th>\n",
       "      <th>data_entry_timestamp</th>\n",
       "    </tr>\n",
       "  </thead>\n",
       "  <tbody>\n",
       "    <tr>\n",
       "      <th>3427</th>\n",
       "      <td>11</td>\n",
       "      <td>9</td>\n",
       "      <td>1017</td>\n",
       "      <td>58</td>\n",
       "      <td>9</td>\n",
       "      <td>12</td>\n",
       "      <td>1.0</td>\n",
       "      <td>NaN</td>\n",
       "      <td>3/24/2020 11:00</td>\n",
       "    </tr>\n",
       "    <tr>\n",
       "      <th>3428</th>\n",
       "      <td>11</td>\n",
       "      <td>9</td>\n",
       "      <td>1017</td>\n",
       "      <td>58</td>\n",
       "      <td>9</td>\n",
       "      <td>12</td>\n",
       "      <td>1.0</td>\n",
       "      <td>NaN</td>\n",
       "      <td>3/24/2020 11:10</td>\n",
       "    </tr>\n",
       "    <tr>\n",
       "      <th>3429</th>\n",
       "      <td>11</td>\n",
       "      <td>7</td>\n",
       "      <td>1017</td>\n",
       "      <td>62</td>\n",
       "      <td>10</td>\n",
       "      <td>12</td>\n",
       "      <td>4.1</td>\n",
       "      <td>200.0</td>\n",
       "      <td>3/24/2020 11:20</td>\n",
       "    </tr>\n",
       "    <tr>\n",
       "      <th>3430</th>\n",
       "      <td>11</td>\n",
       "      <td>7</td>\n",
       "      <td>1017</td>\n",
       "      <td>62</td>\n",
       "      <td>10</td>\n",
       "      <td>12</td>\n",
       "      <td>4.1</td>\n",
       "      <td>200.0</td>\n",
       "      <td>3/24/2020 11:30</td>\n",
       "    </tr>\n",
       "    <tr>\n",
       "      <th>3431</th>\n",
       "      <td>12</td>\n",
       "      <td>8</td>\n",
       "      <td>1017</td>\n",
       "      <td>62</td>\n",
       "      <td>10</td>\n",
       "      <td>12</td>\n",
       "      <td>4.1</td>\n",
       "      <td>200.0</td>\n",
       "      <td>3/24/2020 11:40</td>\n",
       "    </tr>\n",
       "  </tbody>\n",
       "</table>\n",
       "</div>"
      ],
      "text/plain": [
       "      main_temp  main_feels_like  main_pressure  main_humidity  main_temp_min  \\\n",
       "3427         11                9           1017             58              9   \n",
       "3428         11                9           1017             58              9   \n",
       "3429         11                7           1017             62             10   \n",
       "3430         11                7           1017             62             10   \n",
       "3431         12                8           1017             62             10   \n",
       "\n",
       "      main_temp_max  wind_speed  wind_deg data_entry_timestamp  \n",
       "3427             12         1.0       NaN      3/24/2020 11:00  \n",
       "3428             12         1.0       NaN      3/24/2020 11:10  \n",
       "3429             12         4.1     200.0      3/24/2020 11:20  \n",
       "3430             12         4.1     200.0      3/24/2020 11:30  \n",
       "3431             12         4.1     200.0      3/24/2020 11:40  "
      ]
     },
     "execution_count": 2,
     "metadata": {},
     "output_type": "execute_result"
    }
   ],
   "source": [
    "# Read in data as pandas dataframe and display first 5 rows\n",
    "weatherDynamic = pd.read_csv('dWeatherD.csv')\n",
    "weatherDynamic.reset_index(drop=True)\n",
    "weatherDynamic = weatherDynamic[['main_temp','main_feels_like',\\\n",
    "                               'main_pressure','main_humidity','main_temp_min', 'main_temp_max', \\\n",
    "                                'wind_speed', 'wind_deg','data_entry_timestamp']]\n",
    "weatherDynamic.reset_index(drop=True)\n",
    "\n",
    "weatherDynamic.tail(5)"
   ]
  },
  {
   "cell_type": "markdown",
   "metadata": {},
   "source": [
    "#### check for shape"
   ]
  },
  {
   "cell_type": "code",
   "execution_count": 3,
   "metadata": {
    "hideCode": false,
    "hidePrompt": false,
    "scrolled": true
   },
   "outputs": [
    {
     "name": "stdout",
     "output_type": "stream",
     "text": [
      "The shape of our features is: (3432, 9) \n",
      " main_temp                 int64\n",
      "main_feels_like           int64\n",
      "main_pressure             int64\n",
      "main_humidity             int64\n",
      "main_temp_min             int64\n",
      "main_temp_max             int64\n",
      "wind_speed              float64\n",
      "wind_deg                float64\n",
      "data_entry_timestamp     object\n",
      "dtype: object\n"
     ]
    }
   ],
   "source": [
    "print('The shape of our features is:', weatherDynamic.shape,'\\n', weatherDynamic.dtypes)"
   ]
  },
  {
   "cell_type": "markdown",
   "metadata": {},
   "source": [
    "#### check for Null entries"
   ]
  },
  {
   "cell_type": "code",
   "execution_count": 4,
   "metadata": {
    "scrolled": false
   },
   "outputs": [
    {
     "data": {
      "text/plain": [
       "main_temp                 0\n",
       "main_feels_like           0\n",
       "main_pressure             0\n",
       "main_humidity             0\n",
       "main_temp_min             0\n",
       "main_temp_max             0\n",
       "wind_speed                0\n",
       "wind_deg                109\n",
       "data_entry_timestamp      0\n",
       "dtype: int64"
      ]
     },
     "execution_count": 4,
     "metadata": {},
     "output_type": "execute_result"
    }
   ],
   "source": [
    "weatherDynamic.isnull().sum()"
   ]
  },
  {
   "cell_type": "markdown",
   "metadata": {},
   "source": [
    "#### Fill Null entries"
   ]
  },
  {
   "cell_type": "code",
   "execution_count": 5,
   "metadata": {},
   "outputs": [],
   "source": [
    "weatherDynamic.loc[weatherDynamic['wind_deg'].isnull(),('wind_deg')] = weatherDynamic['wind_deg'].ffill()"
   ]
  },
  {
   "cell_type": "code",
   "execution_count": 6,
   "metadata": {
    "scrolled": true
   },
   "outputs": [
    {
     "data": {
      "text/plain": [
       "main_temp               0\n",
       "main_feels_like         0\n",
       "main_pressure           0\n",
       "main_humidity           0\n",
       "main_temp_min           0\n",
       "main_temp_max           0\n",
       "wind_speed              0\n",
       "wind_deg                0\n",
       "data_entry_timestamp    0\n",
       "dtype: int64"
      ]
     },
     "execution_count": 6,
     "metadata": {},
     "output_type": "execute_result"
    }
   ],
   "source": [
    "weatherDynamic.isnull().sum()"
   ]
  },
  {
   "cell_type": "markdown",
   "metadata": {},
   "source": [
    "## Process and normalise dates"
   ]
  },
  {
   "cell_type": "markdown",
   "metadata": {},
   "source": [
    "**Observation on spreadsheet state that results for date 28 February and 24 March are patial. Hence, they are to be dropped for data consistency.** "
   ]
  },
  {
   "cell_type": "markdown",
   "metadata": {},
   "source": [
    "### dublin weather"
   ]
  },
  {
   "cell_type": "code",
   "execution_count": 7,
   "metadata": {
    "scrolled": true
   },
   "outputs": [
    {
     "data": {
      "text/html": [
       "<div>\n",
       "<style scoped>\n",
       "    .dataframe tbody tr th:only-of-type {\n",
       "        vertical-align: middle;\n",
       "    }\n",
       "\n",
       "    .dataframe tbody tr th {\n",
       "        vertical-align: top;\n",
       "    }\n",
       "\n",
       "    .dataframe thead th {\n",
       "        text-align: right;\n",
       "    }\n",
       "</style>\n",
       "<table border=\"1\" class=\"dataframe\">\n",
       "  <thead>\n",
       "    <tr style=\"text-align: right;\">\n",
       "      <th></th>\n",
       "      <th>main_temp</th>\n",
       "      <th>main_feels_like</th>\n",
       "      <th>main_pressure</th>\n",
       "      <th>main_humidity</th>\n",
       "      <th>main_temp_min</th>\n",
       "      <th>main_temp_max</th>\n",
       "      <th>wind_speed</th>\n",
       "      <th>wind_deg</th>\n",
       "      <th>data_entry_timestamp</th>\n",
       "    </tr>\n",
       "  </thead>\n",
       "  <tbody>\n",
       "    <tr>\n",
       "      <th>3356</th>\n",
       "      <td>7</td>\n",
       "      <td>5</td>\n",
       "      <td>1021</td>\n",
       "      <td>70</td>\n",
       "      <td>6</td>\n",
       "      <td>8</td>\n",
       "      <td>1.5</td>\n",
       "      <td>100.0</td>\n",
       "      <td>2020-03-23 23:10:00</td>\n",
       "    </tr>\n",
       "    <tr>\n",
       "      <th>3357</th>\n",
       "      <td>7</td>\n",
       "      <td>4</td>\n",
       "      <td>1020</td>\n",
       "      <td>70</td>\n",
       "      <td>6</td>\n",
       "      <td>8</td>\n",
       "      <td>2.1</td>\n",
       "      <td>110.0</td>\n",
       "      <td>2020-03-23 23:20:00</td>\n",
       "    </tr>\n",
       "    <tr>\n",
       "      <th>3358</th>\n",
       "      <td>7</td>\n",
       "      <td>4</td>\n",
       "      <td>1020</td>\n",
       "      <td>70</td>\n",
       "      <td>6</td>\n",
       "      <td>8</td>\n",
       "      <td>2.1</td>\n",
       "      <td>110.0</td>\n",
       "      <td>2020-03-23 23:30:00</td>\n",
       "    </tr>\n",
       "    <tr>\n",
       "      <th>3359</th>\n",
       "      <td>7</td>\n",
       "      <td>4</td>\n",
       "      <td>1020</td>\n",
       "      <td>70</td>\n",
       "      <td>6</td>\n",
       "      <td>8</td>\n",
       "      <td>2.1</td>\n",
       "      <td>110.0</td>\n",
       "      <td>2020-03-23 23:40:00</td>\n",
       "    </tr>\n",
       "    <tr>\n",
       "      <th>3360</th>\n",
       "      <td>7</td>\n",
       "      <td>4</td>\n",
       "      <td>1020</td>\n",
       "      <td>75</td>\n",
       "      <td>6</td>\n",
       "      <td>8</td>\n",
       "      <td>2.6</td>\n",
       "      <td>150.0</td>\n",
       "      <td>2020-03-23 23:50:00</td>\n",
       "    </tr>\n",
       "  </tbody>\n",
       "</table>\n",
       "</div>"
      ],
      "text/plain": [
       "      main_temp  main_feels_like  main_pressure  main_humidity  main_temp_min  \\\n",
       "3356          7                5           1021             70              6   \n",
       "3357          7                4           1020             70              6   \n",
       "3358          7                4           1020             70              6   \n",
       "3359          7                4           1020             70              6   \n",
       "3360          7                4           1020             75              6   \n",
       "\n",
       "      main_temp_max  wind_speed  wind_deg data_entry_timestamp  \n",
       "3356              8         1.5     100.0  2020-03-23 23:10:00  \n",
       "3357              8         2.1     110.0  2020-03-23 23:20:00  \n",
       "3358              8         2.1     110.0  2020-03-23 23:30:00  \n",
       "3359              8         2.1     110.0  2020-03-23 23:40:00  \n",
       "3360              8         2.6     150.0  2020-03-23 23:50:00  "
      ]
     },
     "execution_count": 7,
     "metadata": {},
     "output_type": "execute_result"
    }
   ],
   "source": [
    "#DATETIME DATA\n",
    "\n",
    "# Select columns containing datetime data\n",
    "continous_date_columns = weatherDynamic[['data_entry_timestamp']].columns\n",
    "\n",
    "# Assign object type datetime to columns enlisted in continous_date_columns\n",
    "for column in continous_date_columns:\n",
    "    weatherDynamic[column] = pd.to_datetime(weatherDynamic[column])   \n",
    "    \n",
    "end_date = pd.to_datetime('2020-03-24')\n",
    "start_date = pd.to_datetime('2020-02-28')\n",
    "\n",
    "# Ommit partial data for dates 28-2-2020 and 24-3-2020\n",
    "mask = (weatherDynamic['data_entry_timestamp'].dt.date > start_date) & (weatherDynamic['data_entry_timestamp'].dt.date < end_date)\n",
    "weatherDynamic = weatherDynamic.loc[mask]\n",
    "\n",
    "for column in continous_date_columns:\n",
    "    weatherDynamic[column] = pd.to_datetime(weatherDynamic[column])   \n",
    "    \n",
    "weatherDynamic.tail()"
   ]
  },
  {
   "cell_type": "code",
   "execution_count": 8,
   "metadata": {
    "hideCode": false,
    "hidePrompt": false,
    "scrolled": true
   },
   "outputs": [
    {
     "name": "stdout",
     "output_type": "stream",
     "text": [
      "The shape of our features is: (3307, 9) \n",
      " main_temp                        int64\n",
      "main_feels_like                  int64\n",
      "main_pressure                    int64\n",
      "main_humidity                    int64\n",
      "main_temp_min                    int64\n",
      "main_temp_max                    int64\n",
      "wind_speed                     float64\n",
      "wind_deg                       float64\n",
      "data_entry_timestamp    datetime64[ns]\n",
      "dtype: object\n"
     ]
    }
   ],
   "source": [
    "print('The shape of our features is:', weatherDynamic.shape,'\\n', weatherDynamic.dtypes)"
   ]
  },
  {
   "cell_type": "code",
   "execution_count": 9,
   "metadata": {},
   "outputs": [
    {
     "data": {
      "text/html": [
       "<div>\n",
       "<style scoped>\n",
       "    .dataframe tbody tr th:only-of-type {\n",
       "        vertical-align: middle;\n",
       "    }\n",
       "\n",
       "    .dataframe tbody tr th {\n",
       "        vertical-align: top;\n",
       "    }\n",
       "\n",
       "    .dataframe thead th {\n",
       "        text-align: right;\n",
       "    }\n",
       "</style>\n",
       "<table border=\"1\" class=\"dataframe\">\n",
       "  <thead>\n",
       "    <tr style=\"text-align: right;\">\n",
       "      <th></th>\n",
       "      <th>main_temp</th>\n",
       "      <th>main_feels_like</th>\n",
       "      <th>main_pressure</th>\n",
       "      <th>main_humidity</th>\n",
       "      <th>main_temp_min</th>\n",
       "      <th>main_temp_max</th>\n",
       "      <th>wind_speed</th>\n",
       "      <th>wind_deg</th>\n",
       "      <th>data_entry_timestamp</th>\n",
       "    </tr>\n",
       "  </thead>\n",
       "  <tbody>\n",
       "    <tr>\n",
       "      <th>54</th>\n",
       "      <td>9</td>\n",
       "      <td>6</td>\n",
       "      <td>977</td>\n",
       "      <td>93</td>\n",
       "      <td>9</td>\n",
       "      <td>10</td>\n",
       "      <td>4.6</td>\n",
       "      <td>170.0</td>\n",
       "      <td>2020-02-29 00:00:00</td>\n",
       "    </tr>\n",
       "    <tr>\n",
       "      <th>55</th>\n",
       "      <td>8</td>\n",
       "      <td>5</td>\n",
       "      <td>977</td>\n",
       "      <td>93</td>\n",
       "      <td>6</td>\n",
       "      <td>9</td>\n",
       "      <td>4.6</td>\n",
       "      <td>170.0</td>\n",
       "      <td>2020-02-29 00:10:00</td>\n",
       "    </tr>\n",
       "    <tr>\n",
       "      <th>56</th>\n",
       "      <td>8</td>\n",
       "      <td>4</td>\n",
       "      <td>977</td>\n",
       "      <td>93</td>\n",
       "      <td>6</td>\n",
       "      <td>9</td>\n",
       "      <td>4.6</td>\n",
       "      <td>170.0</td>\n",
       "      <td>2020-02-29 00:20:00</td>\n",
       "    </tr>\n",
       "    <tr>\n",
       "      <th>57</th>\n",
       "      <td>8</td>\n",
       "      <td>4</td>\n",
       "      <td>977</td>\n",
       "      <td>93</td>\n",
       "      <td>6</td>\n",
       "      <td>9</td>\n",
       "      <td>4.6</td>\n",
       "      <td>170.0</td>\n",
       "      <td>2020-02-29 00:30:00</td>\n",
       "    </tr>\n",
       "    <tr>\n",
       "      <th>58</th>\n",
       "      <td>6</td>\n",
       "      <td>-4</td>\n",
       "      <td>976</td>\n",
       "      <td>87</td>\n",
       "      <td>5</td>\n",
       "      <td>7</td>\n",
       "      <td>13.9</td>\n",
       "      <td>260.0</td>\n",
       "      <td>2020-02-29 00:40:00</td>\n",
       "    </tr>\n",
       "  </tbody>\n",
       "</table>\n",
       "</div>"
      ],
      "text/plain": [
       "    main_temp  main_feels_like  main_pressure  main_humidity  main_temp_min  \\\n",
       "54          9                6            977             93              9   \n",
       "55          8                5            977             93              6   \n",
       "56          8                4            977             93              6   \n",
       "57          8                4            977             93              6   \n",
       "58          6               -4            976             87              5   \n",
       "\n",
       "    main_temp_max  wind_speed  wind_deg data_entry_timestamp  \n",
       "54             10         4.6     170.0  2020-02-29 00:00:00  \n",
       "55              9         4.6     170.0  2020-02-29 00:10:00  \n",
       "56              9         4.6     170.0  2020-02-29 00:20:00  \n",
       "57              9         4.6     170.0  2020-02-29 00:30:00  \n",
       "58              7        13.9     260.0  2020-02-29 00:40:00  "
      ]
     },
     "execution_count": 9,
     "metadata": {},
     "output_type": "execute_result"
    }
   ],
   "source": [
    "weatherDynamic.head()"
   ]
  },
  {
   "cell_type": "code",
   "execution_count": 10,
   "metadata": {
    "hideCode": false,
    "hidePrompt": false,
    "scrolled": false
   },
   "outputs": [
    {
     "name": "stdout",
     "output_type": "stream",
     "text": [
      "The shape of our features is: (3307, 9) \n",
      " main_temp                        int64\n",
      "main_feels_like                  int64\n",
      "main_pressure                    int64\n",
      "main_humidity                    int64\n",
      "main_temp_min                    int64\n",
      "main_temp_max                    int64\n",
      "wind_speed                     float64\n",
      "wind_deg                       float64\n",
      "data_entry_timestamp    datetime64[ns]\n",
      "dtype: object\n"
     ]
    }
   ],
   "source": [
    "print('The shape of our features is:', weatherDynamic.shape,'\\n', weatherDynamic.dtypes)"
   ]
  },
  {
   "cell_type": "markdown",
   "metadata": {},
   "source": [
    "### Resolve date into time components"
   ]
  },
  {
   "cell_type": "code",
   "execution_count": 11,
   "metadata": {},
   "outputs": [],
   "source": [
    "#Drop 'last_update' feature\n",
    "weatherDynamic['year'] = weatherDynamic.data_entry_timestamp.dt.year \n",
    "weatherDynamic['Day'] = weatherDynamic.data_entry_timestamp.dt.day\n",
    "weatherDynamic['month'] = weatherDynamic.data_entry_timestamp.dt.month\n",
    "weatherDynamic['hour'] = weatherDynamic.data_entry_timestamp.dt.hour\n",
    "weatherDynamic['minute'] = weatherDynamic.data_entry_timestamp.dt.minute\n",
    "weatherDynamic['dayOfWeek'] = weatherDynamic.data_entry_timestamp.dt.dayofweek\n",
    "weatherDynamic = weatherDynamic.drop(['data_entry_timestamp'], axis=1)"
   ]
  },
  {
   "cell_type": "markdown",
   "metadata": {},
   "source": [
    "### Set Data types prior to encoding"
   ]
  },
  {
   "cell_type": "code",
   "execution_count": 12,
   "metadata": {
    "scrolled": true
   },
   "outputs": [
    {
     "data": {
      "text/html": [
       "<div>\n",
       "<style scoped>\n",
       "    .dataframe tbody tr th:only-of-type {\n",
       "        vertical-align: middle;\n",
       "    }\n",
       "\n",
       "    .dataframe tbody tr th {\n",
       "        vertical-align: top;\n",
       "    }\n",
       "\n",
       "    .dataframe thead th {\n",
       "        text-align: right;\n",
       "    }\n",
       "</style>\n",
       "<table border=\"1\" class=\"dataframe\">\n",
       "  <thead>\n",
       "    <tr style=\"text-align: right;\">\n",
       "      <th></th>\n",
       "      <th>main_temp</th>\n",
       "      <th>main_feels_like</th>\n",
       "      <th>main_pressure</th>\n",
       "      <th>main_humidity</th>\n",
       "      <th>main_temp_min</th>\n",
       "      <th>main_temp_max</th>\n",
       "      <th>wind_speed</th>\n",
       "      <th>wind_deg</th>\n",
       "      <th>year</th>\n",
       "      <th>Day</th>\n",
       "      <th>month</th>\n",
       "      <th>hour</th>\n",
       "      <th>minute</th>\n",
       "      <th>dayOfWeek</th>\n",
       "    </tr>\n",
       "  </thead>\n",
       "  <tbody>\n",
       "    <tr>\n",
       "      <th>0</th>\n",
       "      <td>9</td>\n",
       "      <td>6</td>\n",
       "      <td>977</td>\n",
       "      <td>93</td>\n",
       "      <td>9</td>\n",
       "      <td>10</td>\n",
       "      <td>4.6</td>\n",
       "      <td>170.0</td>\n",
       "      <td>2020</td>\n",
       "      <td>29</td>\n",
       "      <td>2</td>\n",
       "      <td>0</td>\n",
       "      <td>0</td>\n",
       "      <td>5</td>\n",
       "    </tr>\n",
       "    <tr>\n",
       "      <th>1</th>\n",
       "      <td>8</td>\n",
       "      <td>5</td>\n",
       "      <td>977</td>\n",
       "      <td>93</td>\n",
       "      <td>6</td>\n",
       "      <td>9</td>\n",
       "      <td>4.6</td>\n",
       "      <td>170.0</td>\n",
       "      <td>2020</td>\n",
       "      <td>29</td>\n",
       "      <td>2</td>\n",
       "      <td>0</td>\n",
       "      <td>10</td>\n",
       "      <td>5</td>\n",
       "    </tr>\n",
       "    <tr>\n",
       "      <th>2</th>\n",
       "      <td>8</td>\n",
       "      <td>4</td>\n",
       "      <td>977</td>\n",
       "      <td>93</td>\n",
       "      <td>6</td>\n",
       "      <td>9</td>\n",
       "      <td>4.6</td>\n",
       "      <td>170.0</td>\n",
       "      <td>2020</td>\n",
       "      <td>29</td>\n",
       "      <td>2</td>\n",
       "      <td>0</td>\n",
       "      <td>20</td>\n",
       "      <td>5</td>\n",
       "    </tr>\n",
       "    <tr>\n",
       "      <th>3</th>\n",
       "      <td>8</td>\n",
       "      <td>4</td>\n",
       "      <td>977</td>\n",
       "      <td>93</td>\n",
       "      <td>6</td>\n",
       "      <td>9</td>\n",
       "      <td>4.6</td>\n",
       "      <td>170.0</td>\n",
       "      <td>2020</td>\n",
       "      <td>29</td>\n",
       "      <td>2</td>\n",
       "      <td>0</td>\n",
       "      <td>30</td>\n",
       "      <td>5</td>\n",
       "    </tr>\n",
       "    <tr>\n",
       "      <th>4</th>\n",
       "      <td>6</td>\n",
       "      <td>-4</td>\n",
       "      <td>976</td>\n",
       "      <td>87</td>\n",
       "      <td>5</td>\n",
       "      <td>7</td>\n",
       "      <td>13.9</td>\n",
       "      <td>260.0</td>\n",
       "      <td>2020</td>\n",
       "      <td>29</td>\n",
       "      <td>2</td>\n",
       "      <td>0</td>\n",
       "      <td>40</td>\n",
       "      <td>5</td>\n",
       "    </tr>\n",
       "    <tr>\n",
       "      <th>...</th>\n",
       "      <td>...</td>\n",
       "      <td>...</td>\n",
       "      <td>...</td>\n",
       "      <td>...</td>\n",
       "      <td>...</td>\n",
       "      <td>...</td>\n",
       "      <td>...</td>\n",
       "      <td>...</td>\n",
       "      <td>...</td>\n",
       "      <td>...</td>\n",
       "      <td>...</td>\n",
       "      <td>...</td>\n",
       "      <td>...</td>\n",
       "      <td>...</td>\n",
       "    </tr>\n",
       "    <tr>\n",
       "      <th>3302</th>\n",
       "      <td>7</td>\n",
       "      <td>5</td>\n",
       "      <td>1021</td>\n",
       "      <td>70</td>\n",
       "      <td>6</td>\n",
       "      <td>8</td>\n",
       "      <td>1.5</td>\n",
       "      <td>100.0</td>\n",
       "      <td>2020</td>\n",
       "      <td>23</td>\n",
       "      <td>3</td>\n",
       "      <td>23</td>\n",
       "      <td>10</td>\n",
       "      <td>0</td>\n",
       "    </tr>\n",
       "    <tr>\n",
       "      <th>3303</th>\n",
       "      <td>7</td>\n",
       "      <td>4</td>\n",
       "      <td>1020</td>\n",
       "      <td>70</td>\n",
       "      <td>6</td>\n",
       "      <td>8</td>\n",
       "      <td>2.1</td>\n",
       "      <td>110.0</td>\n",
       "      <td>2020</td>\n",
       "      <td>23</td>\n",
       "      <td>3</td>\n",
       "      <td>23</td>\n",
       "      <td>20</td>\n",
       "      <td>0</td>\n",
       "    </tr>\n",
       "    <tr>\n",
       "      <th>3304</th>\n",
       "      <td>7</td>\n",
       "      <td>4</td>\n",
       "      <td>1020</td>\n",
       "      <td>70</td>\n",
       "      <td>6</td>\n",
       "      <td>8</td>\n",
       "      <td>2.1</td>\n",
       "      <td>110.0</td>\n",
       "      <td>2020</td>\n",
       "      <td>23</td>\n",
       "      <td>3</td>\n",
       "      <td>23</td>\n",
       "      <td>30</td>\n",
       "      <td>0</td>\n",
       "    </tr>\n",
       "    <tr>\n",
       "      <th>3305</th>\n",
       "      <td>7</td>\n",
       "      <td>4</td>\n",
       "      <td>1020</td>\n",
       "      <td>70</td>\n",
       "      <td>6</td>\n",
       "      <td>8</td>\n",
       "      <td>2.1</td>\n",
       "      <td>110.0</td>\n",
       "      <td>2020</td>\n",
       "      <td>23</td>\n",
       "      <td>3</td>\n",
       "      <td>23</td>\n",
       "      <td>40</td>\n",
       "      <td>0</td>\n",
       "    </tr>\n",
       "    <tr>\n",
       "      <th>3306</th>\n",
       "      <td>7</td>\n",
       "      <td>4</td>\n",
       "      <td>1020</td>\n",
       "      <td>75</td>\n",
       "      <td>6</td>\n",
       "      <td>8</td>\n",
       "      <td>2.6</td>\n",
       "      <td>150.0</td>\n",
       "      <td>2020</td>\n",
       "      <td>23</td>\n",
       "      <td>3</td>\n",
       "      <td>23</td>\n",
       "      <td>50</td>\n",
       "      <td>0</td>\n",
       "    </tr>\n",
       "  </tbody>\n",
       "</table>\n",
       "<p>3307 rows × 14 columns</p>\n",
       "</div>"
      ],
      "text/plain": [
       "      main_temp  main_feels_like  main_pressure  main_humidity  main_temp_min  \\\n",
       "0             9                6            977             93              9   \n",
       "1             8                5            977             93              6   \n",
       "2             8                4            977             93              6   \n",
       "3             8                4            977             93              6   \n",
       "4             6               -4            976             87              5   \n",
       "...         ...              ...            ...            ...            ...   \n",
       "3302          7                5           1021             70              6   \n",
       "3303          7                4           1020             70              6   \n",
       "3304          7                4           1020             70              6   \n",
       "3305          7                4           1020             70              6   \n",
       "3306          7                4           1020             75              6   \n",
       "\n",
       "      main_temp_max  wind_speed  wind_deg  year  Day  month  hour  minute  \\\n",
       "0                10         4.6     170.0  2020   29      2     0       0   \n",
       "1                 9         4.6     170.0  2020   29      2     0      10   \n",
       "2                 9         4.6     170.0  2020   29      2     0      20   \n",
       "3                 9         4.6     170.0  2020   29      2     0      30   \n",
       "4                 7        13.9     260.0  2020   29      2     0      40   \n",
       "...             ...         ...       ...   ...  ...    ...   ...     ...   \n",
       "3302              8         1.5     100.0  2020   23      3    23      10   \n",
       "3303              8         2.1     110.0  2020   23      3    23      20   \n",
       "3304              8         2.1     110.0  2020   23      3    23      30   \n",
       "3305              8         2.1     110.0  2020   23      3    23      40   \n",
       "3306              8         2.6     150.0  2020   23      3    23      50   \n",
       "\n",
       "      dayOfWeek  \n",
       "0             5  \n",
       "1             5  \n",
       "2             5  \n",
       "3             5  \n",
       "4             5  \n",
       "...         ...  \n",
       "3302          0  \n",
       "3303          0  \n",
       "3304          0  \n",
       "3305          0  \n",
       "3306          0  \n",
       "\n",
       "[3307 rows x 14 columns]"
      ]
     },
     "execution_count": 12,
     "metadata": {},
     "output_type": "execute_result"
    }
   ],
   "source": [
    "weatherDynamic.reset_index(drop=True)"
   ]
  },
  {
   "cell_type": "code",
   "execution_count": 13,
   "metadata": {
    "hideCode": false,
    "hidePrompt": false,
    "scrolled": true
   },
   "outputs": [
    {
     "name": "stdout",
     "output_type": "stream",
     "text": [
      "The shape of our features is: (3307, 14)\n",
      "main_temp            int64\n",
      "main_feels_like      int64\n",
      "main_pressure        int64\n",
      "main_humidity        int64\n",
      "main_temp_min        int64\n",
      "main_temp_max        int64\n",
      "wind_speed         float64\n",
      "wind_deg           float64\n",
      "year                 int64\n",
      "Day                  int64\n",
      "month                int64\n",
      "hour                 int64\n",
      "minute               int64\n",
      "dayOfWeek            int64\n",
      "dtype: object\n"
     ]
    }
   ],
   "source": [
    "print('The shape of our features is:', weatherDynamic.shape)\n",
    "print(weatherDynamic.dtypes)"
   ]
  },
  {
   "cell_type": "code",
   "execution_count": 14,
   "metadata": {},
   "outputs": [],
   "source": [
    "# Assign data type category to columns listed in categorical_columns\n",
    "categorical_columns = weatherDynamic[['year','month',\"dayOfWeek\"]].columns\n",
    "for column in categorical_columns:\n",
    "    weatherDynamic[column] = weatherDynamic[column].astype('category') "
   ]
  },
  {
   "cell_type": "code",
   "execution_count": 15,
   "metadata": {
    "hideCode": false,
    "hidePrompt": false,
    "scrolled": true
   },
   "outputs": [
    {
     "name": "stdout",
     "output_type": "stream",
     "text": [
      "The shape of our features is: (3307, 14)\n",
      "main_temp             int64\n",
      "main_feels_like       int64\n",
      "main_pressure         int64\n",
      "main_humidity         int64\n",
      "main_temp_min         int64\n",
      "main_temp_max         int64\n",
      "wind_speed          float64\n",
      "wind_deg            float64\n",
      "year               category\n",
      "Day                   int64\n",
      "month              category\n",
      "hour                  int64\n",
      "minute                int64\n",
      "dayOfWeek          category\n",
      "dtype: object\n"
     ]
    }
   ],
   "source": [
    "print('The shape of our features is:', weatherDynamic.shape)\n",
    "print(weatherDynamic.dtypes)"
   ]
  },
  {
   "cell_type": "code",
   "execution_count": 16,
   "metadata": {
    "scrolled": false
   },
   "outputs": [
    {
     "data": {
      "text/html": [
       "<div>\n",
       "<style scoped>\n",
       "    .dataframe tbody tr th:only-of-type {\n",
       "        vertical-align: middle;\n",
       "    }\n",
       "\n",
       "    .dataframe tbody tr th {\n",
       "        vertical-align: top;\n",
       "    }\n",
       "\n",
       "    .dataframe thead th {\n",
       "        text-align: right;\n",
       "    }\n",
       "</style>\n",
       "<table border=\"1\" class=\"dataframe\">\n",
       "  <thead>\n",
       "    <tr style=\"text-align: right;\">\n",
       "      <th></th>\n",
       "      <th>main_temp</th>\n",
       "      <th>main_feels_like</th>\n",
       "      <th>main_pressure</th>\n",
       "      <th>main_humidity</th>\n",
       "      <th>main_temp_min</th>\n",
       "      <th>main_temp_max</th>\n",
       "      <th>wind_speed</th>\n",
       "      <th>wind_deg</th>\n",
       "      <th>year</th>\n",
       "      <th>Day</th>\n",
       "      <th>month</th>\n",
       "      <th>hour</th>\n",
       "      <th>minute</th>\n",
       "      <th>dayOfWeek</th>\n",
       "    </tr>\n",
       "  </thead>\n",
       "  <tbody>\n",
       "    <tr>\n",
       "      <th>54</th>\n",
       "      <td>9</td>\n",
       "      <td>6</td>\n",
       "      <td>977</td>\n",
       "      <td>93</td>\n",
       "      <td>9</td>\n",
       "      <td>10</td>\n",
       "      <td>4.6</td>\n",
       "      <td>170.0</td>\n",
       "      <td>2020</td>\n",
       "      <td>29</td>\n",
       "      <td>2</td>\n",
       "      <td>0</td>\n",
       "      <td>0</td>\n",
       "      <td>5</td>\n",
       "    </tr>\n",
       "    <tr>\n",
       "      <th>55</th>\n",
       "      <td>8</td>\n",
       "      <td>5</td>\n",
       "      <td>977</td>\n",
       "      <td>93</td>\n",
       "      <td>6</td>\n",
       "      <td>9</td>\n",
       "      <td>4.6</td>\n",
       "      <td>170.0</td>\n",
       "      <td>2020</td>\n",
       "      <td>29</td>\n",
       "      <td>2</td>\n",
       "      <td>0</td>\n",
       "      <td>10</td>\n",
       "      <td>5</td>\n",
       "    </tr>\n",
       "    <tr>\n",
       "      <th>56</th>\n",
       "      <td>8</td>\n",
       "      <td>4</td>\n",
       "      <td>977</td>\n",
       "      <td>93</td>\n",
       "      <td>6</td>\n",
       "      <td>9</td>\n",
       "      <td>4.6</td>\n",
       "      <td>170.0</td>\n",
       "      <td>2020</td>\n",
       "      <td>29</td>\n",
       "      <td>2</td>\n",
       "      <td>0</td>\n",
       "      <td>20</td>\n",
       "      <td>5</td>\n",
       "    </tr>\n",
       "    <tr>\n",
       "      <th>57</th>\n",
       "      <td>8</td>\n",
       "      <td>4</td>\n",
       "      <td>977</td>\n",
       "      <td>93</td>\n",
       "      <td>6</td>\n",
       "      <td>9</td>\n",
       "      <td>4.6</td>\n",
       "      <td>170.0</td>\n",
       "      <td>2020</td>\n",
       "      <td>29</td>\n",
       "      <td>2</td>\n",
       "      <td>0</td>\n",
       "      <td>30</td>\n",
       "      <td>5</td>\n",
       "    </tr>\n",
       "    <tr>\n",
       "      <th>58</th>\n",
       "      <td>6</td>\n",
       "      <td>-4</td>\n",
       "      <td>976</td>\n",
       "      <td>87</td>\n",
       "      <td>5</td>\n",
       "      <td>7</td>\n",
       "      <td>13.9</td>\n",
       "      <td>260.0</td>\n",
       "      <td>2020</td>\n",
       "      <td>29</td>\n",
       "      <td>2</td>\n",
       "      <td>0</td>\n",
       "      <td>40</td>\n",
       "      <td>5</td>\n",
       "    </tr>\n",
       "  </tbody>\n",
       "</table>\n",
       "</div>"
      ],
      "text/plain": [
       "    main_temp  main_feels_like  main_pressure  main_humidity  main_temp_min  \\\n",
       "54          9                6            977             93              9   \n",
       "55          8                5            977             93              6   \n",
       "56          8                4            977             93              6   \n",
       "57          8                4            977             93              6   \n",
       "58          6               -4            976             87              5   \n",
       "\n",
       "    main_temp_max  wind_speed  wind_deg  year  Day month  hour  minute  \\\n",
       "54             10         4.6     170.0  2020   29     2     0       0   \n",
       "55              9         4.6     170.0  2020   29     2     0      10   \n",
       "56              9         4.6     170.0  2020   29     2     0      20   \n",
       "57              9         4.6     170.0  2020   29     2     0      30   \n",
       "58              7        13.9     260.0  2020   29     2     0      40   \n",
       "\n",
       "   dayOfWeek  \n",
       "54         5  \n",
       "55         5  \n",
       "56         5  \n",
       "57         5  \n",
       "58         5  "
      ]
     },
     "execution_count": 16,
     "metadata": {},
     "output_type": "execute_result"
    }
   ],
   "source": [
    "weatherDynamic.head()"
   ]
  },
  {
   "cell_type": "markdown",
   "metadata": {},
   "source": [
    "## Encoding"
   ]
  },
  {
   "cell_type": "markdown",
   "metadata": {},
   "source": [
    "#### Dictionary vectorization"
   ]
  },
  {
   "cell_type": "code",
   "execution_count": 17,
   "metadata": {},
   "outputs": [],
   "source": [
    "dfMLweather_enc = pd.get_dummies(weatherDynamic, prefix_sep='_')\n",
    "# X head\n",
    "dfMLweather_enc.head()\n",
    "\n",
    "dfMLweather_enc.to_csv(\"WeatherGetDummiesCatagorical.csv\")"
   ]
  },
  {
   "cell_type": "code",
   "execution_count": 18,
   "metadata": {},
   "outputs": [
    {
     "name": "stdout",
     "output_type": "stream",
     "text": [
      "Shape of features after one-hot encoding: (3307, 21)\n"
     ]
    }
   ],
   "source": [
    "print('Shape of features after one-hot encoding:', dfMLweather_enc.shape)"
   ]
  },
  {
   "cell_type": "markdown",
   "metadata": {},
   "source": [
    "## Normalization of numeric variables"
   ]
  },
  {
   "cell_type": "code",
   "execution_count": 19,
   "metadata": {},
   "outputs": [],
   "source": [
    "def normaliseDF(dfML):\n",
    "    # retain column headers\n",
    "    columnNames= dfML.columns\n",
    "    \n",
    "    dfMLFeatures = dfML.values\n",
    "    # Create a minimum and maximum processor object\n",
    "    min_max_scaler = preprocessing.MinMaxScaler()\n",
    "\n",
    "    # Create an object to transform the data to fit minmax processor\n",
    "    dfML_normalized = pd.DataFrame(min_max_scaler.fit_transform(dfMLFeatures), columns = columnNames)\n",
    "    \n",
    "    return dfML_normalized"
   ]
  },
  {
   "cell_type": "markdown",
   "metadata": {},
   "source": [
    "## Training and Testing Sets"
   ]
  },
  {
   "cell_type": "code",
   "execution_count": 20,
   "metadata": {},
   "outputs": [],
   "source": [
    "def trainTestData(features, target):\n",
    "    # Split the data into training and testing sets\n",
    "    train_features, test_features, train_labels, test_labels = train_test_split(features, target, test_size = 0.25,\n",
    "                                                                               random_state = 42)\n",
    "    return train_features, test_features, train_labels, test_labels"
   ]
  },
  {
   "cell_type": "markdown",
   "metadata": {},
   "source": [
    "## Establish Baseline"
   ]
  },
  {
   "cell_type": "code",
   "execution_count": 21,
   "metadata": {},
   "outputs": [],
   "source": [
    "# def baseLine(test_features, feature_list, target):\n",
    "#     # The baseline predictions are the historical averages\n",
    "#     baseline_preds = test_features[:, feature_list.index(target)]\n",
    "\n",
    "#     # Baseline errors, and display average baseline error\n",
    "#     baseline_errors = abs(baseline_preds - test_labels)\n",
    "#     print('Average baseline error: ', round(np.mean(baseline_errors), 2), 'degrees.')"
   ]
  },
  {
   "cell_type": "markdown",
   "metadata": {},
   "source": [
    "## Training the Forest"
   ]
  },
  {
   "cell_type": "code",
   "execution_count": 22,
   "metadata": {
    "hideCode": false,
    "hidePrompt": false
   },
   "outputs": [],
   "source": [
    "def trainRandomForest(train_features, train_labels):\n",
    "    # Instantiate model \n",
    "    rf = RandomForestRegressor(n_estimators= 100, random_state=42)\n",
    "\n",
    "    # Train the random forest model\n",
    "    rf.fit(train_features, train_labels)\n",
    "    \n",
    "    return rf"
   ]
  },
  {
   "cell_type": "markdown",
   "metadata": {},
   "source": [
    "Model with different hyperparameters"
   ]
  },
  {
   "cell_type": "code",
   "execution_count": 23,
   "metadata": {},
   "outputs": [],
   "source": [
    "# rf_new = RandomForestRegressor(n_estimators = 100, criterion = 'mse', max_depth = None, \n",
    "#                                min_samples_split = 2, min_samples_leaf = 1)"
   ]
  },
  {
   "cell_type": "markdown",
   "metadata": {},
   "source": [
    "## Make Predictions on Test Data"
   ]
  },
  {
   "cell_type": "code",
   "execution_count": 24,
   "metadata": {},
   "outputs": [],
   "source": [
    "def predictRandomForest(rf, test_features):\n",
    "    # Use the forest's predict method on the test data\n",
    "    predictions = rf.predict(test_features) \n",
    "    \n",
    "    return predictions"
   ]
  },
  {
   "cell_type": "markdown",
   "metadata": {},
   "source": [
    "## View Results"
   ]
  },
  {
   "cell_type": "code",
   "execution_count": 25,
   "metadata": {},
   "outputs": [],
   "source": [
    "def result(predictions,test_labels):\n",
    "    # Calculate the absolute errors\n",
    "    errors = abs(predictions - test_labels)\n",
    "\n",
    "    # Print out the mean absolute error (mae)\n",
    "    print('Mean Absolute Error:', round(np.mean(errors), 2), 'degrees.')\n",
    "    \n",
    "    \n",
    "    print('\\n==============================================================================')\n",
    "    print(\"MAE: \", metrics.mean_absolute_error(test_labels, predictions))\n",
    "    print(\"MSE: \", metrics.mean_squared_error(test_labels, predictions))        \n",
    "    print(\"RMSE: \", metrics.mean_squared_error(test_labels, predictions, squared=False))    \n",
    "    print(\"R2: \", metrics.r2_score(test_labels, predictions))\n",
    "\n",
    "    \n",
    "    plt.plot(test_labels[:10])\n",
    "    plt.plot(predictions[:10])\n",
    "    \n",
    "    plt.xlabel('Time')\n",
    "    plt.ylabel('Available stands')\n",
    "\n",
    "\n",
    "#     plt.xlabel('Time')\n",
    "#     plt.ylabel('Available stands')\n",
    "\n",
    "    plt.show()\n",
    "\n"
   ]
  },
  {
   "cell_type": "markdown",
   "metadata": {},
   "source": [
    "## Variable Importances"
   ]
  },
  {
   "cell_type": "code",
   "execution_count": 26,
   "metadata": {},
   "outputs": [],
   "source": [
    "def show_Importance(rf,features):\n",
    "    # Get numerical feature importances\n",
    "    importances = list(rf.feature_importances_)\n",
    "\n",
    "    # List of tuples with variable and importance\n",
    "    feature_importances = [(features, round(importance, 2)) for features, importance in zip(feature_list, importances)]\n",
    "\n",
    "    # Sort the feature importances by most important first\n",
    "    feature_importances = sorted(feature_importances, key = lambda x: x[1], reverse = True)\n",
    "\n",
    "    # Print out the feature and importances \n",
    "    [print('Variable: {:20} Importance: {}'.format(*pair)) for pair in feature_importances]"
   ]
  },
  {
   "cell_type": "markdown",
   "metadata": {},
   "source": [
    "## Pipeline"
   ]
  },
  {
   "cell_type": "code",
   "execution_count": 27,
   "metadata": {
    "scrolled": true
   },
   "outputs": [
    {
     "name": "stdout",
     "output_type": "stream",
     "text": [
      "Input columns \n",
      " Day            int64\n",
      "hour           int64\n",
      "minute         int64\n",
      "year_2020      uint8\n",
      "month_2        uint8\n",
      "month_3        uint8\n",
      "dayOfWeek_0    uint8\n",
      "dayOfWeek_1    uint8\n",
      "dayOfWeek_2    uint8\n",
      "dayOfWeek_3    uint8\n",
      "dayOfWeek_4    uint8\n",
      "dayOfWeek_5    uint8\n",
      "dayOfWeek_6    uint8\n",
      "dtype: object\n",
      "Target Feature: main_temp \n",
      "\n",
      "\n",
      "Training Features Shape: (2480, 13)\n",
      "Training Labels Shape: (2480,)\n",
      "Testing Features Shape: (827, 13)\n",
      "Testing Labels Shape: (827,)\n",
      "Mean Absolute Error: 0.24 degrees.\n",
      "\n",
      "==============================================================================\n",
      "MAE:  0.23881499395405079\n",
      "MSE:  0.15406626360338574\n",
      "RMSE:  0.3925127559753769\n",
      "R2:  0.9843240353596815\n"
     ]
    },
    {
     "data": {
      "image/png": "[encoded data removed]",
      "text/plain": [
       "<Figure size 432x288 with 1 Axes>"
      ]
     },
     "metadata": {
      "needs_background": "light"
     },
     "output_type": "display_data"
    },
    {
     "name": "stdout",
     "output_type": "stream",
     "text": [
      "Variable: Day                  Importance: 0.35\n",
      "Variable: hour                 Importance: 0.33\n",
      "Variable: dayOfWeek_1          Importance: 0.13\n",
      "Variable: dayOfWeek_0          Importance: 0.05\n",
      "Variable: dayOfWeek_3          Importance: 0.04\n",
      "Variable: dayOfWeek_5          Importance: 0.04\n",
      "Variable: dayOfWeek_4          Importance: 0.02\n",
      "Variable: minute               Importance: 0.01\n",
      "Variable: dayOfWeek_2          Importance: 0.01\n",
      "Variable: dayOfWeek_6          Importance: 0.01\n",
      "Variable: year_2020            Importance: 0.0\n",
      "Variable: month_2              Importance: 0.0\n",
      "Variable: month_3              Importance: 0.0\n",
      "\n",
      "\n",
      "\n",
      "\n",
      "\n",
      "\n",
      "\n",
      "\n",
      "Target Feature: main_feels_like \n",
      "\n",
      "\n",
      "Training Features Shape: (2480, 13)\n",
      "Training Labels Shape: (2480,)\n",
      "Testing Features Shape: (827, 13)\n",
      "Testing Labels Shape: (827,)\n",
      "Mean Absolute Error: 0.37 degrees.\n",
      "\n",
      "==============================================================================\n",
      "MAE:  0.37409915356711\n",
      "MSE:  0.31799661426844017\n",
      "RMSE:  0.5639118851987783\n",
      "R2:  0.9590035738938886\n"
     ]
    },
    {
     "data": {
      "image/png": "[encoded data removed]",
      "text/plain": [
       "<Figure size 432x288 with 1 Axes>"
      ]
     },
     "metadata": {
      "needs_background": "light"
     },
     "output_type": "display_data"
    },
    {
     "name": "stdout",
     "output_type": "stream",
     "text": [
      "Variable: Day                  Importance: 0.32\n",
      "Variable: hour                 Importance: 0.3\n",
      "Variable: dayOfWeek_1          Importance: 0.11\n",
      "Variable: dayOfWeek_3          Importance: 0.07\n",
      "Variable: dayOfWeek_0          Importance: 0.06\n",
      "Variable: dayOfWeek_5          Importance: 0.06\n",
      "Variable: dayOfWeek_4          Importance: 0.03\n",
      "Variable: minute               Importance: 0.02\n",
      "Variable: dayOfWeek_2          Importance: 0.02\n",
      "Variable: dayOfWeek_6          Importance: 0.01\n",
      "Variable: year_2020            Importance: 0.0\n",
      "Variable: month_2              Importance: 0.0\n",
      "Variable: month_3              Importance: 0.0\n",
      "\n",
      "\n",
      "\n",
      "\n",
      "\n",
      "\n",
      "\n",
      "\n",
      "Target Feature: main_pressure \n",
      "\n",
      "\n",
      "Training Features Shape: (2480, 13)\n",
      "Training Labels Shape: (2480,)\n",
      "Testing Features Shape: (827, 13)\n",
      "Testing Labels Shape: (827,)\n",
      "Mean Absolute Error: 0.19 degrees.\n",
      "\n",
      "==============================================================================\n",
      "MAE:  0.1895646916565862\n",
      "MSE:  0.11629951632406459\n",
      "RMSE:  0.3410271489545438\n",
      "R2:  0.9993585234942229\n"
     ]
    },
    {
     "data": {
      "image/png": "[encoded data removed]",
      "text/plain": [
       "<Figure size 432x288 with 1 Axes>"
      ]
     },
     "metadata": {
      "needs_background": "light"
     },
     "output_type": "display_data"
    },
    {
     "name": "stdout",
     "output_type": "stream",
     "text": [
      "Variable: Day                  Importance: 0.89\n",
      "Variable: hour                 Importance: 0.04\n",
      "Variable: dayOfWeek_4          Importance: 0.03\n",
      "Variable: month_2              Importance: 0.01\n",
      "Variable: month_3              Importance: 0.01\n",
      "Variable: dayOfWeek_3          Importance: 0.01\n",
      "Variable: dayOfWeek_6          Importance: 0.01\n",
      "Variable: minute               Importance: 0.0\n",
      "Variable: year_2020            Importance: 0.0\n",
      "Variable: dayOfWeek_0          Importance: 0.0\n",
      "Variable: dayOfWeek_1          Importance: 0.0\n",
      "Variable: dayOfWeek_2          Importance: 0.0\n",
      "Variable: dayOfWeek_5          Importance: 0.0\n",
      "\n",
      "\n",
      "\n",
      "\n",
      "\n",
      "\n",
      "\n",
      "\n",
      "Target Feature: main_humidity \n",
      "\n",
      "\n",
      "Training Features Shape: (2480, 13)\n",
      "Training Labels Shape: (2480,)\n",
      "Testing Features Shape: (827, 13)\n",
      "Testing Labels Shape: (827,)\n",
      "Mean Absolute Error: 2.36 degrees.\n",
      "\n",
      "==============================================================================\n",
      "MAE:  2.3607617896009674\n",
      "MSE:  12.00674715840387\n",
      "RMSE:  3.4650753467138156\n",
      "R2:  0.8877468420532172\n"
     ]
    },
    {
     "data": {
      "image/png": "[encoded data removed]",
      "text/plain": [
       "<Figure size 432x288 with 1 Axes>"
      ]
     },
     "metadata": {
      "needs_background": "light"
     },
     "output_type": "display_data"
    },
    {
     "name": "stdout",
     "output_type": "stream",
     "text": [
      "Variable: hour                 Importance: 0.45\n",
      "Variable: Day                  Importance: 0.3\n",
      "Variable: minute               Importance: 0.06\n",
      "Variable: dayOfWeek_6          Importance: 0.06\n",
      "Variable: dayOfWeek_0          Importance: 0.03\n",
      "Variable: dayOfWeek_1          Importance: 0.02\n",
      "Variable: dayOfWeek_2          Importance: 0.02\n",
      "Variable: dayOfWeek_4          Importance: 0.02\n",
      "Variable: dayOfWeek_5          Importance: 0.02\n",
      "Variable: dayOfWeek_3          Importance: 0.01\n",
      "Variable: year_2020            Importance: 0.0\n",
      "Variable: month_2              Importance: 0.0\n",
      "Variable: month_3              Importance: 0.0\n",
      "\n",
      "\n",
      "\n",
      "\n",
      "\n",
      "\n",
      "\n",
      "\n",
      "Target Feature: main_temp_min \n",
      "\n",
      "\n",
      "Training Features Shape: (2480, 13)\n",
      "Training Labels Shape: (2480,)\n",
      "Testing Features Shape: (827, 13)\n",
      "Testing Labels Shape: (827,)\n",
      "Mean Absolute Error: 0.28 degrees.\n",
      "\n",
      "==============================================================================\n",
      "MAE:  0.28273276904474004\n",
      "MSE:  0.2204529625151149\n",
      "RMSE:  0.4695241873589846\n",
      "R2:  0.9788640695765978\n"
     ]
    },
    {
     "data": {
      "image/png": "[encoded data removed]",
      "text/plain": [
       "<Figure size 432x288 with 1 Axes>"
      ]
     },
     "metadata": {
      "needs_background": "light"
     },
     "output_type": "display_data"
    },
    {
     "name": "stdout",
     "output_type": "stream",
     "text": [
      "Variable: Day                  Importance: 0.37\n",
      "Variable: hour                 Importance: 0.33\n",
      "Variable: dayOfWeek_1          Importance: 0.12\n",
      "Variable: dayOfWeek_0          Importance: 0.05\n",
      "Variable: dayOfWeek_3          Importance: 0.05\n",
      "Variable: dayOfWeek_5          Importance: 0.03\n",
      "Variable: dayOfWeek_2          Importance: 0.02\n",
      "Variable: minute               Importance: 0.01\n",
      "Variable: dayOfWeek_4          Importance: 0.01\n",
      "Variable: dayOfWeek_6          Importance: 0.01\n",
      "Variable: year_2020            Importance: 0.0\n",
      "Variable: month_2              Importance: 0.0\n",
      "Variable: month_3              Importance: 0.0\n",
      "\n",
      "\n",
      "\n",
      "\n",
      "\n",
      "\n",
      "\n",
      "\n",
      "Target Feature: main_temp_max \n",
      "\n",
      "\n",
      "Training Features Shape: (2480, 13)\n",
      "Training Labels Shape: (2480,)\n",
      "Testing Features Shape: (827, 13)\n",
      "Testing Labels Shape: (827,)\n",
      "Mean Absolute Error: 0.28 degrees.\n",
      "\n",
      "==============================================================================\n",
      "MAE:  0.28134220072551386\n",
      "MSE:  0.18304969770253932\n",
      "RMSE:  0.4278430760250063\n",
      "R2:  0.9808506640388392\n"
     ]
    },
    {
     "data": {
      "image/png": "[encoded data removed]",
      "text/plain": [
       "<Figure size 432x288 with 1 Axes>"
      ]
     },
     "metadata": {
      "needs_background": "light"
     },
     "output_type": "display_data"
    },
    {
     "name": "stdout",
     "output_type": "stream",
     "text": [
      "Variable: Day                  Importance: 0.35\n",
      "Variable: hour                 Importance: 0.35\n",
      "Variable: dayOfWeek_1          Importance: 0.12\n",
      "Variable: dayOfWeek_0          Importance: 0.05\n",
      "Variable: dayOfWeek_5          Importance: 0.05\n",
      "Variable: dayOfWeek_3          Importance: 0.03\n",
      "Variable: dayOfWeek_4          Importance: 0.02\n",
      "Variable: minute               Importance: 0.01\n",
      "Variable: dayOfWeek_2          Importance: 0.01\n",
      "Variable: dayOfWeek_6          Importance: 0.01\n",
      "Variable: year_2020            Importance: 0.0\n",
      "Variable: month_2              Importance: 0.0\n",
      "Variable: month_3              Importance: 0.0\n",
      "\n",
      "\n",
      "\n",
      "\n",
      "\n",
      "\n",
      "\n",
      "\n",
      "Target Feature: wind_speed \n",
      "\n",
      "\n",
      "Training Features Shape: (2480, 13)\n",
      "Training Labels Shape: (2480,)\n",
      "Testing Features Shape: (827, 13)\n",
      "Testing Labels Shape: (827,)\n",
      "Mean Absolute Error: 0.42 degrees.\n",
      "\n",
      "==============================================================================\n",
      "MAE:  0.41761692865779937\n",
      "MSE:  0.40242247850060453\n",
      "RMSE:  0.6343677785800635\n",
      "R2:  0.93238341291916\n"
     ]
    },
    {
     "data": {
      "image/png": "[encoded data removed]",
      "text/plain": [
       "<Figure size 432x288 with 1 Axes>"
      ]
     },
     "metadata": {
      "needs_background": "light"
     },
     "output_type": "display_data"
    },
    {
     "name": "stdout",
     "output_type": "stream",
     "text": [
      "Variable: Day                  Importance: 0.41\n",
      "Variable: hour                 Importance: 0.33\n",
      "Variable: dayOfWeek_4          Importance: 0.06\n",
      "Variable: minute               Importance: 0.04\n",
      "Variable: dayOfWeek_5          Importance: 0.04\n",
      "Variable: dayOfWeek_0          Importance: 0.03\n",
      "Variable: dayOfWeek_1          Importance: 0.03\n",
      "Variable: dayOfWeek_3          Importance: 0.03\n",
      "Variable: dayOfWeek_6          Importance: 0.02\n",
      "Variable: dayOfWeek_2          Importance: 0.01\n",
      "Variable: year_2020            Importance: 0.0\n",
      "Variable: month_2              Importance: 0.0\n",
      "Variable: month_3              Importance: 0.0\n",
      "\n",
      "\n",
      "\n",
      "\n",
      "\n",
      "\n",
      "\n",
      "\n",
      "Target Feature: wind_deg \n",
      "\n",
      "\n",
      "Training Features Shape: (2480, 13)\n",
      "Training Labels Shape: (2480,)\n",
      "Testing Features Shape: (827, 13)\n",
      "Testing Labels Shape: (827,)\n",
      "Mean Absolute Error: 6.23 degrees.\n",
      "\n",
      "==============================================================================\n",
      "MAE:  6.23\n",
      "MSE:  303.50950120918986\n",
      "RMSE:  17.421524078254173\n",
      "R2:  0.932265852012861\n"
     ]
    },
    {
     "data": {
      "image/png": "[encoded data removed]",
      "text/plain": [
       "<Figure size 432x288 with 1 Axes>"
      ]
     },
     "metadata": {
      "needs_background": "light"
     },
     "output_type": "display_data"
    },
    {
     "name": "stdout",
     "output_type": "stream",
     "text": [
      "Variable: Day                  Importance: 0.51\n",
      "Variable: hour                 Importance: 0.31\n",
      "Variable: dayOfWeek_4          Importance: 0.06\n",
      "Variable: minute               Importance: 0.04\n",
      "Variable: dayOfWeek_2          Importance: 0.02\n",
      "Variable: dayOfWeek_3          Importance: 0.02\n",
      "Variable: dayOfWeek_0          Importance: 0.01\n",
      "Variable: dayOfWeek_1          Importance: 0.01\n",
      "Variable: dayOfWeek_5          Importance: 0.01\n",
      "Variable: dayOfWeek_6          Importance: 0.01\n",
      "Variable: year_2020            Importance: 0.0\n",
      "Variable: month_2              Importance: 0.0\n",
      "Variable: month_3              Importance: 0.0\n",
      "\n",
      "\n",
      "\n",
      "\n",
      "\n",
      "\n",
      "\n",
      "\n"
     ]
    }
   ],
   "source": [
    "# Target columns to be predicted.\n",
    "# ***************************************************************************************************************\n",
    "\n",
    "targetCols = ['main_temp','main_feels_like', 'main_pressure', 'main_humidity', \\\n",
    "             'main_temp_min', 'main_temp_max', 'wind_speed', 'wind_deg']\n",
    "\n",
    "# ***************************************************************************************************************\n",
    "dfML_inputPipe = dfMLweather_enc.drop(targetCols, axis = 1)\n",
    "print(\"Input columns \\n\", dfML_inputPipe.dtypes)\n",
    "\n",
    "# Saving input feature names for later use\n",
    "feature_list = list(dfML_inputPipe.columns)\n",
    "# Convert to numpy array\n",
    "features = np.array(dfML_inputPipe)\n",
    "\n",
    "# ***************************************************************************************************************\n",
    "# dfML_PipeLine = normaliseDF(dfMLweather_enc[targetCols])\n",
    "dfML_PipeLine = dfMLweather_enc[targetCols]\n",
    "\n",
    "# ***************************************************************************************************************\n",
    "\n",
    "for targetC in targetCols:\n",
    "\n",
    "    print(\"Target Feature:\", targetC, \"\\n\\n\")\n",
    "    \n",
    "    # Array of target variable\n",
    "    target = np.array(dfML_PipeLine[targetC])\n",
    "    \n",
    "    train_features, test_features, train_labels, test_labels = trainTestData(features, target)\n",
    "\n",
    "    # dates = dfML_enc_DA[:, feature_list.index('data_entry_timestamp')]\n",
    "\n",
    "    print('Training Features Shape:', train_features.shape)\n",
    "    print('Training Labels Shape:', train_labels.shape)\n",
    "    print('Testing Features Shape:', test_features.shape)\n",
    "    print('Testing Labels Shape:', test_labels.shape)\n",
    "\n",
    "    # baseLine()\n",
    "    rfWeatherModel = trainRandomForest(train_features, train_labels)\n",
    "    \n",
    "    # save the model\n",
    "    filename = targetC+'.pkl'\n",
    "    pickle.dump(rfWeatherModel, open(filename, 'wb'))\n",
    "\n",
    "    # load the model \n",
    "    rfWeatherModel_loaded = pickle.load(open(filename, 'rb'))\n",
    "\n",
    "    predictions = predictRandomForest(rfWeatherModel_loaded,test_features)\n",
    "    result(predictions,test_labels)\n",
    "    show_Importance(rfWeatherModel_loaded,features)\n",
    "    print(\"\\n\\n\\n\\n\\n\\n\\n\")"
   ]
  },
  {
   "cell_type": "code",
   "execution_count": 28,
   "metadata": {},
   "outputs": [
    {
     "name": "stdout",
     "output_type": "stream",
     "text": [
      "(827, 13) [[ 1  9 30  1  0  1  0  0  0  0  0  0  1]\n",
      " [ 5 18  0  1  0  1  0  0  0  1  0  0  0]\n",
      " [ 7 18 20  1  0  1  0  0  0  0  0  1  0]\n",
      " [ 9 17 20  1  0  1  1  0  0  0  0  0  0]\n",
      " [ 2 10 40  1  0  1  1  0  0  0  0  0  0]] \n",
      "\n",
      "\n"
     ]
    }
   ],
   "source": [
    "print(test_features.shape,test_features[:5],\"\\n\\n\")"
   ]
  },
  {
   "cell_type": "code",
   "execution_count": null,
   "metadata": {},
   "outputs": [],
   "source": []
  }
 ],
 "metadata": {
  "hide_code_all_hidden": false,
  "kernelspec": {
   "display_name": "Python 3",
   "language": "python",
   "name": "python3"
  },
  "language_info": {
   "codemirror_mode": {
    "name": "ipython",
    "version": 3
   },
   "file_extension": ".py",
   "mimetype": "text/x-python",
   "name": "python",
   "nbconvert_exporter": "python",
   "pygments_lexer": "ipython3",
   "version": "3.7.6"
  }
 },
 "nbformat": 4,
 "nbformat_minor": 2
}

{
 "cells": [
  {
   "cell_type": "markdown",
   "metadata": {},
   "source": [
    "# Visualization of predicted data"
   ]
  },
  {
   "cell_type": "code",
   "execution_count": 1,
   "metadata": {
    "hideCode": false,
    "hidePrompt": false
   },
   "outputs": [],
   "source": [
    "# Import pandas, numpy, matplotlib, seaborn libraries\n",
    "import pandas as pd\n",
    "from pandas.api.types import is_numeric_dtype\n",
    "import datetime\n",
    "import pickle\n",
    "\n",
    "# path = './RandomForest/'\n",
    "path = ''"
   ]
  },
  {
   "cell_type": "markdown",
   "metadata": {},
   "source": [
    "## Make Predictions on Test Data"
   ]
  },
  {
   "cell_type": "code",
   "execution_count": 2,
   "metadata": {},
   "outputs": [],
   "source": [
    "def predictRandomForest(rf, test_features):\n",
    "    try:\n",
    "        \n",
    "        # Use the forest's predict method on the test data\n",
    "        predictions = rf.predict(test_features).tolist() \n",
    "        return predictions\n",
    "    \n",
    "    except Exeption as e:\n",
    "        print(\"Error in predictRandomForest\", e)"
   ]
  },
  {
   "cell_type": "markdown",
   "metadata": {},
   "source": [
    "## Get dateRange dataframe for prediction"
   ]
  },
  {
   "cell_type": "code",
   "execution_count": 3,
   "metadata": {},
   "outputs": [],
   "source": [
    "# ML Models needs time parameters for input [i.e. test_features] in specific format : \n",
    "# dateInput = [date hour minute year month1 month2 month3 .. month12]\n",
    "\n",
    "# get_TimeInputs() generates a dataframe congruent with ML model input format for next 5 hours by 30 minute interval w.r.t. datetimeIn\n",
    "# DayOfWeek is optionally included in returned dataframe. It is required for getBike() function.\n",
    "\n",
    "def get_TimeInputs(ts = datetime.datetime.now(), dayOfWeek = False, tStampRet = False, perHrs = 5, intervals = 30):\n",
    "    try:\n",
    "        tStampRetVal=[]\n",
    "        data_entry_timestamp_In = ts\n",
    "        ts =  pd.DataFrame([ts], columns = ['ts'])\n",
    "        data_entry_timestamp_In = pd.Timestamp(data_entry_timestamp_In)\n",
    "        data_entry_timestamp = data_entry_timestamp_In\n",
    "\n",
    "        # Logic to find nearest value divisible by 10\n",
    "        minutes = data_entry_timestamp_In.minute\n",
    "        minutes = minutes + (30-(minutes%30))\n",
    "\n",
    "        data_entry_timestamp = data_entry_timestamp.replace(minute = minutes) if (minutes != 60)\\\n",
    "                                 else  data_entry_timestamp.round('H')\n",
    "\n",
    "         # obtain datetime range spacing 30 minutes for next \"perHrs\" hours by spacing of \"intervals\" minutes per hour    \n",
    "        dateRange = pd.DataFrame(pd.date_range(data_entry_timestamp, periods=perHrs*int(60/intervals), freq= str(intervals)+'min'), columns = ['ts'])\n",
    "        dateRange = pd.concat([ts, dateRange]).reset_index(drop = True)\n",
    "        dateRange['ts'] = pd.to_datetime(dateRange['ts'])\n",
    "\n",
    "        # Sort datetime into dataframe     \n",
    "        dateRange['date'] = dateRange.ts.dt.day \n",
    "        dateRange['hour'] = dateRange.ts.dt.hour \n",
    "        dateRange['minute'] = dateRange.ts.dt.minute \n",
    "        dateRange['year'] = dateRange.ts.dt.year \n",
    "        dateRange['month'] = dateRange.ts.dt.month\n",
    "        dateRange['dayOfWeek'] = dateRange.ts.dt.weekday\n",
    "\n",
    "        # prepare onhot encodes for year and month\n",
    "        mask = dateRange.year == 2020\n",
    "        column_name = 'year'\n",
    "        dateRange.loc[mask, column_name] = 1\n",
    "\n",
    "        # Models is trained with month data onehot encoded for all 12 months; hence similar data \n",
    "        # is introduced inorganically dataframe      \n",
    "        for m in range(1,13):\n",
    "            mask = dateRange.month == m\n",
    "            column_name = 'month'+str(m)\n",
    "            dateRange[column_name] = 0\n",
    "            dateRange.loc[mask, column_name] = 1\n",
    "\n",
    "        dateRange = dateRange.drop(['month'], axis=1)\n",
    "\n",
    "        if dayOfWeek:\n",
    "            for d in range(7):\n",
    "                mask = dateRange.dayOfWeek == d\n",
    "                column_name = 'dayOfWeek'+str(d)\n",
    "                dateRange[column_name] = 0\n",
    "                dateRange.loc[mask, column_name] = 1\n",
    "\n",
    "        dateRange = dateRange.drop(['dayOfWeek'], axis=1)        \n",
    "\n",
    "        if tStampRet:\n",
    "            tStampRetVal = dateRange.ts.dt.strftime(\"%I:%M %p\")\n",
    "\n",
    "        dateRange = dateRange.drop(['ts'], axis=1)      \n",
    "\n",
    "        return dateRange, tStampRetVal\n",
    "\n",
    "    except Exeption as e:\n",
    "        print(\"Error in get_TimeInputs\", e)\n",
    "        \n"
   ]
  },
  {
   "cell_type": "code",
   "execution_count": 4,
   "metadata": {
    "scrolled": false
   },
   "outputs": [
    {
     "data": {
      "text/plain": [
       "(    date  hour  minute  year  month1  month2  month3  month4  month5  month6  \\\n",
       " 0     16    17      16     1       0       0       0       1       0       0   \n",
       " 1     16    17      30     1       0       0       0       1       0       0   \n",
       " 2     16    18       0     1       0       0       0       1       0       0   \n",
       " 3     16    18      30     1       0       0       0       1       0       0   \n",
       " 4     16    19       0     1       0       0       0       1       0       0   \n",
       " 5     16    19      30     1       0       0       0       1       0       0   \n",
       " 6     16    20       0     1       0       0       0       1       0       0   \n",
       " 7     16    20      30     1       0       0       0       1       0       0   \n",
       " 8     16    21       0     1       0       0       0       1       0       0   \n",
       " 9     16    21      30     1       0       0       0       1       0       0   \n",
       " 10    16    22       0     1       0       0       0       1       0       0   \n",
       " \n",
       "     month7  month8  month9  month10  month11  month12  \n",
       " 0        0       0       0        0        0        0  \n",
       " 1        0       0       0        0        0        0  \n",
       " 2        0       0       0        0        0        0  \n",
       " 3        0       0       0        0        0        0  \n",
       " 4        0       0       0        0        0        0  \n",
       " 5        0       0       0        0        0        0  \n",
       " 6        0       0       0        0        0        0  \n",
       " 7        0       0       0        0        0        0  \n",
       " 8        0       0       0        0        0        0  \n",
       " 9        0       0       0        0        0        0  \n",
       " 10       0       0       0        0        0        0  ,\n",
       " [])"
      ]
     },
     "execution_count": 4,
     "metadata": {},
     "output_type": "execute_result"
    }
   ],
   "source": [
    "get_TimeInputs()"
   ]
  },
  {
   "cell_type": "markdown",
   "metadata": {},
   "source": [
    "## Weather prediction\n",
    "**Support function which returns dataframe containing weather parameters for coming 5 hours by space of 30 minutes**\n"
   ]
  },
  {
   "cell_type": "code",
   "execution_count": 5,
   "metadata": {},
   "outputs": [],
   "source": [
    "# Dataframe of all default targetCols are returned when getWeather() is called by getBike(). \n",
    "# Dataframe of All targetCols is used as input to ML model for predicting station availability\n",
    "  \n",
    "def getWeather(datetimeIn = datetime.datetime.now(),targetCols = ['main_temp','main_feels_like', 'main_pressure', 'main_humidity', \\\n",
    "                 'main_temp_min', 'main_temp_max', 'wind_speed', 'wind_deg'],tStampReturn = False):\n",
    "\n",
    "    try:\n",
    "        \n",
    "        test_features,tStampRetVal = get_TimeInputs(datetimeIn,tStampRet = tStampReturn)\n",
    "        result = pd.DataFrame()\n",
    "\n",
    "        for targetC in targetCols: \n",
    "            # load the model     \n",
    "            filename = path + targetC+'.pkl'\n",
    "            rfWeatherModel_loaded = pickle.load(open(filename, 'rb'))\n",
    "\n",
    "            predictions = predictRandomForest(rfWeatherModel_loaded,test_features)\n",
    "            result[targetC] = predictions \n",
    "\n",
    "        for col in result.columns:\n",
    "            if not is_numeric_dtype(result[col]):\n",
    "                result[col] = result[col].astype('category')\n",
    "            else:\n",
    "                result[col] = result[col].astype('int')\n",
    "\n",
    "        return result, tStampRetVal\n",
    "\n",
    "    except Exeption as e:\n",
    "        print(\"Error in getWeather\", e)"
   ]
  },
  {
   "cell_type": "code",
   "execution_count": 6,
   "metadata": {},
   "outputs": [
    {
     "data": {
      "text/plain": [
       "(    main_temp  main_feels_like  main_pressure  main_humidity  main_temp_min  \\\n",
       " 0           8                1           1015             73              7   \n",
       " 1           8                1           1015             75              7   \n",
       " 2           8                1           1015             75              7   \n",
       " 3           8                1           1015             76              6   \n",
       " 4           8                2           1015             80              7   \n",
       " 5           8                1           1015             81              7   \n",
       " 6           8                2           1015             81              7   \n",
       " 7           8                1           1015             81              7   \n",
       " 8           7                2           1016             83              7   \n",
       " 9           8                3           1016             86              7   \n",
       " 10          8                3           1016             84              7   \n",
       " \n",
       "     main_temp_max  wind_speed  wind_deg  \n",
       " 0               9           8       218  \n",
       " 1               9           7       219  \n",
       " 2               9           7       210  \n",
       " 3               9           7       210  \n",
       " 4               9           7       210  \n",
       " 5               9           7       210  \n",
       " 6               9           7       219  \n",
       " 7               9           8       219  \n",
       " 8               9           6       210  \n",
       " 9               9           6       212  \n",
       " 10              8           6       212  ,\n",
       " [])"
      ]
     },
     "execution_count": 6,
     "metadata": {},
     "output_type": "execute_result"
    }
   ],
   "source": [
    "getWeather()"
   ]
  },
  {
   "cell_type": "markdown",
   "metadata": {},
   "source": [
    "## Get future bike station parameters\n",
    "**Function which returns array of station parameters for next 5 hours by 30 minute interval w.r.t. datetimeIn**"
   ]
  },
  {
   "cell_type": "code",
   "execution_count": 7,
   "metadata": {},
   "outputs": [],
   "source": [
    "# Function which returns array of station parameters for next 5 hours by 30 minute interval w.r.t. datetimeIn\n",
    "def getBike(station = 42, datetimeIn = datetime.datetime.now(), targetC = \"bikes\"):\n",
    "    \n",
    "    try:\n",
    "        \n",
    "        targetCols = {'bikes' : 'available_bikes', \"stands\" : 'available_bike_stands'}\n",
    "        # datetimeIn = datetime.datetime.fromtimestamp(datetimeIn)\n",
    "\n",
    "        weatherFeatures, tStampRetVal  = getWeather(datetimeIn)\n",
    "        bikeFeatures,tStampRetVal = get_TimeInputs(ts = datetimeIn, dayOfWeek = True, tStampRet= True)\n",
    "        test_features = weatherFeatures.join(bikeFeatures).values.tolist()\n",
    "\n",
    "        result = pd.DataFrame()\n",
    "\n",
    "        # load the model     \n",
    "        filename = path + 'stn'+str(station)+\"_\"+targetCols[targetC]+'.pkl'\n",
    "        rfWeatherModel_loaded = pickle.load(open(filename, 'rb'))\n",
    "\n",
    "        # Predict station availability for all input timestamps and predicted weather parameters \n",
    "        predictions = predictRandomForest(rfWeatherModel_loaded,test_features)\n",
    "        result[targetCols[targetC]] = predictions \n",
    "        # Cast results as integer values\n",
    "        result = result.astype(int)\n",
    "\n",
    "        return [result[targetCols[targetC]].values.tolist(),list(tStampRetVal)]\n",
    "\n",
    "    except Exeption as e:\n",
    "        print(\"Error in getBike\", e)"
   ]
  },
  {
   "cell_type": "code",
   "execution_count": 8,
   "metadata": {},
   "outputs": [
    {
     "data": {
      "text/plain": [
       "[[24, 24, 16, 17, 18, 19, 19, 19, 19, 19, 19],\n",
       " ['05:16 PM',\n",
       "  '05:30 PM',\n",
       "  '06:00 PM',\n",
       "  '06:30 PM',\n",
       "  '07:00 PM',\n",
       "  '07:30 PM',\n",
       "  '08:00 PM',\n",
       "  '08:30 PM',\n",
       "  '09:00 PM',\n",
       "  '09:30 PM',\n",
       "  '10:00 PM']]"
      ]
     },
     "execution_count": 8,
     "metadata": {},
     "output_type": "execute_result"
    }
   ],
   "source": [
    "getBike()"
   ]
  },
  {
   "cell_type": "markdown",
   "metadata": {},
   "source": [
    "## Support function which returns requested weather predictions as a list of lists "
   ]
  },
  {
   "cell_type": "code",
   "execution_count": 9,
   "metadata": {},
   "outputs": [],
   "source": [
    "def retWeather(datetimeIn = datetime.datetime.now(),targetCols =['main_temp']):\n",
    "    try:\n",
    "        \n",
    "        result = []\n",
    "        # datetimeIn = datetime.datetime.fromtimestamp(datetimeIn)\n",
    "        weatherFeatures,tStampRet = getWeather(datetimeIn = datetimeIn,targetCols = targetCols, tStampReturn = True)\n",
    "        for col in weatherFeatures.columns:\n",
    "            result.append(weatherFeatures[col].values.tolist())\n",
    "        result.append(tStampRet.values.tolist())\n",
    "        return result\n",
    "\n",
    "    except Exeption as e:\n",
    "        print(\"Error in retWeather\", e)"
   ]
  },
  {
   "cell_type": "code",
   "execution_count": 10,
   "metadata": {},
   "outputs": [
    {
     "data": {
      "text/plain": [
       "[[8, 8, 8, 8, 8, 8, 8, 8, 7, 8, 8],\n",
       " ['05:16 PM',\n",
       "  '05:30 PM',\n",
       "  '06:00 PM',\n",
       "  '06:30 PM',\n",
       "  '07:00 PM',\n",
       "  '07:30 PM',\n",
       "  '08:00 PM',\n",
       "  '08:30 PM',\n",
       "  '09:00 PM',\n",
       "  '09:30 PM',\n",
       "  '10:00 PM']]"
      ]
     },
     "execution_count": 10,
     "metadata": {},
     "output_type": "execute_result"
    }
   ],
   "source": [
    "retWeather()"
   ]
  },
  {
   "cell_type": "markdown",
   "metadata": {},
   "source": [
    "## Get future parameters for bike station and weather\n",
    "**Driver function retBikeWeather() returns list of lists consisting:**<br>\n",
    "**[[Bikes Soruce], [main weather Source],[main temperature Source],[Bike_stands Destination], [main weather Destination], [main_temperature Destination]]**    \n"
   ]
  },
  {
   "cell_type": "code",
   "execution_count": 11,
   "metadata": {},
   "outputs": [],
   "source": [
    "# Driver function retBikeWeather() returns list of lists consisting:\n",
    "\n",
    "# [[Bikes Soruce], [main weather Source],[main temperature Source],\\\n",
    "# [Bike_stands Destination], [main weather Destination], [main_temperature Destination]]    \n",
    "\n",
    "def retBikeWeather(stations = [42,43], datetimeIP = [datetime.datetime.now(), datetime.datetime.now()], targetC = [\"bikes\", \"stands\"]):\n",
    "    try:\n",
    "        \n",
    "        result = []\n",
    "        # datetimeIn = datetime.datetime.fromtimestamp(datetimeIn)\n",
    "        for (station,datetimeIn, targetC) in zip(stations, datetimeIP, targetC):\n",
    "            bData = getBike(station = station, datetimeIn = datetimeIn, targetC = targetC)\n",
    "            result.append(bData)\n",
    "            wData = retWeather(datetimeIn = datetimeIn,targetCols =['weather_main'])\n",
    "            result.append(wData)\n",
    "            tData = retWeather(datetimeIn = datetimeIn, targetCols =['main_temp'])\n",
    "            result.append(tData)        \n",
    "            \n",
    "        return result\n",
    "\n",
    "    except Exeption as e:\n",
    "        print(\"Error in retBikeWeather\", e)"
   ]
  },
  {
   "cell_type": "code",
   "execution_count": 12,
   "metadata": {
    "scrolled": false
   },
   "outputs": [
    {
     "data": {
      "text/plain": [
       "[[[18, 18, 18, 18, 18, 18, 18, 18, 18, 18, 18],\n",
       "  ['05:16 PM',\n",
       "   '05:30 PM',\n",
       "   '06:00 PM',\n",
       "   '06:30 PM',\n",
       "   '07:00 PM',\n",
       "   '07:30 PM',\n",
       "   '08:00 PM',\n",
       "   '08:30 PM',\n",
       "   '09:00 PM',\n",
       "   '09:30 PM',\n",
       "   '10:00 PM']],\n",
       " [['Clouds',\n",
       "   'Clouds',\n",
       "   'Clouds',\n",
       "   'Clouds',\n",
       "   'Clouds',\n",
       "   'Clouds',\n",
       "   'Clouds',\n",
       "   'Rain',\n",
       "   'Clouds',\n",
       "   'Clouds',\n",
       "   'Clouds'],\n",
       "  ['05:16 PM',\n",
       "   '05:30 PM',\n",
       "   '06:00 PM',\n",
       "   '06:30 PM',\n",
       "   '07:00 PM',\n",
       "   '07:30 PM',\n",
       "   '08:00 PM',\n",
       "   '08:30 PM',\n",
       "   '09:00 PM',\n",
       "   '09:30 PM',\n",
       "   '10:00 PM']],\n",
       " [[8, 8, 8, 8, 8, 8, 8, 8, 7, 8, 8],\n",
       "  ['05:16 PM',\n",
       "   '05:30 PM',\n",
       "   '06:00 PM',\n",
       "   '06:30 PM',\n",
       "   '07:00 PM',\n",
       "   '07:30 PM',\n",
       "   '08:00 PM',\n",
       "   '08:30 PM',\n",
       "   '09:00 PM',\n",
       "   '09:30 PM',\n",
       "   '10:00 PM']],\n",
       " [[1, 1, 1, 1, 1, 1, 1, 1, 1, 1, 1],\n",
       "  ['05:16 PM',\n",
       "   '05:30 PM',\n",
       "   '06:00 PM',\n",
       "   '06:30 PM',\n",
       "   '07:00 PM',\n",
       "   '07:30 PM',\n",
       "   '08:00 PM',\n",
       "   '08:30 PM',\n",
       "   '09:00 PM',\n",
       "   '09:30 PM',\n",
       "   '10:00 PM']],\n",
       " [['Clouds',\n",
       "   'Clouds',\n",
       "   'Clouds',\n",
       "   'Clouds',\n",
       "   'Clouds',\n",
       "   'Clouds',\n",
       "   'Clouds',\n",
       "   'Rain',\n",
       "   'Clouds',\n",
       "   'Clouds',\n",
       "   'Clouds'],\n",
       "  ['05:16 PM',\n",
       "   '05:30 PM',\n",
       "   '06:00 PM',\n",
       "   '06:30 PM',\n",
       "   '07:00 PM',\n",
       "   '07:30 PM',\n",
       "   '08:00 PM',\n",
       "   '08:30 PM',\n",
       "   '09:00 PM',\n",
       "   '09:30 PM',\n",
       "   '10:00 PM']],\n",
       " [[8, 8, 8, 8, 8, 8, 8, 8, 7, 8, 8],\n",
       "  ['05:16 PM',\n",
       "   '05:30 PM',\n",
       "   '06:00 PM',\n",
       "   '06:30 PM',\n",
       "   '07:00 PM',\n",
       "   '07:30 PM',\n",
       "   '08:00 PM',\n",
       "   '08:30 PM',\n",
       "   '09:00 PM',\n",
       "   '09:30 PM',\n",
       "   '10:00 PM']]]"
      ]
     },
     "execution_count": 12,
     "metadata": {},
     "output_type": "execute_result"
    }
   ],
   "source": [
    "retBikeWeather(stations = [41,41], datetimeIP = [datetime.datetime.now(), datetime.datetime.now()], targetC = [\"bikes\", \"stands\"])"
   ]
  }
 ],
 "metadata": {
  "hide_code_all_hidden": false,
  "kernelspec": {
   "display_name": "Python 3",
   "language": "python",
   "name": "python3"
  },
  "language_info": {
   "codemirror_mode": {
    "name": "ipython",
    "version": 3
   },
   "file_extension": ".py",
   "mimetype": "text/x-python",
   "name": "python",
   "nbconvert_exporter": "python",
   "pygments_lexer": "ipython3",
   "version": "3.7.6"
  }
 },
 "nbformat": 4,
 "nbformat_minor": 2
}

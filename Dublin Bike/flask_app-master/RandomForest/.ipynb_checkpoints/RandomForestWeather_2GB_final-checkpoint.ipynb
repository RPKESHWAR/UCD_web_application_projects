{
 "cells": [
  {
   "cell_type": "markdown",
   "metadata": {},
   "source": [
    "get format for datetime inputs [dateInput = [date hour minute year month1 month2 .... month12]] <br>\n",
    "day of week dropped"
   ]
  },
  {
   "cell_type": "markdown",
   "metadata": {},
   "source": [
    "# Data Preparation"
   ]
  },
  {
   "cell_type": "code",
   "execution_count": 1,
   "metadata": {
    "hideCode": false,
    "hidePrompt": false
   },
   "outputs": [],
   "source": [
    "# Import pandas, numpy, matplotlib, seaborn libraries\n",
    "import pandas as pd\n",
    "import numpy as np\n",
    "import matplotlib.pyplot as plt\n",
    "import datetime\n",
    "\n",
    "# Using sklearn to split data into training and testing sets,train classifier and regressor models \n",
    "from sklearn.model_selection import train_test_split\n",
    "from sklearn.ensemble import RandomForestRegressor\n",
    "from sklearn.ensemble import RandomForestClassifier\n",
    "from sklearn import metrics\n",
    "#pickle package saves and loads sklearn models\n",
    "import pickle\n",
    "\n",
    "# hide ipykernel warnings \n",
    "import warnings\n",
    "warnings.filterwarnings('ignore')\n",
    "\n",
    "%matplotlib inline"
   ]
  },
  {
   "cell_type": "markdown",
   "metadata": {},
   "source": [
    "## Import data"
   ]
  },
  {
   "cell_type": "markdown",
   "metadata": {},
   "source": [
    "### Import weather dynamic data from csv into dataframe"
   ]
  },
  {
   "cell_type": "code",
   "execution_count": 2,
   "metadata": {
    "scrolled": true
   },
   "outputs": [
    {
     "data": {
      "text/html": [
       "<div>\n",
       "<style scoped>\n",
       "    .dataframe tbody tr th:only-of-type {\n",
       "        vertical-align: middle;\n",
       "    }\n",
       "\n",
       "    .dataframe tbody tr th {\n",
       "        vertical-align: top;\n",
       "    }\n",
       "\n",
       "    .dataframe thead th {\n",
       "        text-align: right;\n",
       "    }\n",
       "</style>\n",
       "<table border=\"1\" class=\"dataframe\">\n",
       "  <thead>\n",
       "    <tr style=\"text-align: right;\">\n",
       "      <th></th>\n",
       "      <th>main_temp</th>\n",
       "      <th>main_feels_like</th>\n",
       "      <th>main_pressure</th>\n",
       "      <th>main_humidity</th>\n",
       "      <th>main_temp_min</th>\n",
       "      <th>main_temp_max</th>\n",
       "      <th>wind_speed</th>\n",
       "      <th>wind_deg</th>\n",
       "      <th>data_entry_timestamp</th>\n",
       "      <th>weather_main</th>\n",
       "    </tr>\n",
       "  </thead>\n",
       "  <tbody>\n",
       "    <tr>\n",
       "      <th>3437</th>\n",
       "      <td>10</td>\n",
       "      <td>7</td>\n",
       "      <td>1018</td>\n",
       "      <td>66</td>\n",
       "      <td>8</td>\n",
       "      <td>12</td>\n",
       "      <td>2.6</td>\n",
       "      <td>150.0</td>\n",
       "      <td>8/24/2020 10:40</td>\n",
       "      <td>Clouds</td>\n",
       "    </tr>\n",
       "    <tr>\n",
       "      <th>3438</th>\n",
       "      <td>11</td>\n",
       "      <td>9</td>\n",
       "      <td>1017</td>\n",
       "      <td>58</td>\n",
       "      <td>9</td>\n",
       "      <td>12</td>\n",
       "      <td>1.0</td>\n",
       "      <td>NaN</td>\n",
       "      <td>9/24/2020 10:50</td>\n",
       "      <td>Clouds</td>\n",
       "    </tr>\n",
       "    <tr>\n",
       "      <th>3439</th>\n",
       "      <td>11</td>\n",
       "      <td>9</td>\n",
       "      <td>1017</td>\n",
       "      <td>58</td>\n",
       "      <td>9</td>\n",
       "      <td>12</td>\n",
       "      <td>1.0</td>\n",
       "      <td>NaN</td>\n",
       "      <td>10/24/2020 0:00</td>\n",
       "      <td>Fog</td>\n",
       "    </tr>\n",
       "    <tr>\n",
       "      <th>3440</th>\n",
       "      <td>11</td>\n",
       "      <td>9</td>\n",
       "      <td>1017</td>\n",
       "      <td>58</td>\n",
       "      <td>9</td>\n",
       "      <td>12</td>\n",
       "      <td>1.0</td>\n",
       "      <td>NaN</td>\n",
       "      <td>11/24/2020 11:10</td>\n",
       "      <td>Fog</td>\n",
       "    </tr>\n",
       "    <tr>\n",
       "      <th>3441</th>\n",
       "      <td>11</td>\n",
       "      <td>7</td>\n",
       "      <td>1017</td>\n",
       "      <td>62</td>\n",
       "      <td>10</td>\n",
       "      <td>12</td>\n",
       "      <td>4.1</td>\n",
       "      <td>200.0</td>\n",
       "      <td>12/24/2020 11:20</td>\n",
       "      <td>Fog</td>\n",
       "    </tr>\n",
       "  </tbody>\n",
       "</table>\n",
       "</div>"
      ],
      "text/plain": [
       "      main_temp  main_feels_like  main_pressure  main_humidity  main_temp_min  \\\n",
       "3437         10                7           1018             66              8   \n",
       "3438         11                9           1017             58              9   \n",
       "3439         11                9           1017             58              9   \n",
       "3440         11                9           1017             58              9   \n",
       "3441         11                7           1017             62             10   \n",
       "\n",
       "      main_temp_max  wind_speed  wind_deg data_entry_timestamp weather_main  \n",
       "3437             12         2.6     150.0      8/24/2020 10:40       Clouds  \n",
       "3438             12         1.0       NaN      9/24/2020 10:50       Clouds  \n",
       "3439             12         1.0       NaN      10/24/2020 0:00          Fog  \n",
       "3440             12         1.0       NaN     11/24/2020 11:10          Fog  \n",
       "3441             12         4.1     200.0     12/24/2020 11:20          Fog  "
      ]
     },
     "execution_count": 2,
     "metadata": {},
     "output_type": "execute_result"
    }
   ],
   "source": [
    "# Read in data as pandas dataframe and display first 5 rows\n",
    "weatherDynamic = pd.read_csv('dWeatherD.csv')\n",
    "weatherDynamic.reset_index(drop=True)\n",
    "weatherDynamic = weatherDynamic[['main_temp','main_feels_like',\\\n",
    "                               'main_pressure','main_humidity','main_temp_min', 'main_temp_max', \\\n",
    "                                'wind_speed', 'wind_deg','data_entry_timestamp', 'weather_main']]\n",
    "weatherDynamic.reset_index(drop=True)\n",
    "\n",
    "weatherDynamic.tail(5)"
   ]
  },
  {
   "cell_type": "markdown",
   "metadata": {},
   "source": [
    "#### check for shape"
   ]
  },
  {
   "cell_type": "code",
   "execution_count": 3,
   "metadata": {
    "hideCode": false,
    "hidePrompt": false,
    "scrolled": true
   },
   "outputs": [
    {
     "name": "stdout",
     "output_type": "stream",
     "text": [
      "The shape of our features is: (3442, 10) \n",
      " main_temp                 int64\n",
      "main_feels_like           int64\n",
      "main_pressure             int64\n",
      "main_humidity             int64\n",
      "main_temp_min             int64\n",
      "main_temp_max             int64\n",
      "wind_speed              float64\n",
      "wind_deg                float64\n",
      "data_entry_timestamp     object\n",
      "weather_main             object\n",
      "dtype: object\n"
     ]
    }
   ],
   "source": [
    "print('The shape of our features is:', weatherDynamic.shape,'\\n', weatherDynamic.dtypes)"
   ]
  },
  {
   "cell_type": "markdown",
   "metadata": {},
   "source": [
    "#### check for Null entries"
   ]
  },
  {
   "cell_type": "code",
   "execution_count": 4,
   "metadata": {
    "scrolled": false
   },
   "outputs": [
    {
     "data": {
      "text/plain": [
       "main_temp                 0\n",
       "main_feels_like           0\n",
       "main_pressure             0\n",
       "main_humidity             0\n",
       "main_temp_min             0\n",
       "main_temp_max             0\n",
       "wind_speed                0\n",
       "wind_deg                112\n",
       "data_entry_timestamp      0\n",
       "weather_main              0\n",
       "dtype: int64"
      ]
     },
     "execution_count": 4,
     "metadata": {},
     "output_type": "execute_result"
    }
   ],
   "source": [
    "weatherDynamic.isnull().sum()"
   ]
  },
  {
   "cell_type": "markdown",
   "metadata": {},
   "source": [
    "#### Fill Null entries"
   ]
  },
  {
   "cell_type": "code",
   "execution_count": 5,
   "metadata": {},
   "outputs": [],
   "source": [
    "weatherDynamic.loc[weatherDynamic['wind_deg'].isnull(),('wind_deg')] = weatherDynamic['wind_deg'].ffill()"
   ]
  },
  {
   "cell_type": "code",
   "execution_count": 6,
   "metadata": {
    "scrolled": true
   },
   "outputs": [
    {
     "data": {
      "text/plain": [
       "main_temp               0\n",
       "main_feels_like         0\n",
       "main_pressure           0\n",
       "main_humidity           0\n",
       "main_temp_min           0\n",
       "main_temp_max           0\n",
       "wind_speed              0\n",
       "wind_deg                0\n",
       "data_entry_timestamp    0\n",
       "weather_main            0\n",
       "dtype: int64"
      ]
     },
     "execution_count": 6,
     "metadata": {},
     "output_type": "execute_result"
    }
   ],
   "source": [
    "weatherDynamic.isnull().sum()"
   ]
  },
  {
   "cell_type": "markdown",
   "metadata": {},
   "source": [
    "## Process and normalise dates"
   ]
  },
  {
   "cell_type": "markdown",
   "metadata": {},
   "source": [
    "**Observation state that results for date 28 February and 24 March are patial. Hence, they can be dropped for data consistency. Its upto discration of user whether to incorporate it for training or not.** "
   ]
  },
  {
   "cell_type": "markdown",
   "metadata": {},
   "source": [
    "### dublin weather"
   ]
  },
  {
   "cell_type": "code",
   "execution_count": 7,
   "metadata": {
    "scrolled": true
   },
   "outputs": [
    {
     "data": {
      "text/html": [
       "<div>\n",
       "<style scoped>\n",
       "    .dataframe tbody tr th:only-of-type {\n",
       "        vertical-align: middle;\n",
       "    }\n",
       "\n",
       "    .dataframe tbody tr th {\n",
       "        vertical-align: top;\n",
       "    }\n",
       "\n",
       "    .dataframe thead th {\n",
       "        text-align: right;\n",
       "    }\n",
       "</style>\n",
       "<table border=\"1\" class=\"dataframe\">\n",
       "  <thead>\n",
       "    <tr style=\"text-align: right;\">\n",
       "      <th></th>\n",
       "      <th>main_temp</th>\n",
       "      <th>main_feels_like</th>\n",
       "      <th>main_pressure</th>\n",
       "      <th>main_humidity</th>\n",
       "      <th>main_temp_min</th>\n",
       "      <th>main_temp_max</th>\n",
       "      <th>wind_speed</th>\n",
       "      <th>wind_deg</th>\n",
       "      <th>data_entry_timestamp</th>\n",
       "      <th>weather_main</th>\n",
       "    </tr>\n",
       "  </thead>\n",
       "  <tbody>\n",
       "    <tr>\n",
       "      <th>3437</th>\n",
       "      <td>10</td>\n",
       "      <td>7</td>\n",
       "      <td>1018</td>\n",
       "      <td>66</td>\n",
       "      <td>8</td>\n",
       "      <td>12</td>\n",
       "      <td>2.6</td>\n",
       "      <td>150.0</td>\n",
       "      <td>2020-08-24 10:40:00</td>\n",
       "      <td>Clouds</td>\n",
       "    </tr>\n",
       "    <tr>\n",
       "      <th>3438</th>\n",
       "      <td>11</td>\n",
       "      <td>9</td>\n",
       "      <td>1017</td>\n",
       "      <td>58</td>\n",
       "      <td>9</td>\n",
       "      <td>12</td>\n",
       "      <td>1.0</td>\n",
       "      <td>150.0</td>\n",
       "      <td>2020-09-24 10:50:00</td>\n",
       "      <td>Clouds</td>\n",
       "    </tr>\n",
       "    <tr>\n",
       "      <th>3439</th>\n",
       "      <td>11</td>\n",
       "      <td>9</td>\n",
       "      <td>1017</td>\n",
       "      <td>58</td>\n",
       "      <td>9</td>\n",
       "      <td>12</td>\n",
       "      <td>1.0</td>\n",
       "      <td>150.0</td>\n",
       "      <td>2020-10-24 00:00:00</td>\n",
       "      <td>Fog</td>\n",
       "    </tr>\n",
       "    <tr>\n",
       "      <th>3440</th>\n",
       "      <td>11</td>\n",
       "      <td>9</td>\n",
       "      <td>1017</td>\n",
       "      <td>58</td>\n",
       "      <td>9</td>\n",
       "      <td>12</td>\n",
       "      <td>1.0</td>\n",
       "      <td>150.0</td>\n",
       "      <td>2020-11-24 11:10:00</td>\n",
       "      <td>Fog</td>\n",
       "    </tr>\n",
       "    <tr>\n",
       "      <th>3441</th>\n",
       "      <td>11</td>\n",
       "      <td>7</td>\n",
       "      <td>1017</td>\n",
       "      <td>62</td>\n",
       "      <td>10</td>\n",
       "      <td>12</td>\n",
       "      <td>4.1</td>\n",
       "      <td>200.0</td>\n",
       "      <td>2020-12-24 11:20:00</td>\n",
       "      <td>Fog</td>\n",
       "    </tr>\n",
       "  </tbody>\n",
       "</table>\n",
       "</div>"
      ],
      "text/plain": [
       "      main_temp  main_feels_like  main_pressure  main_humidity  main_temp_min  \\\n",
       "3437         10                7           1018             66              8   \n",
       "3438         11                9           1017             58              9   \n",
       "3439         11                9           1017             58              9   \n",
       "3440         11                9           1017             58              9   \n",
       "3441         11                7           1017             62             10   \n",
       "\n",
       "      main_temp_max  wind_speed  wind_deg data_entry_timestamp weather_main  \n",
       "3437             12         2.6     150.0  2020-08-24 10:40:00       Clouds  \n",
       "3438             12         1.0     150.0  2020-09-24 10:50:00       Clouds  \n",
       "3439             12         1.0     150.0  2020-10-24 00:00:00          Fog  \n",
       "3440             12         1.0     150.0  2020-11-24 11:10:00          Fog  \n",
       "3441             12         4.1     200.0  2020-12-24 11:20:00          Fog  "
      ]
     },
     "execution_count": 7,
     "metadata": {},
     "output_type": "execute_result"
    }
   ],
   "source": [
    "#DATETIME DATA\n",
    "\n",
    "# Select columns containing datetime data\n",
    "continous_date_columns = weatherDynamic[['data_entry_timestamp']].columns\n",
    "\n",
    "# Assign object type datetime to columns enlisted in continous_date_columns\n",
    "for column in continous_date_columns:\n",
    "    weatherDynamic[column] = pd.to_datetime(weatherDynamic[column])   \n",
    "    \n",
    "# end_date = pd.to_datetime('2020-03-24')\n",
    "# start_date = pd.to_datetime('2020-02-28')\n",
    "\n",
    "# # Ommit partial data for dates 28-2-2020 and 24-3-2020\n",
    "# mask = (weatherDynamic['data_entry_timestamp'].dt.date > start_date) & (weatherDynamic['data_entry_timestamp'].dt.date < end_date)\n",
    "# weatherDynamic = weatherDynamic.loc[mask]\n",
    "\n",
    "# for column in continous_date_columns:\n",
    "#     weatherDynamic[column] = pd.to_datetime(weatherDynamic[column])   \n",
    "    \n",
    "weatherDynamic.tail()"
   ]
  },
  {
   "cell_type": "code",
   "execution_count": 8,
   "metadata": {
    "hideCode": false,
    "hidePrompt": false,
    "scrolled": true
   },
   "outputs": [
    {
     "name": "stdout",
     "output_type": "stream",
     "text": [
      "The shape of our features is: (3442, 10) \n",
      " main_temp                        int64\n",
      "main_feels_like                  int64\n",
      "main_pressure                    int64\n",
      "main_humidity                    int64\n",
      "main_temp_min                    int64\n",
      "main_temp_max                    int64\n",
      "wind_speed                     float64\n",
      "wind_deg                       float64\n",
      "data_entry_timestamp    datetime64[ns]\n",
      "weather_main                    object\n",
      "dtype: object\n"
     ]
    }
   ],
   "source": [
    "print('The shape of our features is:', weatherDynamic.shape,'\\n', weatherDynamic.dtypes)"
   ]
  },
  {
   "cell_type": "code",
   "execution_count": 9,
   "metadata": {},
   "outputs": [
    {
     "data": {
      "text/html": [
       "<div>\n",
       "<style scoped>\n",
       "    .dataframe tbody tr th:only-of-type {\n",
       "        vertical-align: middle;\n",
       "    }\n",
       "\n",
       "    .dataframe tbody tr th {\n",
       "        vertical-align: top;\n",
       "    }\n",
       "\n",
       "    .dataframe thead th {\n",
       "        text-align: right;\n",
       "    }\n",
       "</style>\n",
       "<table border=\"1\" class=\"dataframe\">\n",
       "  <thead>\n",
       "    <tr style=\"text-align: right;\">\n",
       "      <th></th>\n",
       "      <th>main_temp</th>\n",
       "      <th>main_feels_like</th>\n",
       "      <th>main_pressure</th>\n",
       "      <th>main_humidity</th>\n",
       "      <th>main_temp_min</th>\n",
       "      <th>main_temp_max</th>\n",
       "      <th>wind_speed</th>\n",
       "      <th>wind_deg</th>\n",
       "      <th>data_entry_timestamp</th>\n",
       "      <th>weather_main</th>\n",
       "    </tr>\n",
       "  </thead>\n",
       "  <tbody>\n",
       "    <tr>\n",
       "      <th>0</th>\n",
       "      <td>12</td>\n",
       "      <td>7</td>\n",
       "      <td>987</td>\n",
       "      <td>87</td>\n",
       "      <td>11</td>\n",
       "      <td>14</td>\n",
       "      <td>7.2</td>\n",
       "      <td>250.0</td>\n",
       "      <td>2020-02-28 15:00:00</td>\n",
       "      <td>Clouds</td>\n",
       "    </tr>\n",
       "    <tr>\n",
       "      <th>1</th>\n",
       "      <td>12</td>\n",
       "      <td>7</td>\n",
       "      <td>987</td>\n",
       "      <td>87</td>\n",
       "      <td>11</td>\n",
       "      <td>14</td>\n",
       "      <td>7.2</td>\n",
       "      <td>250.0</td>\n",
       "      <td>2020-02-28 15:10:00</td>\n",
       "      <td>Clouds</td>\n",
       "    </tr>\n",
       "    <tr>\n",
       "      <th>2</th>\n",
       "      <td>11</td>\n",
       "      <td>6</td>\n",
       "      <td>987</td>\n",
       "      <td>87</td>\n",
       "      <td>11</td>\n",
       "      <td>12</td>\n",
       "      <td>7.2</td>\n",
       "      <td>250.0</td>\n",
       "      <td>2020-02-28 15:20:00</td>\n",
       "      <td>Clouds</td>\n",
       "    </tr>\n",
       "    <tr>\n",
       "      <th>3</th>\n",
       "      <td>12</td>\n",
       "      <td>5</td>\n",
       "      <td>987</td>\n",
       "      <td>71</td>\n",
       "      <td>11</td>\n",
       "      <td>12</td>\n",
       "      <td>8.2</td>\n",
       "      <td>250.0</td>\n",
       "      <td>2020-02-28 15:30:00</td>\n",
       "      <td>Clouds</td>\n",
       "    </tr>\n",
       "    <tr>\n",
       "      <th>4</th>\n",
       "      <td>12</td>\n",
       "      <td>5</td>\n",
       "      <td>987</td>\n",
       "      <td>71</td>\n",
       "      <td>11</td>\n",
       "      <td>12</td>\n",
       "      <td>8.2</td>\n",
       "      <td>250.0</td>\n",
       "      <td>2020-02-28 15:40:00</td>\n",
       "      <td>Clouds</td>\n",
       "    </tr>\n",
       "  </tbody>\n",
       "</table>\n",
       "</div>"
      ],
      "text/plain": [
       "   main_temp  main_feels_like  main_pressure  main_humidity  main_temp_min  \\\n",
       "0         12                7            987             87             11   \n",
       "1         12                7            987             87             11   \n",
       "2         11                6            987             87             11   \n",
       "3         12                5            987             71             11   \n",
       "4         12                5            987             71             11   \n",
       "\n",
       "   main_temp_max  wind_speed  wind_deg data_entry_timestamp weather_main  \n",
       "0             14         7.2     250.0  2020-02-28 15:00:00       Clouds  \n",
       "1             14         7.2     250.0  2020-02-28 15:10:00       Clouds  \n",
       "2             12         7.2     250.0  2020-02-28 15:20:00       Clouds  \n",
       "3             12         8.2     250.0  2020-02-28 15:30:00       Clouds  \n",
       "4             12         8.2     250.0  2020-02-28 15:40:00       Clouds  "
      ]
     },
     "execution_count": 9,
     "metadata": {},
     "output_type": "execute_result"
    }
   ],
   "source": [
    "weatherDynamic.head()"
   ]
  },
  {
   "cell_type": "code",
   "execution_count": 10,
   "metadata": {
    "hideCode": false,
    "hidePrompt": false,
    "scrolled": false
   },
   "outputs": [
    {
     "name": "stdout",
     "output_type": "stream",
     "text": [
      "The shape of our features is: (3442, 10) \n",
      " main_temp                        int64\n",
      "main_feels_like                  int64\n",
      "main_pressure                    int64\n",
      "main_humidity                    int64\n",
      "main_temp_min                    int64\n",
      "main_temp_max                    int64\n",
      "wind_speed                     float64\n",
      "wind_deg                       float64\n",
      "data_entry_timestamp    datetime64[ns]\n",
      "weather_main                    object\n",
      "dtype: object\n"
     ]
    }
   ],
   "source": [
    "print('The shape of our features is:', weatherDynamic.shape,'\\n', weatherDynamic.dtypes)"
   ]
  },
  {
   "cell_type": "markdown",
   "metadata": {},
   "source": [
    "### Resolve date into time components"
   ]
  },
  {
   "cell_type": "code",
   "execution_count": 11,
   "metadata": {},
   "outputs": [],
   "source": [
    "#Drop 'last_update' feature\n",
    "weatherDynamic['year'] = weatherDynamic.data_entry_timestamp.dt.year \n",
    "weatherDynamic['Day'] = weatherDynamic.data_entry_timestamp.dt.day\n",
    "weatherDynamic['month'] = weatherDynamic.data_entry_timestamp.dt.month\n",
    "weatherDynamic['hour'] = weatherDynamic.data_entry_timestamp.dt.hour\n",
    "weatherDynamic['minute'] = weatherDynamic.data_entry_timestamp.dt.minute\n",
    "weatherDynamic = weatherDynamic.drop(['data_entry_timestamp'], axis=1)"
   ]
  },
  {
   "cell_type": "markdown",
   "metadata": {},
   "source": [
    "### Set Data types prior to encoding"
   ]
  },
  {
   "cell_type": "code",
   "execution_count": 12,
   "metadata": {
    "scrolled": true
   },
   "outputs": [
    {
     "data": {
      "text/html": [
       "<div>\n",
       "<style scoped>\n",
       "    .dataframe tbody tr th:only-of-type {\n",
       "        vertical-align: middle;\n",
       "    }\n",
       "\n",
       "    .dataframe tbody tr th {\n",
       "        vertical-align: top;\n",
       "    }\n",
       "\n",
       "    .dataframe thead th {\n",
       "        text-align: right;\n",
       "    }\n",
       "</style>\n",
       "<table border=\"1\" class=\"dataframe\">\n",
       "  <thead>\n",
       "    <tr style=\"text-align: right;\">\n",
       "      <th></th>\n",
       "      <th>main_temp</th>\n",
       "      <th>main_feels_like</th>\n",
       "      <th>main_pressure</th>\n",
       "      <th>main_humidity</th>\n",
       "      <th>main_temp_min</th>\n",
       "      <th>main_temp_max</th>\n",
       "      <th>wind_speed</th>\n",
       "      <th>wind_deg</th>\n",
       "      <th>weather_main</th>\n",
       "      <th>year</th>\n",
       "      <th>Day</th>\n",
       "      <th>month</th>\n",
       "      <th>hour</th>\n",
       "      <th>minute</th>\n",
       "    </tr>\n",
       "  </thead>\n",
       "  <tbody>\n",
       "    <tr>\n",
       "      <th>0</th>\n",
       "      <td>12</td>\n",
       "      <td>7</td>\n",
       "      <td>987</td>\n",
       "      <td>87</td>\n",
       "      <td>11</td>\n",
       "      <td>14</td>\n",
       "      <td>7.2</td>\n",
       "      <td>250.0</td>\n",
       "      <td>Clouds</td>\n",
       "      <td>2020</td>\n",
       "      <td>28</td>\n",
       "      <td>2</td>\n",
       "      <td>15</td>\n",
       "      <td>0</td>\n",
       "    </tr>\n",
       "    <tr>\n",
       "      <th>1</th>\n",
       "      <td>12</td>\n",
       "      <td>7</td>\n",
       "      <td>987</td>\n",
       "      <td>87</td>\n",
       "      <td>11</td>\n",
       "      <td>14</td>\n",
       "      <td>7.2</td>\n",
       "      <td>250.0</td>\n",
       "      <td>Clouds</td>\n",
       "      <td>2020</td>\n",
       "      <td>28</td>\n",
       "      <td>2</td>\n",
       "      <td>15</td>\n",
       "      <td>10</td>\n",
       "    </tr>\n",
       "    <tr>\n",
       "      <th>2</th>\n",
       "      <td>11</td>\n",
       "      <td>6</td>\n",
       "      <td>987</td>\n",
       "      <td>87</td>\n",
       "      <td>11</td>\n",
       "      <td>12</td>\n",
       "      <td>7.2</td>\n",
       "      <td>250.0</td>\n",
       "      <td>Clouds</td>\n",
       "      <td>2020</td>\n",
       "      <td>28</td>\n",
       "      <td>2</td>\n",
       "      <td>15</td>\n",
       "      <td>20</td>\n",
       "    </tr>\n",
       "    <tr>\n",
       "      <th>3</th>\n",
       "      <td>12</td>\n",
       "      <td>5</td>\n",
       "      <td>987</td>\n",
       "      <td>71</td>\n",
       "      <td>11</td>\n",
       "      <td>12</td>\n",
       "      <td>8.2</td>\n",
       "      <td>250.0</td>\n",
       "      <td>Clouds</td>\n",
       "      <td>2020</td>\n",
       "      <td>28</td>\n",
       "      <td>2</td>\n",
       "      <td>15</td>\n",
       "      <td>30</td>\n",
       "    </tr>\n",
       "    <tr>\n",
       "      <th>4</th>\n",
       "      <td>12</td>\n",
       "      <td>5</td>\n",
       "      <td>987</td>\n",
       "      <td>71</td>\n",
       "      <td>11</td>\n",
       "      <td>12</td>\n",
       "      <td>8.2</td>\n",
       "      <td>250.0</td>\n",
       "      <td>Clouds</td>\n",
       "      <td>2020</td>\n",
       "      <td>28</td>\n",
       "      <td>2</td>\n",
       "      <td>15</td>\n",
       "      <td>40</td>\n",
       "    </tr>\n",
       "    <tr>\n",
       "      <th>...</th>\n",
       "      <td>...</td>\n",
       "      <td>...</td>\n",
       "      <td>...</td>\n",
       "      <td>...</td>\n",
       "      <td>...</td>\n",
       "      <td>...</td>\n",
       "      <td>...</td>\n",
       "      <td>...</td>\n",
       "      <td>...</td>\n",
       "      <td>...</td>\n",
       "      <td>...</td>\n",
       "      <td>...</td>\n",
       "      <td>...</td>\n",
       "      <td>...</td>\n",
       "    </tr>\n",
       "    <tr>\n",
       "      <th>3437</th>\n",
       "      <td>10</td>\n",
       "      <td>7</td>\n",
       "      <td>1018</td>\n",
       "      <td>66</td>\n",
       "      <td>8</td>\n",
       "      <td>12</td>\n",
       "      <td>2.6</td>\n",
       "      <td>150.0</td>\n",
       "      <td>Clouds</td>\n",
       "      <td>2020</td>\n",
       "      <td>24</td>\n",
       "      <td>8</td>\n",
       "      <td>10</td>\n",
       "      <td>40</td>\n",
       "    </tr>\n",
       "    <tr>\n",
       "      <th>3438</th>\n",
       "      <td>11</td>\n",
       "      <td>9</td>\n",
       "      <td>1017</td>\n",
       "      <td>58</td>\n",
       "      <td>9</td>\n",
       "      <td>12</td>\n",
       "      <td>1.0</td>\n",
       "      <td>150.0</td>\n",
       "      <td>Clouds</td>\n",
       "      <td>2020</td>\n",
       "      <td>24</td>\n",
       "      <td>9</td>\n",
       "      <td>10</td>\n",
       "      <td>50</td>\n",
       "    </tr>\n",
       "    <tr>\n",
       "      <th>3439</th>\n",
       "      <td>11</td>\n",
       "      <td>9</td>\n",
       "      <td>1017</td>\n",
       "      <td>58</td>\n",
       "      <td>9</td>\n",
       "      <td>12</td>\n",
       "      <td>1.0</td>\n",
       "      <td>150.0</td>\n",
       "      <td>Fog</td>\n",
       "      <td>2020</td>\n",
       "      <td>24</td>\n",
       "      <td>10</td>\n",
       "      <td>0</td>\n",
       "      <td>0</td>\n",
       "    </tr>\n",
       "    <tr>\n",
       "      <th>3440</th>\n",
       "      <td>11</td>\n",
       "      <td>9</td>\n",
       "      <td>1017</td>\n",
       "      <td>58</td>\n",
       "      <td>9</td>\n",
       "      <td>12</td>\n",
       "      <td>1.0</td>\n",
       "      <td>150.0</td>\n",
       "      <td>Fog</td>\n",
       "      <td>2020</td>\n",
       "      <td>24</td>\n",
       "      <td>11</td>\n",
       "      <td>11</td>\n",
       "      <td>10</td>\n",
       "    </tr>\n",
       "    <tr>\n",
       "      <th>3441</th>\n",
       "      <td>11</td>\n",
       "      <td>7</td>\n",
       "      <td>1017</td>\n",
       "      <td>62</td>\n",
       "      <td>10</td>\n",
       "      <td>12</td>\n",
       "      <td>4.1</td>\n",
       "      <td>200.0</td>\n",
       "      <td>Fog</td>\n",
       "      <td>2020</td>\n",
       "      <td>24</td>\n",
       "      <td>12</td>\n",
       "      <td>11</td>\n",
       "      <td>20</td>\n",
       "    </tr>\n",
       "  </tbody>\n",
       "</table>\n",
       "<p>3442 rows × 14 columns</p>\n",
       "</div>"
      ],
      "text/plain": [
       "      main_temp  main_feels_like  main_pressure  main_humidity  main_temp_min  \\\n",
       "0            12                7            987             87             11   \n",
       "1            12                7            987             87             11   \n",
       "2            11                6            987             87             11   \n",
       "3            12                5            987             71             11   \n",
       "4            12                5            987             71             11   \n",
       "...         ...              ...            ...            ...            ...   \n",
       "3437         10                7           1018             66              8   \n",
       "3438         11                9           1017             58              9   \n",
       "3439         11                9           1017             58              9   \n",
       "3440         11                9           1017             58              9   \n",
       "3441         11                7           1017             62             10   \n",
       "\n",
       "      main_temp_max  wind_speed  wind_deg weather_main  year  Day  month  \\\n",
       "0                14         7.2     250.0       Clouds  2020   28      2   \n",
       "1                14         7.2     250.0       Clouds  2020   28      2   \n",
       "2                12         7.2     250.0       Clouds  2020   28      2   \n",
       "3                12         8.2     250.0       Clouds  2020   28      2   \n",
       "4                12         8.2     250.0       Clouds  2020   28      2   \n",
       "...             ...         ...       ...          ...   ...  ...    ...   \n",
       "3437             12         2.6     150.0       Clouds  2020   24      8   \n",
       "3438             12         1.0     150.0       Clouds  2020   24      9   \n",
       "3439             12         1.0     150.0          Fog  2020   24     10   \n",
       "3440             12         1.0     150.0          Fog  2020   24     11   \n",
       "3441             12         4.1     200.0          Fog  2020   24     12   \n",
       "\n",
       "      hour  minute  \n",
       "0       15       0  \n",
       "1       15      10  \n",
       "2       15      20  \n",
       "3       15      30  \n",
       "4       15      40  \n",
       "...    ...     ...  \n",
       "3437    10      40  \n",
       "3438    10      50  \n",
       "3439     0       0  \n",
       "3440    11      10  \n",
       "3441    11      20  \n",
       "\n",
       "[3442 rows x 14 columns]"
      ]
     },
     "execution_count": 12,
     "metadata": {},
     "output_type": "execute_result"
    }
   ],
   "source": [
    "weatherDynamic.reset_index(drop=True)"
   ]
  },
  {
   "cell_type": "code",
   "execution_count": 13,
   "metadata": {
    "hideCode": false,
    "hidePrompt": false,
    "scrolled": true
   },
   "outputs": [
    {
     "name": "stdout",
     "output_type": "stream",
     "text": [
      "The shape of our features is: (3442, 14)\n",
      "main_temp            int64\n",
      "main_feels_like      int64\n",
      "main_pressure        int64\n",
      "main_humidity        int64\n",
      "main_temp_min        int64\n",
      "main_temp_max        int64\n",
      "wind_speed         float64\n",
      "wind_deg           float64\n",
      "weather_main        object\n",
      "year                 int64\n",
      "Day                  int64\n",
      "month                int64\n",
      "hour                 int64\n",
      "minute               int64\n",
      "dtype: object\n"
     ]
    }
   ],
   "source": [
    "print('The shape of our features is:', weatherDynamic.shape)\n",
    "print(weatherDynamic.dtypes)"
   ]
  },
  {
   "cell_type": "code",
   "execution_count": 14,
   "metadata": {},
   "outputs": [],
   "source": [
    "# Assign data type category to columns listed in categorical_columns\n",
    "categorical_columns = weatherDynamic[['year','month', 'weather_main']].columns\n",
    "for column in categorical_columns:\n",
    "    weatherDynamic[column] = weatherDynamic[column].astype('category') "
   ]
  },
  {
   "cell_type": "code",
   "execution_count": 15,
   "metadata": {
    "hideCode": false,
    "hidePrompt": false,
    "scrolled": true
   },
   "outputs": [
    {
     "name": "stdout",
     "output_type": "stream",
     "text": [
      "The shape of our features is: (3442, 14)\n",
      "main_temp             int64\n",
      "main_feels_like       int64\n",
      "main_pressure         int64\n",
      "main_humidity         int64\n",
      "main_temp_min         int64\n",
      "main_temp_max         int64\n",
      "wind_speed          float64\n",
      "wind_deg            float64\n",
      "weather_main       category\n",
      "year               category\n",
      "Day                   int64\n",
      "month              category\n",
      "hour                  int64\n",
      "minute                int64\n",
      "dtype: object\n"
     ]
    }
   ],
   "source": [
    "print('The shape of our features is:', weatherDynamic.shape)\n",
    "print(weatherDynamic.dtypes)"
   ]
  },
  {
   "cell_type": "code",
   "execution_count": 16,
   "metadata": {
    "scrolled": false
   },
   "outputs": [
    {
     "data": {
      "text/html": [
       "<div>\n",
       "<style scoped>\n",
       "    .dataframe tbody tr th:only-of-type {\n",
       "        vertical-align: middle;\n",
       "    }\n",
       "\n",
       "    .dataframe tbody tr th {\n",
       "        vertical-align: top;\n",
       "    }\n",
       "\n",
       "    .dataframe thead th {\n",
       "        text-align: right;\n",
       "    }\n",
       "</style>\n",
       "<table border=\"1\" class=\"dataframe\">\n",
       "  <thead>\n",
       "    <tr style=\"text-align: right;\">\n",
       "      <th></th>\n",
       "      <th>main_temp</th>\n",
       "      <th>main_feels_like</th>\n",
       "      <th>main_pressure</th>\n",
       "      <th>main_humidity</th>\n",
       "      <th>main_temp_min</th>\n",
       "      <th>main_temp_max</th>\n",
       "      <th>wind_speed</th>\n",
       "      <th>wind_deg</th>\n",
       "      <th>weather_main</th>\n",
       "      <th>year</th>\n",
       "      <th>Day</th>\n",
       "      <th>month</th>\n",
       "      <th>hour</th>\n",
       "      <th>minute</th>\n",
       "    </tr>\n",
       "  </thead>\n",
       "  <tbody>\n",
       "    <tr>\n",
       "      <th>0</th>\n",
       "      <td>12</td>\n",
       "      <td>7</td>\n",
       "      <td>987</td>\n",
       "      <td>87</td>\n",
       "      <td>11</td>\n",
       "      <td>14</td>\n",
       "      <td>7.2</td>\n",
       "      <td>250.0</td>\n",
       "      <td>Clouds</td>\n",
       "      <td>2020</td>\n",
       "      <td>28</td>\n",
       "      <td>2</td>\n",
       "      <td>15</td>\n",
       "      <td>0</td>\n",
       "    </tr>\n",
       "    <tr>\n",
       "      <th>1</th>\n",
       "      <td>12</td>\n",
       "      <td>7</td>\n",
       "      <td>987</td>\n",
       "      <td>87</td>\n",
       "      <td>11</td>\n",
       "      <td>14</td>\n",
       "      <td>7.2</td>\n",
       "      <td>250.0</td>\n",
       "      <td>Clouds</td>\n",
       "      <td>2020</td>\n",
       "      <td>28</td>\n",
       "      <td>2</td>\n",
       "      <td>15</td>\n",
       "      <td>10</td>\n",
       "    </tr>\n",
       "    <tr>\n",
       "      <th>2</th>\n",
       "      <td>11</td>\n",
       "      <td>6</td>\n",
       "      <td>987</td>\n",
       "      <td>87</td>\n",
       "      <td>11</td>\n",
       "      <td>12</td>\n",
       "      <td>7.2</td>\n",
       "      <td>250.0</td>\n",
       "      <td>Clouds</td>\n",
       "      <td>2020</td>\n",
       "      <td>28</td>\n",
       "      <td>2</td>\n",
       "      <td>15</td>\n",
       "      <td>20</td>\n",
       "    </tr>\n",
       "    <tr>\n",
       "      <th>3</th>\n",
       "      <td>12</td>\n",
       "      <td>5</td>\n",
       "      <td>987</td>\n",
       "      <td>71</td>\n",
       "      <td>11</td>\n",
       "      <td>12</td>\n",
       "      <td>8.2</td>\n",
       "      <td>250.0</td>\n",
       "      <td>Clouds</td>\n",
       "      <td>2020</td>\n",
       "      <td>28</td>\n",
       "      <td>2</td>\n",
       "      <td>15</td>\n",
       "      <td>30</td>\n",
       "    </tr>\n",
       "    <tr>\n",
       "      <th>4</th>\n",
       "      <td>12</td>\n",
       "      <td>5</td>\n",
       "      <td>987</td>\n",
       "      <td>71</td>\n",
       "      <td>11</td>\n",
       "      <td>12</td>\n",
       "      <td>8.2</td>\n",
       "      <td>250.0</td>\n",
       "      <td>Clouds</td>\n",
       "      <td>2020</td>\n",
       "      <td>28</td>\n",
       "      <td>2</td>\n",
       "      <td>15</td>\n",
       "      <td>40</td>\n",
       "    </tr>\n",
       "  </tbody>\n",
       "</table>\n",
       "</div>"
      ],
      "text/plain": [
       "   main_temp  main_feels_like  main_pressure  main_humidity  main_temp_min  \\\n",
       "0         12                7            987             87             11   \n",
       "1         12                7            987             87             11   \n",
       "2         11                6            987             87             11   \n",
       "3         12                5            987             71             11   \n",
       "4         12                5            987             71             11   \n",
       "\n",
       "   main_temp_max  wind_speed  wind_deg weather_main  year  Day month  hour  \\\n",
       "0             14         7.2     250.0       Clouds  2020   28     2    15   \n",
       "1             14         7.2     250.0       Clouds  2020   28     2    15   \n",
       "2             12         7.2     250.0       Clouds  2020   28     2    15   \n",
       "3             12         8.2     250.0       Clouds  2020   28     2    15   \n",
       "4             12         8.2     250.0       Clouds  2020   28     2    15   \n",
       "\n",
       "   minute  \n",
       "0       0  \n",
       "1      10  \n",
       "2      20  \n",
       "3      30  \n",
       "4      40  "
      ]
     },
     "execution_count": 16,
     "metadata": {},
     "output_type": "execute_result"
    }
   ],
   "source": [
    "weatherDynamic.head()"
   ]
  },
  {
   "cell_type": "markdown",
   "metadata": {},
   "source": [
    "## Encoding"
   ]
  },
  {
   "cell_type": "markdown",
   "metadata": {},
   "source": [
    "#### Dictionary vectorization"
   ]
  },
  {
   "cell_type": "code",
   "execution_count": 17,
   "metadata": {},
   "outputs": [],
   "source": [
    "def encode(weatherDynamic, col):\n",
    "    dfMLweather_enc = pd.get_dummies(weatherDynamic, columns = col, prefix_sep='_')\n",
    "    # X head\n",
    "    dfMLweather_enc.head()\n",
    "\n",
    "    dfMLweather_enc.to_csv(\"WeatherGetDummiesCatagorical.csv\")\n",
    "    return dfMLweather_enc"
   ]
  },
  {
   "cell_type": "markdown",
   "metadata": {},
   "source": [
    "## Training and Testing Sets"
   ]
  },
  {
   "cell_type": "code",
   "execution_count": 20,
   "metadata": {},
   "outputs": [],
   "source": [
    "def trainTestData(features, target):\n",
    "    # Split the data into training and testing sets\n",
    "    train_features, test_features, train_labels, test_labels = train_test_split(features, target, test_size = 0.25,\n",
    "                                                                               random_state = 42)\n",
    "    return train_features, test_features, train_labels, test_labels"
   ]
  },
  {
   "cell_type": "markdown",
   "metadata": {},
   "source": [
    "## Training the Forest"
   ]
  },
  {
   "cell_type": "code",
   "execution_count": 22,
   "metadata": {
    "hideCode": false,
    "hidePrompt": false
   },
   "outputs": [],
   "source": [
    "def trainRandomForest(train_features, train_labels, classify = False):\n",
    "    # Instantiate model \n",
    "    rf = RandomForestRegressor(n_estimators= 100, random_state=42) if not classify else\\\n",
    "        RandomForestClassifier(n_estimators= 100, random_state=42)\n",
    "\n",
    "    # Train the random forest model\n",
    "    rf.fit(train_features, train_labels)\n",
    "    \n",
    "    return rf"
   ]
  },
  {
   "cell_type": "markdown",
   "metadata": {},
   "source": [
    "## Make Predictions on Test Data"
   ]
  },
  {
   "cell_type": "code",
   "execution_count": 24,
   "metadata": {},
   "outputs": [],
   "source": [
    "def predictRandomForest(rf, test_features):\n",
    "    # Use the forest's predict method on the test data\n",
    "    predictions = rf.predict(test_features) \n",
    "    \n",
    "    return predictions"
   ]
  },
  {
   "cell_type": "markdown",
   "metadata": {},
   "source": [
    "## View Results"
   ]
  },
  {
   "cell_type": "code",
   "execution_count": 25,
   "metadata": {},
   "outputs": [],
   "source": [
    "def result(predictions,test_labels, classify = False):\n",
    "    \n",
    "    if not classify:\n",
    "        print('\\n==============================================================================')\n",
    "        print(\"MAE: \", metrics.mean_absolute_error(test_labels, predictions))\n",
    "        print(\"MSE: \", metrics.mean_squared_error(test_labels, predictions))        \n",
    "        print(\"RMSE: \", metrics.mean_squared_error(test_labels, predictions, squared=False))    \n",
    "        print(\"R2: \", metrics.r2_score(test_labels, predictions))\n",
    "\n",
    "        plt.plot(test_labels[:10])\n",
    "        plt.plot(predictions[:10])\n",
    "\n",
    "        plt.xlabel('Time')\n",
    "        plt.ylabel('Value')\n",
    "\n",
    "        plt.show()        \n",
    "\n",
    "    else:\n",
    "        print(\"report: \\n\", metrics.classification_report(test_labels, predictions))\n",
    "\n",
    "    \n",
    "    \n",
    "\n",
    "\n"
   ]
  },
  {
   "cell_type": "markdown",
   "metadata": {},
   "source": [
    "## Variable Importances"
   ]
  },
  {
   "cell_type": "code",
   "execution_count": 26,
   "metadata": {},
   "outputs": [],
   "source": [
    "def show_Importance(rf,features,feature_list):\n",
    "    # Get numerical feature importances\n",
    "    importances = list(rf.feature_importances_)\n",
    "\n",
    "    # List of tuples with variable and importance\n",
    "    feature_importances = [(features, round(importance, 2)) for features, importance in zip(feature_list, importances)]\n",
    "\n",
    "    # Sort the feature importances by most important first\n",
    "    feature_importances = sorted(feature_importances, key = lambda x: x[1], reverse = True)\n",
    "\n",
    "    # Print out the feature and importances \n",
    "    [print('Variable: {:20} Importance: {}'.format(*pair)) for pair in feature_importances]"
   ]
  },
  {
   "cell_type": "markdown",
   "metadata": {},
   "source": [
    "## Pipeline"
   ]
  },
  {
   "cell_type": "code",
   "execution_count": 27,
   "metadata": {},
   "outputs": [],
   "source": [
    "\n",
    "# ***************************************************************************************************************\n",
    "def pipeLine(dfMLweather_enc, targetCols, classify = False):\n",
    "    dfML_inputPipe = dfMLweather_enc.drop(targetCols, axis = 1)\n",
    "    print(\"Input columns \\n\", dfML_inputPipe.dtypes)\n",
    "\n",
    "    # Saving input feature names for later use\n",
    "    feature_list = list(dfML_inputPipe.columns)\n",
    "    # Convert to numpy array\n",
    "    features = np.array(dfML_inputPipe)\n",
    "\n",
    "    # ***************************************************************************************************************\n",
    "    # dfML_PipeLine = normaliseDF(dfMLweather_enc[targetCols])\n",
    "    dfML_PipeLine = dfMLweather_enc[targetCols]\n",
    "\n",
    "    # ***************************************************************************************************************\n",
    "\n",
    "    for targetC in targetCols:\n",
    "\n",
    "        print(\"Target Feature:\", targetC, \"\\n\\n\")\n",
    "\n",
    "        # Array of target variable\n",
    "        target = np.array(dfML_PipeLine[targetC])\n",
    "\n",
    "        train_features, test_features, train_labels, test_labels = trainTestData(features, target)\n",
    "\n",
    "        # dates = dfML_enc_DA[:, feature_list.index('data_entry_timestamp')]\n",
    "\n",
    "        print('Training Features Shape:', train_features.shape)\n",
    "        print('Training Labels Shape:', train_labels.shape)\n",
    "        print('Testing Features Shape:', test_features.shape)\n",
    "        print('Testing Labels Shape:', test_labels.shape)\n",
    "\n",
    "        # baseLine()\n",
    "        rfWeatherModel = trainRandomForest(train_features, train_labels, classify)\n",
    "\n",
    "        # save the model\n",
    "        filename = targetC+'.pkl'\n",
    "        pickle.dump(rfWeatherModel, open(filename, 'wb'))\n",
    "\n",
    "        # load the model \n",
    "        rfWeatherModel_loaded = pickle.load(open(filename, 'rb'))\n",
    "\n",
    "        predictions = predictRandomForest(rfWeatherModel_loaded,test_features)\n",
    "        result(predictions,test_labels,classify)\n",
    "        show_Importance(rfWeatherModel_loaded,features, feature_list)\n",
    "        print(\"\\n\\n\\n\\n\\n\\n\\n\")"
   ]
  },
  {
   "cell_type": "code",
   "execution_count": 28,
   "metadata": {},
   "outputs": [
    {
     "name": "stdout",
     "output_type": "stream",
     "text": [
      "Input columns \n",
      " Day          int64\n",
      "hour         int64\n",
      "minute       int64\n",
      "year_2020    uint8\n",
      "month_1      uint8\n",
      "month_2      uint8\n",
      "month_3      uint8\n",
      "month_4      uint8\n",
      "month_5      uint8\n",
      "month_6      uint8\n",
      "month_7      uint8\n",
      "month_8      uint8\n",
      "month_9      uint8\n",
      "month_10     uint8\n",
      "month_11     uint8\n",
      "month_12     uint8\n",
      "dtype: object\n",
      "Target Feature: main_temp \n",
      "\n",
      "\n",
      "Training Features Shape: (2581, 16)\n",
      "Training Labels Shape: (2581,)\n",
      "Testing Features Shape: (861, 16)\n",
      "Testing Labels Shape: (861,)\n",
      "\n",
      "==============================================================================\n",
      "MAE:  0.25653890824622533\n",
      "MSE:  0.17324018583042974\n",
      "RMSE:  0.4162213183276774\n",
      "R2:  0.9827697561003097\n"
     ]
    },
    {
     "data": {
      "image/png": "[encoded data removed]",
      "text/plain": [
       "<Figure size 432x288 with 1 Axes>"
      ]
     },
     "metadata": {
      "needs_background": "light"
     },
     "output_type": "display_data"
    },
    {
     "name": "stdout",
     "output_type": "stream",
     "text": [
      "Variable: Day                  Importance: 0.68\n",
      "Variable: hour                 Importance: 0.31\n",
      "Variable: minute               Importance: 0.01\n",
      "Variable: year_2020            Importance: 0.0\n",
      "Variable: month_1              Importance: 0.0\n",
      "Variable: month_2              Importance: 0.0\n",
      "Variable: month_3              Importance: 0.0\n",
      "Variable: month_4              Importance: 0.0\n",
      "Variable: month_5              Importance: 0.0\n",
      "Variable: month_6              Importance: 0.0\n",
      "Variable: month_7              Importance: 0.0\n",
      "Variable: month_8              Importance: 0.0\n",
      "Variable: month_9              Importance: 0.0\n",
      "Variable: month_10             Importance: 0.0\n",
      "Variable: month_11             Importance: 0.0\n",
      "Variable: month_12             Importance: 0.0\n",
      "\n",
      "\n",
      "\n",
      "\n",
      "\n",
      "\n",
      "\n",
      "\n",
      "Target Feature: main_feels_like \n",
      "\n",
      "\n",
      "Training Features Shape: (2581, 16)\n",
      "Training Labels Shape: (2581,)\n",
      "Testing Features Shape: (861, 16)\n",
      "Testing Labels Shape: (861,)\n",
      "\n",
      "==============================================================================\n",
      "MAE:  0.4259117305458769\n",
      "MSE:  0.5796256678281068\n",
      "RMSE:  0.7613315098090363\n",
      "R2:  0.9357914801850904\n"
     ]
    },
    {
     "data": {
      "image/png": "[encoded data removed]",
      "text/plain": [
       "<Figure size 432x288 with 1 Axes>"
      ]
     },
     "metadata": {
      "needs_background": "light"
     },
     "output_type": "display_data"
    },
    {
     "name": "stdout",
     "output_type": "stream",
     "text": [
      "Variable: Day                  Importance: 0.68\n",
      "Variable: hour                 Importance: 0.3\n",
      "Variable: minute               Importance: 0.02\n",
      "Variable: year_2020            Importance: 0.0\n",
      "Variable: month_1              Importance: 0.0\n",
      "Variable: month_2              Importance: 0.0\n",
      "Variable: month_3              Importance: 0.0\n",
      "Variable: month_4              Importance: 0.0\n",
      "Variable: month_5              Importance: 0.0\n",
      "Variable: month_6              Importance: 0.0\n",
      "Variable: month_7              Importance: 0.0\n",
      "Variable: month_8              Importance: 0.0\n",
      "Variable: month_9              Importance: 0.0\n",
      "Variable: month_10             Importance: 0.0\n",
      "Variable: month_11             Importance: 0.0\n",
      "Variable: month_12             Importance: 0.0\n",
      "\n",
      "\n",
      "\n",
      "\n",
      "\n",
      "\n",
      "\n",
      "\n",
      "Target Feature: main_pressure \n",
      "\n",
      "\n",
      "Training Features Shape: (2581, 16)\n",
      "Training Labels Shape: (2581,)\n",
      "Testing Features Shape: (861, 16)\n",
      "Testing Labels Shape: (861,)\n",
      "\n",
      "==============================================================================\n",
      "MAE:  0.1796051103368129\n",
      "MSE:  0.10644622531939603\n",
      "RMSE:  0.3262609773163135\n",
      "R2:  0.9994538929085117\n"
     ]
    },
    {
     "data": {
      "image/png": "[encoded data removed]",
      "text/plain": [
       "<Figure size 432x288 with 1 Axes>"
      ]
     },
     "metadata": {
      "needs_background": "light"
     },
     "output_type": "display_data"
    },
    {
     "name": "stdout",
     "output_type": "stream",
     "text": [
      "Variable: Day                  Importance: 0.9\n",
      "Variable: month_2              Importance: 0.06\n",
      "Variable: hour                 Importance: 0.04\n",
      "Variable: minute               Importance: 0.0\n",
      "Variable: year_2020            Importance: 0.0\n",
      "Variable: month_1              Importance: 0.0\n",
      "Variable: month_3              Importance: 0.0\n",
      "Variable: month_4              Importance: 0.0\n",
      "Variable: month_5              Importance: 0.0\n",
      "Variable: month_6              Importance: 0.0\n",
      "Variable: month_7              Importance: 0.0\n",
      "Variable: month_8              Importance: 0.0\n",
      "Variable: month_9              Importance: 0.0\n",
      "Variable: month_10             Importance: 0.0\n",
      "Variable: month_11             Importance: 0.0\n",
      "Variable: month_12             Importance: 0.0\n",
      "\n",
      "\n",
      "\n",
      "\n",
      "\n",
      "\n",
      "\n",
      "\n",
      "Target Feature: main_humidity \n",
      "\n",
      "\n",
      "Training Features Shape: (2581, 16)\n",
      "Training Labels Shape: (2581,)\n",
      "Testing Features Shape: (861, 16)\n",
      "Testing Labels Shape: (861,)\n",
      "\n",
      "==============================================================================\n",
      "MAE:  2.5559117305458763\n",
      "MSE:  14.003159117305458\n",
      "RMSE:  3.7420795177688913\n",
      "R2:  0.8732472418476456\n"
     ]
    },
    {
     "data": {
      "image/png": "[encoded data removed]",
      "text/plain": [
       "<Figure size 432x288 with 1 Axes>"
      ]
     },
     "metadata": {
      "needs_background": "light"
     },
     "output_type": "display_data"
    },
    {
     "name": "stdout",
     "output_type": "stream",
     "text": [
      "Variable: Day                  Importance: 0.51\n",
      "Variable: hour                 Importance: 0.42\n",
      "Variable: minute               Importance: 0.06\n",
      "Variable: month_2              Importance: 0.01\n",
      "Variable: year_2020            Importance: 0.0\n",
      "Variable: month_1              Importance: 0.0\n",
      "Variable: month_3              Importance: 0.0\n",
      "Variable: month_4              Importance: 0.0\n",
      "Variable: month_5              Importance: 0.0\n",
      "Variable: month_6              Importance: 0.0\n",
      "Variable: month_7              Importance: 0.0\n",
      "Variable: month_8              Importance: 0.0\n",
      "Variable: month_9              Importance: 0.0\n",
      "Variable: month_10             Importance: 0.0\n",
      "Variable: month_11             Importance: 0.0\n",
      "Variable: month_12             Importance: 0.0\n",
      "\n",
      "\n",
      "\n",
      "\n",
      "\n",
      "\n",
      "\n",
      "\n",
      "Target Feature: main_temp_min \n",
      "\n",
      "\n",
      "Training Features Shape: (2581, 16)\n",
      "Training Labels Shape: (2581,)\n",
      "Testing Features Shape: (861, 16)\n",
      "Testing Labels Shape: (861,)\n",
      "\n",
      "==============================================================================\n",
      "MAE:  0.2783159117305459\n",
      "MSE:  0.20502171893147503\n",
      "RMSE:  0.45279324081911276\n",
      "R2:  0.9805310977564\n"
     ]
    },
    {
     "data": {
      "image/png": "[encoded data removed]",
      "text/plain": [
       "<Figure size 432x288 with 1 Axes>"
      ]
     },
     "metadata": {
      "needs_background": "light"
     },
     "output_type": "display_data"
    },
    {
     "name": "stdout",
     "output_type": "stream",
     "text": [
      "Variable: Day                  Importance: 0.69\n",
      "Variable: hour                 Importance: 0.29\n",
      "Variable: minute               Importance: 0.01\n",
      "Variable: year_2020            Importance: 0.0\n",
      "Variable: month_1              Importance: 0.0\n",
      "Variable: month_2              Importance: 0.0\n",
      "Variable: month_3              Importance: 0.0\n",
      "Variable: month_4              Importance: 0.0\n",
      "Variable: month_5              Importance: 0.0\n",
      "Variable: month_6              Importance: 0.0\n",
      "Variable: month_7              Importance: 0.0\n",
      "Variable: month_8              Importance: 0.0\n",
      "Variable: month_9              Importance: 0.0\n",
      "Variable: month_10             Importance: 0.0\n",
      "Variable: month_11             Importance: 0.0\n",
      "Variable: month_12             Importance: 0.0\n",
      "\n",
      "\n",
      "\n",
      "\n",
      "\n",
      "\n",
      "\n",
      "\n",
      "Target Feature: main_temp_max \n",
      "\n",
      "\n",
      "Training Features Shape: (2581, 16)\n",
      "Training Labels Shape: (2581,)\n",
      "Testing Features Shape: (861, 16)\n",
      "Testing Labels Shape: (861,)\n",
      "\n",
      "==============================================================================\n",
      "MAE:  0.30740998838559813\n",
      "MSE:  0.24194146341463416\n",
      "RMSE:  0.49187545518620274\n",
      "R2:  0.9754847201966292\n"
     ]
    },
    {
     "data": {
      "image/png": "[encoded data removed]",
      "text/plain": [
       "<Figure size 432x288 with 1 Axes>"
      ]
     },
     "metadata": {
      "needs_background": "light"
     },
     "output_type": "display_data"
    },
    {
     "name": "stdout",
     "output_type": "stream",
     "text": [
      "Variable: Day                  Importance: 0.66\n",
      "Variable: hour                 Importance: 0.33\n",
      "Variable: minute               Importance: 0.01\n",
      "Variable: year_2020            Importance: 0.0\n",
      "Variable: month_1              Importance: 0.0\n",
      "Variable: month_2              Importance: 0.0\n",
      "Variable: month_3              Importance: 0.0\n",
      "Variable: month_4              Importance: 0.0\n",
      "Variable: month_5              Importance: 0.0\n",
      "Variable: month_6              Importance: 0.0\n",
      "Variable: month_7              Importance: 0.0\n",
      "Variable: month_8              Importance: 0.0\n",
      "Variable: month_9              Importance: 0.0\n",
      "Variable: month_10             Importance: 0.0\n",
      "Variable: month_11             Importance: 0.0\n",
      "Variable: month_12             Importance: 0.0\n",
      "\n",
      "\n",
      "\n",
      "\n",
      "\n",
      "\n",
      "\n",
      "\n",
      "Target Feature: wind_speed \n",
      "\n",
      "\n",
      "Training Features Shape: (2581, 16)\n",
      "Training Labels Shape: (2581,)\n",
      "Testing Features Shape: (861, 16)\n",
      "Testing Labels Shape: (861,)\n",
      "\n",
      "==============================================================================\n",
      "MAE:  0.4511181184668989\n",
      "MSE:  0.665969460963995\n",
      "RMSE:  0.8160695196881176\n",
      "R2:  0.891950983560572\n"
     ]
    },
    {
     "data": {
      "image/png": "[encoded data removed]",
      "text/plain": [
       "<Figure size 432x288 with 1 Axes>"
      ]
     },
     "metadata": {
      "needs_background": "light"
     },
     "output_type": "display_data"
    },
    {
     "name": "stdout",
     "output_type": "stream",
     "text": [
      "Variable: Day                  Importance: 0.65\n",
      "Variable: hour                 Importance: 0.31\n",
      "Variable: minute               Importance: 0.03\n",
      "Variable: year_2020            Importance: 0.0\n",
      "Variable: month_1              Importance: 0.0\n",
      "Variable: month_2              Importance: 0.0\n",
      "Variable: month_3              Importance: 0.0\n",
      "Variable: month_4              Importance: 0.0\n",
      "Variable: month_5              Importance: 0.0\n",
      "Variable: month_6              Importance: 0.0\n",
      "Variable: month_7              Importance: 0.0\n",
      "Variable: month_8              Importance: 0.0\n",
      "Variable: month_9              Importance: 0.0\n",
      "Variable: month_10             Importance: 0.0\n",
      "Variable: month_11             Importance: 0.0\n",
      "Variable: month_12             Importance: 0.0\n",
      "\n",
      "\n",
      "\n",
      "\n",
      "\n",
      "\n",
      "\n",
      "\n",
      "Target Feature: wind_deg \n",
      "\n",
      "\n",
      "Training Features Shape: (2581, 16)\n",
      "Training Labels Shape: (2581,)\n",
      "Testing Features Shape: (861, 16)\n",
      "Testing Labels Shape: (861,)\n",
      "\n",
      "==============================================================================\n",
      "MAE:  7.286504065040651\n",
      "MSE:  446.1720048780488\n",
      "RMSE:  21.122784022899275\n",
      "R2:  0.9019326542592403\n"
     ]
    },
    {
     "data": {
      "image/png": "[encoded data removed]",
      "text/plain": [
       "<Figure size 432x288 with 1 Axes>"
      ]
     },
     "metadata": {
      "needs_background": "light"
     },
     "output_type": "display_data"
    },
    {
     "name": "stdout",
     "output_type": "stream",
     "text": [
      "Variable: Day                  Importance: 0.64\n",
      "Variable: hour                 Importance: 0.33\n",
      "Variable: minute               Importance: 0.03\n",
      "Variable: year_2020            Importance: 0.0\n",
      "Variable: month_1              Importance: 0.0\n",
      "Variable: month_2              Importance: 0.0\n",
      "Variable: month_3              Importance: 0.0\n",
      "Variable: month_4              Importance: 0.0\n",
      "Variable: month_5              Importance: 0.0\n",
      "Variable: month_6              Importance: 0.0\n",
      "Variable: month_7              Importance: 0.0\n",
      "Variable: month_8              Importance: 0.0\n",
      "Variable: month_9              Importance: 0.0\n",
      "Variable: month_10             Importance: 0.0\n",
      "Variable: month_11             Importance: 0.0\n",
      "Variable: month_12             Importance: 0.0\n",
      "\n",
      "\n",
      "\n",
      "\n",
      "\n",
      "\n",
      "\n",
      "\n"
     ]
    }
   ],
   "source": [
    "# Target columns to be predicted.\n",
    "# ***************************************************************************************************************\n",
    "targetCols = ['main_temp','main_feels_like', 'main_pressure', 'main_humidity', \\\n",
    "             'main_temp_min', 'main_temp_max', 'wind_speed', 'wind_deg']\n",
    "targetCatCols = ['weather_main']\n",
    "encodeCols = ['year','month']\n",
    "\n",
    "dfMLweather_enc = encode(weatherDynamic.drop(targetCatCols,axis=1),encodeCols)\n",
    "pipeLine(dfMLweather_enc, targetCols)"
   ]
  },
  {
   "cell_type": "code",
   "execution_count": 29,
   "metadata": {},
   "outputs": [
    {
     "name": "stdout",
     "output_type": "stream",
     "text": [
      "Input columns \n",
      " Day          int64\n",
      "hour         int64\n",
      "minute       int64\n",
      "year_2020    uint8\n",
      "month_1      uint8\n",
      "month_2      uint8\n",
      "month_3      uint8\n",
      "month_4      uint8\n",
      "month_5      uint8\n",
      "month_6      uint8\n",
      "month_7      uint8\n",
      "month_8      uint8\n",
      "month_9      uint8\n",
      "month_10     uint8\n",
      "month_11     uint8\n",
      "month_12     uint8\n",
      "dtype: object\n",
      "Target Feature: weather_main \n",
      "\n",
      "\n",
      "Training Features Shape: (2581, 16)\n",
      "Training Labels Shape: (2581,)\n",
      "Testing Features Shape: (861, 16)\n",
      "Testing Labels Shape: (861,)\n",
      "report: \n",
      "               precision    recall  f1-score   support\n",
      "\n",
      "       Clear       0.00      0.00      0.00         2\n",
      "      Clouds       0.91      0.97      0.94       686\n",
      "     Drizzle       0.62      0.42      0.50        12\n",
      "         Fog       0.00      0.00      0.00         1\n",
      "        Mist       0.00      0.00      0.00         1\n",
      "        Rain       0.79      0.61      0.69       159\n",
      "        Snow       0.00      0.00      0.00         0\n",
      "\n",
      "    accuracy                           0.89       861\n",
      "   macro avg       0.33      0.28      0.30       861\n",
      "weighted avg       0.88      0.89      0.88       861\n",
      "\n",
      "Variable: Day                  Importance: 0.56\n",
      "Variable: hour                 Importance: 0.37\n",
      "Variable: minute               Importance: 0.06\n",
      "Variable: year_2020            Importance: 0.0\n",
      "Variable: month_1              Importance: 0.0\n",
      "Variable: month_2              Importance: 0.0\n",
      "Variable: month_3              Importance: 0.0\n",
      "Variable: month_4              Importance: 0.0\n",
      "Variable: month_5              Importance: 0.0\n",
      "Variable: month_6              Importance: 0.0\n",
      "Variable: month_7              Importance: 0.0\n",
      "Variable: month_8              Importance: 0.0\n",
      "Variable: month_9              Importance: 0.0\n",
      "Variable: month_10             Importance: 0.0\n",
      "Variable: month_11             Importance: 0.0\n",
      "Variable: month_12             Importance: 0.0\n",
      "\n",
      "\n",
      "\n",
      "\n",
      "\n",
      "\n",
      "\n",
      "\n"
     ]
    }
   ],
   "source": [
    "# Target columns to be predicted.\n",
    "# ***************************************************************************************************************\n",
    "targetCols = ['main_temp','main_feels_like', 'main_pressure', 'main_humidity', \\\n",
    "             'main_temp_min', 'main_temp_max', 'wind_speed', 'wind_deg']\n",
    "targetCatCols = ['weather_main']\n",
    "encodeCols = ['year','month']\n",
    "\n",
    "#obtain names of one hot catagorical columns generated after encoding \n",
    "# targetCatCols = encode(weatherDynamic.drop(targetCols,axis=1)).columns\n",
    "\n",
    "dfMLweather_enc = encode(weatherDynamic.drop(targetCols,axis=1),encodeCols)\n",
    "pipeLine(dfMLweather_enc, targetCatCols, classify = True)"
   ]
  }
 ],
 "metadata": {
  "hide_code_all_hidden": false,
  "kernelspec": {
   "display_name": "Python 3",
   "language": "python",
   "name": "python3"
  },
  "language_info": {
   "codemirror_mode": {
    "name": "ipython",
    "version": 3
   },
   "file_extension": ".py",
   "mimetype": "text/x-python",
   "name": "python",
   "nbconvert_exporter": "python",
   "pygments_lexer": "ipython3",
   "version": "3.7.6"
  }
 },
 "nbformat": 4,
 "nbformat_minor": 2
}

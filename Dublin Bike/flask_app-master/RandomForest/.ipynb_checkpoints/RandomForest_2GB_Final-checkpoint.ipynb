{
 "cells": [
  {
   "cell_type": "markdown",
   "metadata": {},
   "source": [
    "# File to generate final models for each station\n",
    "**uses models generated in RandomForestWeather to generate future weather parameters**\n",
    "**Weather paraemeters joined with datetime parameters are used for prediction of** \n",
    " - available_bike_stands\n",
    " - available_bikes"
   ]
  },
  {
   "cell_type": "markdown",
   "metadata": {},
   "source": [
    "## Data Preparation"
   ]
  },
  {
   "cell_type": "code",
   "execution_count": 1,
   "metadata": {
    "hideCode": false,
    "hidePrompt": false
   },
   "outputs": [
    {
     "name": "stderr",
     "output_type": "stream",
     "text": [
      "Using TensorFlow backend.\n"
     ]
    }
   ],
   "source": [
    "# Import pandas, numpy, matplotlib, seaborn libraries\n",
    "import pandas as pd\n",
    "import numpy as np\n",
    "import matplotlib.pyplot as plt\n",
    "import matplotlib.patches as mpatches\n",
    "from tabulate import tabulate\n",
    "import datetime\n",
    "\n",
    "# Using sklearn to split data into training and testing sets,train classifier and regressor models \n",
    "from sklearn.model_selection import train_test_split\n",
    "from sklearn.feature_extraction import DictVectorizer\n",
    "from sklearn.ensemble import RandomForestRegressor\n",
    "from sklearn import metrics\n",
    "\n",
    "#pickle package saves and loads sklearn models\n",
    "import pickle\n",
    "\n",
    "# hide ipykernel warnings \n",
    "import warnings\n",
    "warnings.filterwarnings('ignore')\n",
    "\n",
    "%matplotlib inline"
   ]
  },
  {
   "cell_type": "markdown",
   "metadata": {},
   "source": [
    "## Import data"
   ]
  },
  {
   "cell_type": "markdown",
   "metadata": {},
   "source": [
    "### Import bike dynamic data from csv into dataframe"
   ]
  },
  {
   "cell_type": "code",
   "execution_count": 2,
   "metadata": {},
   "outputs": [
    {
     "data": {
      "text/html": [
       "<div>\n",
       "<style scoped>\n",
       "    .dataframe tbody tr th:only-of-type {\n",
       "        vertical-align: middle;\n",
       "    }\n",
       "\n",
       "    .dataframe tbody tr th {\n",
       "        vertical-align: top;\n",
       "    }\n",
       "\n",
       "    .dataframe thead th {\n",
       "        text-align: right;\n",
       "    }\n",
       "</style>\n",
       "<table border=\"1\" class=\"dataframe\">\n",
       "  <thead>\n",
       "    <tr style=\"text-align: right;\">\n",
       "      <th></th>\n",
       "      <th>id_Entry</th>\n",
       "      <th>number</th>\n",
       "      <th>bike_stands</th>\n",
       "      <th>available_bike_stands</th>\n",
       "      <th>available_bikes</th>\n",
       "      <th>data_entry_timestamp</th>\n",
       "    </tr>\n",
       "  </thead>\n",
       "  <tbody>\n",
       "    <tr>\n",
       "      <th>369165</th>\n",
       "      <td>370900</td>\n",
       "      <td>39</td>\n",
       "      <td>20</td>\n",
       "      <td>6</td>\n",
       "      <td>14</td>\n",
       "      <td>8/24/2020 10:40</td>\n",
       "    </tr>\n",
       "    <tr>\n",
       "      <th>369166</th>\n",
       "      <td>370901</td>\n",
       "      <td>83</td>\n",
       "      <td>40</td>\n",
       "      <td>27</td>\n",
       "      <td>13</td>\n",
       "      <td>9/24/2020 10:50</td>\n",
       "    </tr>\n",
       "    <tr>\n",
       "      <th>369167</th>\n",
       "      <td>370902</td>\n",
       "      <td>92</td>\n",
       "      <td>40</td>\n",
       "      <td>25</td>\n",
       "      <td>15</td>\n",
       "      <td>10/24/2020 0:00</td>\n",
       "    </tr>\n",
       "    <tr>\n",
       "      <th>369168</th>\n",
       "      <td>370903</td>\n",
       "      <td>21</td>\n",
       "      <td>30</td>\n",
       "      <td>22</td>\n",
       "      <td>8</td>\n",
       "      <td>11/24/2020 11:10</td>\n",
       "    </tr>\n",
       "    <tr>\n",
       "      <th>369169</th>\n",
       "      <td>370904</td>\n",
       "      <td>88</td>\n",
       "      <td>30</td>\n",
       "      <td>9</td>\n",
       "      <td>21</td>\n",
       "      <td>12/24/2020 11:20</td>\n",
       "    </tr>\n",
       "  </tbody>\n",
       "</table>\n",
       "</div>"
      ],
      "text/plain": [
       "        id_Entry  number  bike_stands  available_bike_stands  available_bikes  \\\n",
       "369165    370900      39           20                      6               14   \n",
       "369166    370901      83           40                     27               13   \n",
       "369167    370902      92           40                     25               15   \n",
       "369168    370903      21           30                     22                8   \n",
       "369169    370904      88           30                      9               21   \n",
       "\n",
       "       data_entry_timestamp  \n",
       "369165      8/24/2020 10:40  \n",
       "369166      9/24/2020 10:50  \n",
       "369167      10/24/2020 0:00  \n",
       "369168     11/24/2020 11:10  \n",
       "369169     12/24/2020 11:20  "
      ]
     },
     "execution_count": 2,
     "metadata": {},
     "output_type": "execute_result"
    }
   ],
   "source": [
    "# Read in data as pandas dataframe and display first 5 rows\n",
    "bikeDynamic = pd.read_csv('dBikeD.csv')\n",
    "bikeDynamic = bikeDynamic.drop(columns=['last_update', 'status'])\n",
    "bikeDynamic.tail(5)"
   ]
  },
  {
   "cell_type": "markdown",
   "metadata": {},
   "source": [
    "#### check for shape"
   ]
  },
  {
   "cell_type": "code",
   "execution_count": 3,
   "metadata": {
    "hideCode": false,
    "hidePrompt": false,
    "scrolled": false
   },
   "outputs": [
    {
     "name": "stdout",
     "output_type": "stream",
     "text": [
      "The shape of our features is: (369170, 6) \n",
      " id_Entry                  int64\n",
      "number                    int64\n",
      "bike_stands               int64\n",
      "available_bike_stands     int64\n",
      "available_bikes           int64\n",
      "data_entry_timestamp     object\n",
      "dtype: object\n"
     ]
    }
   ],
   "source": [
    "print('The shape of our features is:', bikeDynamic.shape,'\\n', bikeDynamic.dtypes)"
   ]
  },
  {
   "cell_type": "markdown",
   "metadata": {},
   "source": [
    "#### check for Null entries"
   ]
  },
  {
   "cell_type": "code",
   "execution_count": 4,
   "metadata": {
    "scrolled": false
   },
   "outputs": [
    {
     "data": {
      "text/plain": [
       "id_Entry                 0\n",
       "number                   0\n",
       "bike_stands              0\n",
       "available_bike_stands    0\n",
       "available_bikes          0\n",
       "data_entry_timestamp     0\n",
       "dtype: int64"
      ]
     },
     "execution_count": 4,
     "metadata": {},
     "output_type": "execute_result"
    }
   ],
   "source": [
    "bikeDynamic.isnull().sum()"
   ]
  },
  {
   "cell_type": "markdown",
   "metadata": {},
   "source": [
    "### Import weather dynamic data from csv into dataframe"
   ]
  },
  {
   "cell_type": "code",
   "execution_count": 5,
   "metadata": {
    "scrolled": true
   },
   "outputs": [
    {
     "data": {
      "text/html": [
       "<div>\n",
       "<style scoped>\n",
       "    .dataframe tbody tr th:only-of-type {\n",
       "        vertical-align: middle;\n",
       "    }\n",
       "\n",
       "    .dataframe tbody tr th {\n",
       "        vertical-align: top;\n",
       "    }\n",
       "\n",
       "    .dataframe thead th {\n",
       "        text-align: right;\n",
       "    }\n",
       "</style>\n",
       "<table border=\"1\" class=\"dataframe\">\n",
       "  <thead>\n",
       "    <tr style=\"text-align: right;\">\n",
       "      <th></th>\n",
       "      <th>main_temp</th>\n",
       "      <th>main_feels_like</th>\n",
       "      <th>main_pressure</th>\n",
       "      <th>main_humidity</th>\n",
       "      <th>main_temp_min</th>\n",
       "      <th>main_temp_max</th>\n",
       "      <th>wind_speed</th>\n",
       "      <th>wind_deg</th>\n",
       "      <th>data_entry_timestamp</th>\n",
       "    </tr>\n",
       "  </thead>\n",
       "  <tbody>\n",
       "    <tr>\n",
       "      <th>3437</th>\n",
       "      <td>10</td>\n",
       "      <td>7</td>\n",
       "      <td>1018</td>\n",
       "      <td>66</td>\n",
       "      <td>8</td>\n",
       "      <td>12</td>\n",
       "      <td>2.6</td>\n",
       "      <td>150.0</td>\n",
       "      <td>8/24/2020 10:40</td>\n",
       "    </tr>\n",
       "    <tr>\n",
       "      <th>3438</th>\n",
       "      <td>11</td>\n",
       "      <td>9</td>\n",
       "      <td>1017</td>\n",
       "      <td>58</td>\n",
       "      <td>9</td>\n",
       "      <td>12</td>\n",
       "      <td>1.0</td>\n",
       "      <td>NaN</td>\n",
       "      <td>9/24/2020 10:50</td>\n",
       "    </tr>\n",
       "    <tr>\n",
       "      <th>3439</th>\n",
       "      <td>11</td>\n",
       "      <td>9</td>\n",
       "      <td>1017</td>\n",
       "      <td>58</td>\n",
       "      <td>9</td>\n",
       "      <td>12</td>\n",
       "      <td>1.0</td>\n",
       "      <td>NaN</td>\n",
       "      <td>10/24/2020 0:00</td>\n",
       "    </tr>\n",
       "    <tr>\n",
       "      <th>3440</th>\n",
       "      <td>11</td>\n",
       "      <td>9</td>\n",
       "      <td>1017</td>\n",
       "      <td>58</td>\n",
       "      <td>9</td>\n",
       "      <td>12</td>\n",
       "      <td>1.0</td>\n",
       "      <td>NaN</td>\n",
       "      <td>11/24/2020 11:10</td>\n",
       "    </tr>\n",
       "    <tr>\n",
       "      <th>3441</th>\n",
       "      <td>11</td>\n",
       "      <td>7</td>\n",
       "      <td>1017</td>\n",
       "      <td>62</td>\n",
       "      <td>10</td>\n",
       "      <td>12</td>\n",
       "      <td>4.1</td>\n",
       "      <td>200.0</td>\n",
       "      <td>12/24/2020 11:20</td>\n",
       "    </tr>\n",
       "  </tbody>\n",
       "</table>\n",
       "</div>"
      ],
      "text/plain": [
       "      main_temp  main_feels_like  main_pressure  main_humidity  main_temp_min  \\\n",
       "3437         10                7           1018             66              8   \n",
       "3438         11                9           1017             58              9   \n",
       "3439         11                9           1017             58              9   \n",
       "3440         11                9           1017             58              9   \n",
       "3441         11                7           1017             62             10   \n",
       "\n",
       "      main_temp_max  wind_speed  wind_deg data_entry_timestamp  \n",
       "3437             12         2.6     150.0      8/24/2020 10:40  \n",
       "3438             12         1.0       NaN      9/24/2020 10:50  \n",
       "3439             12         1.0       NaN      10/24/2020 0:00  \n",
       "3440             12         1.0       NaN     11/24/2020 11:10  \n",
       "3441             12         4.1     200.0     12/24/2020 11:20  "
      ]
     },
     "execution_count": 5,
     "metadata": {},
     "output_type": "execute_result"
    }
   ],
   "source": [
    "# Read in data as pandas dataframe and display first 5 rows\n",
    "weatherDynamic = pd.read_csv('dWeatherD.csv')\n",
    "bikeDynamic.reset_index(drop=True)\n",
    "weatherDynamic = weatherDynamic[['main_temp','main_feels_like', 'main_pressure', 'main_humidity', \\\n",
    "                 'main_temp_min', 'main_temp_max', 'wind_speed', 'wind_deg', 'data_entry_timestamp']]\n",
    "weatherDynamic.tail(5)"
   ]
  },
  {
   "cell_type": "markdown",
   "metadata": {},
   "source": [
    "#### check for shape"
   ]
  },
  {
   "cell_type": "code",
   "execution_count": 6,
   "metadata": {
    "hideCode": false,
    "hidePrompt": false,
    "scrolled": true
   },
   "outputs": [
    {
     "name": "stdout",
     "output_type": "stream",
     "text": [
      "The shape of our features is: (3442, 9) \n",
      " main_temp                 int64\n",
      "main_feels_like           int64\n",
      "main_pressure             int64\n",
      "main_humidity             int64\n",
      "main_temp_min             int64\n",
      "main_temp_max             int64\n",
      "wind_speed              float64\n",
      "wind_deg                float64\n",
      "data_entry_timestamp     object\n",
      "dtype: object\n"
     ]
    }
   ],
   "source": [
    "print('The shape of our features is:', weatherDynamic.shape,'\\n', weatherDynamic.dtypes)"
   ]
  },
  {
   "cell_type": "markdown",
   "metadata": {},
   "source": [
    "#### check for Null entries"
   ]
  },
  {
   "cell_type": "code",
   "execution_count": 7,
   "metadata": {
    "scrolled": false
   },
   "outputs": [
    {
     "data": {
      "text/plain": [
       "main_temp                 0\n",
       "main_feels_like           0\n",
       "main_pressure             0\n",
       "main_humidity             0\n",
       "main_temp_min             0\n",
       "main_temp_max             0\n",
       "wind_speed                0\n",
       "wind_deg                112\n",
       "data_entry_timestamp      0\n",
       "dtype: int64"
      ]
     },
     "execution_count": 7,
     "metadata": {},
     "output_type": "execute_result"
    }
   ],
   "source": [
    "weatherDynamic.isnull().sum()"
   ]
  },
  {
   "cell_type": "markdown",
   "metadata": {},
   "source": [
    "#### check for Null entries"
   ]
  },
  {
   "cell_type": "code",
   "execution_count": 8,
   "metadata": {},
   "outputs": [],
   "source": [
    "weatherDynamic.loc[weatherDynamic['wind_deg'].isnull(),('wind_deg')] = weatherDynamic['wind_deg'].ffill()"
   ]
  },
  {
   "cell_type": "code",
   "execution_count": 9,
   "metadata": {
    "scrolled": true
   },
   "outputs": [
    {
     "data": {
      "text/plain": [
       "main_temp               0\n",
       "main_feels_like         0\n",
       "main_pressure           0\n",
       "main_humidity           0\n",
       "main_temp_min           0\n",
       "main_temp_max           0\n",
       "wind_speed              0\n",
       "wind_deg                0\n",
       "data_entry_timestamp    0\n",
       "dtype: int64"
      ]
     },
     "execution_count": 9,
     "metadata": {},
     "output_type": "execute_result"
    }
   ],
   "source": [
    "weatherDynamic.isnull().sum()"
   ]
  },
  {
   "cell_type": "markdown",
   "metadata": {},
   "source": [
    "## Process and normalise dates"
   ]
  },
  {
   "cell_type": "markdown",
   "metadata": {},
   "source": [
    "**Observation state that results for date 28 February and 24 March are patial. Hence, they can be dropped for data consistency. Its upto discration of user whether to incorporate it for training or not.** "
   ]
  },
  {
   "cell_type": "markdown",
   "metadata": {},
   "source": [
    "### dublin bikes\n",
    "    \n"
   ]
  },
  {
   "cell_type": "code",
   "execution_count": 10,
   "metadata": {
    "scrolled": true
   },
   "outputs": [
    {
     "data": {
      "text/html": [
       "<div>\n",
       "<style scoped>\n",
       "    .dataframe tbody tr th:only-of-type {\n",
       "        vertical-align: middle;\n",
       "    }\n",
       "\n",
       "    .dataframe tbody tr th {\n",
       "        vertical-align: top;\n",
       "    }\n",
       "\n",
       "    .dataframe thead th {\n",
       "        text-align: right;\n",
       "    }\n",
       "</style>\n",
       "<table border=\"1\" class=\"dataframe\">\n",
       "  <thead>\n",
       "    <tr style=\"text-align: right;\">\n",
       "      <th></th>\n",
       "      <th>id_Entry</th>\n",
       "      <th>number</th>\n",
       "      <th>bike_stands</th>\n",
       "      <th>available_bike_stands</th>\n",
       "      <th>available_bikes</th>\n",
       "      <th>data_entry_timestamp</th>\n",
       "    </tr>\n",
       "  </thead>\n",
       "  <tbody>\n",
       "    <tr>\n",
       "      <th>369165</th>\n",
       "      <td>370900</td>\n",
       "      <td>39</td>\n",
       "      <td>20</td>\n",
       "      <td>6</td>\n",
       "      <td>14</td>\n",
       "      <td>2020-08-24 10:40:00</td>\n",
       "    </tr>\n",
       "    <tr>\n",
       "      <th>369166</th>\n",
       "      <td>370901</td>\n",
       "      <td>83</td>\n",
       "      <td>40</td>\n",
       "      <td>27</td>\n",
       "      <td>13</td>\n",
       "      <td>2020-09-24 10:50:00</td>\n",
       "    </tr>\n",
       "    <tr>\n",
       "      <th>369167</th>\n",
       "      <td>370902</td>\n",
       "      <td>92</td>\n",
       "      <td>40</td>\n",
       "      <td>25</td>\n",
       "      <td>15</td>\n",
       "      <td>2020-10-24 00:00:00</td>\n",
       "    </tr>\n",
       "    <tr>\n",
       "      <th>369168</th>\n",
       "      <td>370903</td>\n",
       "      <td>21</td>\n",
       "      <td>30</td>\n",
       "      <td>22</td>\n",
       "      <td>8</td>\n",
       "      <td>2020-11-24 11:10:00</td>\n",
       "    </tr>\n",
       "    <tr>\n",
       "      <th>369169</th>\n",
       "      <td>370904</td>\n",
       "      <td>88</td>\n",
       "      <td>30</td>\n",
       "      <td>9</td>\n",
       "      <td>21</td>\n",
       "      <td>2020-12-24 11:20:00</td>\n",
       "    </tr>\n",
       "  </tbody>\n",
       "</table>\n",
       "</div>"
      ],
      "text/plain": [
       "        id_Entry  number  bike_stands  available_bike_stands  available_bikes  \\\n",
       "369165    370900      39           20                      6               14   \n",
       "369166    370901      83           40                     27               13   \n",
       "369167    370902      92           40                     25               15   \n",
       "369168    370903      21           30                     22                8   \n",
       "369169    370904      88           30                      9               21   \n",
       "\n",
       "       data_entry_timestamp  \n",
       "369165  2020-08-24 10:40:00  \n",
       "369166  2020-09-24 10:50:00  \n",
       "369167  2020-10-24 00:00:00  \n",
       "369168  2020-11-24 11:10:00  \n",
       "369169  2020-12-24 11:20:00  "
      ]
     },
     "execution_count": 10,
     "metadata": {},
     "output_type": "execute_result"
    }
   ],
   "source": [
    "#DATETIME DATA\n",
    "\n",
    "# Select columns containing datetime data\n",
    "continous_date_columns = bikeDynamic[['data_entry_timestamp']].columns\n",
    "\n",
    "# Assign object type datetime to columns enlisted in continous_date_columns\n",
    "for column in continous_date_columns:\n",
    "    bikeDynamic[column] = pd.to_datetime(bikeDynamic[column])  \n",
    "    \n",
    "# end_date = pd.to_datetime('2020-03-24')\n",
    "# start_date = pd.to_datetime('2020-02-28')\n",
    "\n",
    "# # Ommit partial data for dates 28-2-2020 and 24-3-2020\n",
    "# mask = (bikeDynamic['data_entry_timestamp'].dt.date > start_date) & (bikeDynamic['data_entry_timestamp'].dt.date < end_date)\n",
    "# bikeDynamic = bikeDynamic.loc[mask]\n",
    "\n",
    "# # resolution to minutes\n",
    "bikeDynamic['data_entry_timestamp'] = bikeDynamic['data_entry_timestamp'].dt.strftime(\"%Y-%m-%d %H:%M:00\")\n",
    "\n",
    "for column in continous_date_columns:\n",
    "    bikeDynamic[column] = pd.to_datetime(bikeDynamic[column]) \n",
    "    \n",
    "bikeDynamic.tail()"
   ]
  },
  {
   "cell_type": "code",
   "execution_count": 11,
   "metadata": {
    "hideCode": false,
    "hidePrompt": false,
    "scrolled": false
   },
   "outputs": [
    {
     "name": "stdout",
     "output_type": "stream",
     "text": [
      "The shape of our features is: (369170, 6) \n",
      " id_Entry                          int64\n",
      "number                            int64\n",
      "bike_stands                       int64\n",
      "available_bike_stands             int64\n",
      "available_bikes                   int64\n",
      "data_entry_timestamp     datetime64[ns]\n",
      "dtype: object\n"
     ]
    }
   ],
   "source": [
    "print('The shape of our features is:', bikeDynamic.shape,'\\n', bikeDynamic.dtypes)"
   ]
  },
  {
   "cell_type": "markdown",
   "metadata": {},
   "source": [
    "### dublin weather"
   ]
  },
  {
   "cell_type": "code",
   "execution_count": 12,
   "metadata": {
    "scrolled": true
   },
   "outputs": [
    {
     "data": {
      "text/html": [
       "<div>\n",
       "<style scoped>\n",
       "    .dataframe tbody tr th:only-of-type {\n",
       "        vertical-align: middle;\n",
       "    }\n",
       "\n",
       "    .dataframe tbody tr th {\n",
       "        vertical-align: top;\n",
       "    }\n",
       "\n",
       "    .dataframe thead th {\n",
       "        text-align: right;\n",
       "    }\n",
       "</style>\n",
       "<table border=\"1\" class=\"dataframe\">\n",
       "  <thead>\n",
       "    <tr style=\"text-align: right;\">\n",
       "      <th></th>\n",
       "      <th>main_temp</th>\n",
       "      <th>main_feels_like</th>\n",
       "      <th>main_pressure</th>\n",
       "      <th>main_humidity</th>\n",
       "      <th>main_temp_min</th>\n",
       "      <th>main_temp_max</th>\n",
       "      <th>wind_speed</th>\n",
       "      <th>wind_deg</th>\n",
       "      <th>data_entry_timestamp</th>\n",
       "    </tr>\n",
       "  </thead>\n",
       "  <tbody>\n",
       "    <tr>\n",
       "      <th>3437</th>\n",
       "      <td>10</td>\n",
       "      <td>7</td>\n",
       "      <td>1018</td>\n",
       "      <td>66</td>\n",
       "      <td>8</td>\n",
       "      <td>12</td>\n",
       "      <td>2.6</td>\n",
       "      <td>150.0</td>\n",
       "      <td>2020-08-24 10:40:00</td>\n",
       "    </tr>\n",
       "    <tr>\n",
       "      <th>3438</th>\n",
       "      <td>11</td>\n",
       "      <td>9</td>\n",
       "      <td>1017</td>\n",
       "      <td>58</td>\n",
       "      <td>9</td>\n",
       "      <td>12</td>\n",
       "      <td>1.0</td>\n",
       "      <td>150.0</td>\n",
       "      <td>2020-09-24 10:50:00</td>\n",
       "    </tr>\n",
       "    <tr>\n",
       "      <th>3439</th>\n",
       "      <td>11</td>\n",
       "      <td>9</td>\n",
       "      <td>1017</td>\n",
       "      <td>58</td>\n",
       "      <td>9</td>\n",
       "      <td>12</td>\n",
       "      <td>1.0</td>\n",
       "      <td>150.0</td>\n",
       "      <td>2020-10-24 00:00:00</td>\n",
       "    </tr>\n",
       "    <tr>\n",
       "      <th>3440</th>\n",
       "      <td>11</td>\n",
       "      <td>9</td>\n",
       "      <td>1017</td>\n",
       "      <td>58</td>\n",
       "      <td>9</td>\n",
       "      <td>12</td>\n",
       "      <td>1.0</td>\n",
       "      <td>150.0</td>\n",
       "      <td>2020-11-24 11:10:00</td>\n",
       "    </tr>\n",
       "    <tr>\n",
       "      <th>3441</th>\n",
       "      <td>11</td>\n",
       "      <td>7</td>\n",
       "      <td>1017</td>\n",
       "      <td>62</td>\n",
       "      <td>10</td>\n",
       "      <td>12</td>\n",
       "      <td>4.1</td>\n",
       "      <td>200.0</td>\n",
       "      <td>2020-12-24 11:20:00</td>\n",
       "    </tr>\n",
       "  </tbody>\n",
       "</table>\n",
       "</div>"
      ],
      "text/plain": [
       "      main_temp  main_feels_like  main_pressure  main_humidity  main_temp_min  \\\n",
       "3437         10                7           1018             66              8   \n",
       "3438         11                9           1017             58              9   \n",
       "3439         11                9           1017             58              9   \n",
       "3440         11                9           1017             58              9   \n",
       "3441         11                7           1017             62             10   \n",
       "\n",
       "      main_temp_max  wind_speed  wind_deg data_entry_timestamp  \n",
       "3437             12         2.6     150.0  2020-08-24 10:40:00  \n",
       "3438             12         1.0     150.0  2020-09-24 10:50:00  \n",
       "3439             12         1.0     150.0  2020-10-24 00:00:00  \n",
       "3440             12         1.0     150.0  2020-11-24 11:10:00  \n",
       "3441             12         4.1     200.0  2020-12-24 11:20:00  "
      ]
     },
     "execution_count": 12,
     "metadata": {},
     "output_type": "execute_result"
    }
   ],
   "source": [
    "#DATETIME DATA\n",
    "\n",
    "# Select columns containing datetime data\n",
    "continous_date_columns = weatherDynamic[['data_entry_timestamp']].columns\n",
    "\n",
    "# Assign object type datetime to columns enlisted in continous_date_columns\n",
    "for column in continous_date_columns:\n",
    "    weatherDynamic[column] = pd.to_datetime(weatherDynamic[column])   \n",
    "    \n",
    "# end_date = pd.to_datetime('2020-03-24')\n",
    "# start_date = pd.to_datetime('2020-02-28')\n",
    "\n",
    "# # Ommit partial data for dates 28-2-2020 and 24-3-2020\n",
    "# mask = (weatherDynamic['data_entry_timestamp'].dt.date > start_date) & (weatherDynamic['data_entry_timestamp'].dt.date < end_date)\n",
    "# weatherDynamic = weatherDynamic.loc[mask]\n",
    "\n",
    "# for column in continous_date_columns:\n",
    "#     weatherDynamic[column] = pd.to_datetime(weatherDynamic[column])   \n",
    "    \n",
    "weatherDynamic.tail()"
   ]
  },
  {
   "cell_type": "code",
   "execution_count": 13,
   "metadata": {
    "hideCode": false,
    "hidePrompt": false,
    "scrolled": true
   },
   "outputs": [
    {
     "name": "stdout",
     "output_type": "stream",
     "text": [
      "The shape of our features is: (3442, 9) \n",
      " main_temp                        int64\n",
      "main_feels_like                  int64\n",
      "main_pressure                    int64\n",
      "main_humidity                    int64\n",
      "main_temp_min                    int64\n",
      "main_temp_max                    int64\n",
      "wind_speed                     float64\n",
      "wind_deg                       float64\n",
      "data_entry_timestamp    datetime64[ns]\n",
      "dtype: object\n"
     ]
    }
   ],
   "source": [
    "print('The shape of our features is:', weatherDynamic.shape,'\\n', weatherDynamic.dtypes)"
   ]
  },
  {
   "cell_type": "markdown",
   "metadata": {},
   "source": [
    "### Merge bike and weather dataframes"
   ]
  },
  {
   "cell_type": "code",
   "execution_count": 14,
   "metadata": {
    "scrolled": true
   },
   "outputs": [
    {
     "data": {
      "text/html": [
       "<div>\n",
       "<style scoped>\n",
       "    .dataframe tbody tr th:only-of-type {\n",
       "        vertical-align: middle;\n",
       "    }\n",
       "\n",
       "    .dataframe tbody tr th {\n",
       "        vertical-align: top;\n",
       "    }\n",
       "\n",
       "    .dataframe thead th {\n",
       "        text-align: right;\n",
       "    }\n",
       "</style>\n",
       "<table border=\"1\" class=\"dataframe\">\n",
       "  <thead>\n",
       "    <tr style=\"text-align: right;\">\n",
       "      <th></th>\n",
       "      <th>id_Entry</th>\n",
       "      <th>number</th>\n",
       "      <th>bike_stands</th>\n",
       "      <th>available_bike_stands</th>\n",
       "      <th>available_bikes</th>\n",
       "      <th>data_entry_timestamp</th>\n",
       "    </tr>\n",
       "  </thead>\n",
       "  <tbody>\n",
       "    <tr>\n",
       "      <th>0</th>\n",
       "      <td>1745</td>\n",
       "      <td>42</td>\n",
       "      <td>30</td>\n",
       "      <td>17</td>\n",
       "      <td>13</td>\n",
       "      <td>2020-02-28 15:00:00</td>\n",
       "    </tr>\n",
       "    <tr>\n",
       "      <th>1</th>\n",
       "      <td>1746</td>\n",
       "      <td>30</td>\n",
       "      <td>20</td>\n",
       "      <td>16</td>\n",
       "      <td>4</td>\n",
       "      <td>2020-02-28 15:00:00</td>\n",
       "    </tr>\n",
       "    <tr>\n",
       "      <th>2</th>\n",
       "      <td>1747</td>\n",
       "      <td>54</td>\n",
       "      <td>33</td>\n",
       "      <td>22</td>\n",
       "      <td>9</td>\n",
       "      <td>2020-02-28 15:00:00</td>\n",
       "    </tr>\n",
       "    <tr>\n",
       "      <th>3</th>\n",
       "      <td>1748</td>\n",
       "      <td>108</td>\n",
       "      <td>40</td>\n",
       "      <td>37</td>\n",
       "      <td>3</td>\n",
       "      <td>2020-02-28 15:00:00</td>\n",
       "    </tr>\n",
       "    <tr>\n",
       "      <th>4</th>\n",
       "      <td>1749</td>\n",
       "      <td>56</td>\n",
       "      <td>40</td>\n",
       "      <td>13</td>\n",
       "      <td>27</td>\n",
       "      <td>2020-02-28 15:00:00</td>\n",
       "    </tr>\n",
       "  </tbody>\n",
       "</table>\n",
       "</div>"
      ],
      "text/plain": [
       "   id_Entry  number  bike_stands  available_bike_stands  available_bikes  \\\n",
       "0      1745      42           30                     17               13   \n",
       "1      1746      30           20                     16                4   \n",
       "2      1747      54           33                     22                9   \n",
       "3      1748     108           40                     37                3   \n",
       "4      1749      56           40                     13               27   \n",
       "\n",
       "  data_entry_timestamp  \n",
       "0  2020-02-28 15:00:00  \n",
       "1  2020-02-28 15:00:00  \n",
       "2  2020-02-28 15:00:00  \n",
       "3  2020-02-28 15:00:00  \n",
       "4  2020-02-28 15:00:00  "
      ]
     },
     "execution_count": 14,
     "metadata": {},
     "output_type": "execute_result"
    }
   ],
   "source": [
    "bikeDynamic.head()"
   ]
  },
  {
   "cell_type": "code",
   "execution_count": 15,
   "metadata": {},
   "outputs": [
    {
     "data": {
      "text/html": [
       "<div>\n",
       "<style scoped>\n",
       "    .dataframe tbody tr th:only-of-type {\n",
       "        vertical-align: middle;\n",
       "    }\n",
       "\n",
       "    .dataframe tbody tr th {\n",
       "        vertical-align: top;\n",
       "    }\n",
       "\n",
       "    .dataframe thead th {\n",
       "        text-align: right;\n",
       "    }\n",
       "</style>\n",
       "<table border=\"1\" class=\"dataframe\">\n",
       "  <thead>\n",
       "    <tr style=\"text-align: right;\">\n",
       "      <th></th>\n",
       "      <th>main_temp</th>\n",
       "      <th>main_feels_like</th>\n",
       "      <th>main_pressure</th>\n",
       "      <th>main_humidity</th>\n",
       "      <th>main_temp_min</th>\n",
       "      <th>main_temp_max</th>\n",
       "      <th>wind_speed</th>\n",
       "      <th>wind_deg</th>\n",
       "      <th>data_entry_timestamp</th>\n",
       "    </tr>\n",
       "  </thead>\n",
       "  <tbody>\n",
       "    <tr>\n",
       "      <th>0</th>\n",
       "      <td>12</td>\n",
       "      <td>7</td>\n",
       "      <td>987</td>\n",
       "      <td>87</td>\n",
       "      <td>11</td>\n",
       "      <td>14</td>\n",
       "      <td>7.2</td>\n",
       "      <td>250.0</td>\n",
       "      <td>2020-02-28 15:00:00</td>\n",
       "    </tr>\n",
       "    <tr>\n",
       "      <th>1</th>\n",
       "      <td>12</td>\n",
       "      <td>7</td>\n",
       "      <td>987</td>\n",
       "      <td>87</td>\n",
       "      <td>11</td>\n",
       "      <td>14</td>\n",
       "      <td>7.2</td>\n",
       "      <td>250.0</td>\n",
       "      <td>2020-02-28 15:10:00</td>\n",
       "    </tr>\n",
       "    <tr>\n",
       "      <th>2</th>\n",
       "      <td>11</td>\n",
       "      <td>6</td>\n",
       "      <td>987</td>\n",
       "      <td>87</td>\n",
       "      <td>11</td>\n",
       "      <td>12</td>\n",
       "      <td>7.2</td>\n",
       "      <td>250.0</td>\n",
       "      <td>2020-02-28 15:20:00</td>\n",
       "    </tr>\n",
       "    <tr>\n",
       "      <th>3</th>\n",
       "      <td>12</td>\n",
       "      <td>5</td>\n",
       "      <td>987</td>\n",
       "      <td>71</td>\n",
       "      <td>11</td>\n",
       "      <td>12</td>\n",
       "      <td>8.2</td>\n",
       "      <td>250.0</td>\n",
       "      <td>2020-02-28 15:30:00</td>\n",
       "    </tr>\n",
       "    <tr>\n",
       "      <th>4</th>\n",
       "      <td>12</td>\n",
       "      <td>5</td>\n",
       "      <td>987</td>\n",
       "      <td>71</td>\n",
       "      <td>11</td>\n",
       "      <td>12</td>\n",
       "      <td>8.2</td>\n",
       "      <td>250.0</td>\n",
       "      <td>2020-02-28 15:40:00</td>\n",
       "    </tr>\n",
       "  </tbody>\n",
       "</table>\n",
       "</div>"
      ],
      "text/plain": [
       "   main_temp  main_feels_like  main_pressure  main_humidity  main_temp_min  \\\n",
       "0         12                7            987             87             11   \n",
       "1         12                7            987             87             11   \n",
       "2         11                6            987             87             11   \n",
       "3         12                5            987             71             11   \n",
       "4         12                5            987             71             11   \n",
       "\n",
       "   main_temp_max  wind_speed  wind_deg data_entry_timestamp  \n",
       "0             14         7.2     250.0  2020-02-28 15:00:00  \n",
       "1             14         7.2     250.0  2020-02-28 15:10:00  \n",
       "2             12         7.2     250.0  2020-02-28 15:20:00  \n",
       "3             12         8.2     250.0  2020-02-28 15:30:00  \n",
       "4             12         8.2     250.0  2020-02-28 15:40:00  "
      ]
     },
     "execution_count": 15,
     "metadata": {},
     "output_type": "execute_result"
    }
   ],
   "source": [
    "weatherDynamic.head()"
   ]
  },
  {
   "cell_type": "code",
   "execution_count": 16,
   "metadata": {},
   "outputs": [
    {
     "name": "stdout",
     "output_type": "stream",
     "text": [
      "(369170, 14)\n"
     ]
    },
    {
     "data": {
      "text/html": [
       "<div>\n",
       "<style scoped>\n",
       "    .dataframe tbody tr th:only-of-type {\n",
       "        vertical-align: middle;\n",
       "    }\n",
       "\n",
       "    .dataframe tbody tr th {\n",
       "        vertical-align: top;\n",
       "    }\n",
       "\n",
       "    .dataframe thead th {\n",
       "        text-align: right;\n",
       "    }\n",
       "</style>\n",
       "<table border=\"1\" class=\"dataframe\">\n",
       "  <thead>\n",
       "    <tr style=\"text-align: right;\">\n",
       "      <th></th>\n",
       "      <th>id_Entry</th>\n",
       "      <th>number</th>\n",
       "      <th>bike_stands</th>\n",
       "      <th>available_bike_stands</th>\n",
       "      <th>available_bikes</th>\n",
       "      <th>data_entry_timestamp</th>\n",
       "      <th>main_temp</th>\n",
       "      <th>main_feels_like</th>\n",
       "      <th>main_pressure</th>\n",
       "      <th>main_humidity</th>\n",
       "      <th>main_temp_min</th>\n",
       "      <th>main_temp_max</th>\n",
       "      <th>wind_speed</th>\n",
       "      <th>wind_deg</th>\n",
       "    </tr>\n",
       "  </thead>\n",
       "  <tbody>\n",
       "    <tr>\n",
       "      <th>0</th>\n",
       "      <td>1745</td>\n",
       "      <td>42</td>\n",
       "      <td>30</td>\n",
       "      <td>17</td>\n",
       "      <td>13</td>\n",
       "      <td>2020-02-28 15:00:00</td>\n",
       "      <td>12</td>\n",
       "      <td>7</td>\n",
       "      <td>987</td>\n",
       "      <td>87</td>\n",
       "      <td>11</td>\n",
       "      <td>14</td>\n",
       "      <td>7.2</td>\n",
       "      <td>250.0</td>\n",
       "    </tr>\n",
       "    <tr>\n",
       "      <th>1</th>\n",
       "      <td>1746</td>\n",
       "      <td>30</td>\n",
       "      <td>20</td>\n",
       "      <td>16</td>\n",
       "      <td>4</td>\n",
       "      <td>2020-02-28 15:00:00</td>\n",
       "      <td>12</td>\n",
       "      <td>7</td>\n",
       "      <td>987</td>\n",
       "      <td>87</td>\n",
       "      <td>11</td>\n",
       "      <td>14</td>\n",
       "      <td>7.2</td>\n",
       "      <td>250.0</td>\n",
       "    </tr>\n",
       "    <tr>\n",
       "      <th>2</th>\n",
       "      <td>1747</td>\n",
       "      <td>54</td>\n",
       "      <td>33</td>\n",
       "      <td>22</td>\n",
       "      <td>9</td>\n",
       "      <td>2020-02-28 15:00:00</td>\n",
       "      <td>12</td>\n",
       "      <td>7</td>\n",
       "      <td>987</td>\n",
       "      <td>87</td>\n",
       "      <td>11</td>\n",
       "      <td>14</td>\n",
       "      <td>7.2</td>\n",
       "      <td>250.0</td>\n",
       "    </tr>\n",
       "    <tr>\n",
       "      <th>3</th>\n",
       "      <td>1748</td>\n",
       "      <td>108</td>\n",
       "      <td>40</td>\n",
       "      <td>37</td>\n",
       "      <td>3</td>\n",
       "      <td>2020-02-28 15:00:00</td>\n",
       "      <td>12</td>\n",
       "      <td>7</td>\n",
       "      <td>987</td>\n",
       "      <td>87</td>\n",
       "      <td>11</td>\n",
       "      <td>14</td>\n",
       "      <td>7.2</td>\n",
       "      <td>250.0</td>\n",
       "    </tr>\n",
       "    <tr>\n",
       "      <th>4</th>\n",
       "      <td>1749</td>\n",
       "      <td>56</td>\n",
       "      <td>40</td>\n",
       "      <td>13</td>\n",
       "      <td>27</td>\n",
       "      <td>2020-02-28 15:00:00</td>\n",
       "      <td>12</td>\n",
       "      <td>7</td>\n",
       "      <td>987</td>\n",
       "      <td>87</td>\n",
       "      <td>11</td>\n",
       "      <td>14</td>\n",
       "      <td>7.2</td>\n",
       "      <td>250.0</td>\n",
       "    </tr>\n",
       "  </tbody>\n",
       "</table>\n",
       "</div>"
      ],
      "text/plain": [
       "   id_Entry  number  bike_stands  available_bike_stands  available_bikes  \\\n",
       "0      1745      42           30                     17               13   \n",
       "1      1746      30           20                     16                4   \n",
       "2      1747      54           33                     22                9   \n",
       "3      1748     108           40                     37                3   \n",
       "4      1749      56           40                     13               27   \n",
       "\n",
       "  data_entry_timestamp  main_temp  main_feels_like  main_pressure  \\\n",
       "0  2020-02-28 15:00:00         12                7            987   \n",
       "1  2020-02-28 15:00:00         12                7            987   \n",
       "2  2020-02-28 15:00:00         12                7            987   \n",
       "3  2020-02-28 15:00:00         12                7            987   \n",
       "4  2020-02-28 15:00:00         12                7            987   \n",
       "\n",
       "   main_humidity  main_temp_min  main_temp_max  wind_speed  wind_deg  \n",
       "0             87             11             14         7.2     250.0  \n",
       "1             87             11             14         7.2     250.0  \n",
       "2             87             11             14         7.2     250.0  \n",
       "3             87             11             14         7.2     250.0  \n",
       "4             87             11             14         7.2     250.0  "
      ]
     },
     "execution_count": 16,
     "metadata": {},
     "output_type": "execute_result"
    }
   ],
   "source": [
    "dfML = pd.merge(bikeDynamic, weatherDynamic, on='data_entry_timestamp')\n",
    "print(dfML.shape)\n",
    "dfML.head()"
   ]
  },
  {
   "cell_type": "code",
   "execution_count": 17,
   "metadata": {
    "hideCode": false,
    "hidePrompt": false,
    "scrolled": false
   },
   "outputs": [
    {
     "name": "stdout",
     "output_type": "stream",
     "text": [
      "The shape of our features is: (369170, 14) \n",
      " id_Entry                          int64\n",
      "number                            int64\n",
      "bike_stands                       int64\n",
      "available_bike_stands             int64\n",
      "available_bikes                   int64\n",
      "data_entry_timestamp     datetime64[ns]\n",
      "main_temp                         int64\n",
      "main_feels_like                   int64\n",
      "main_pressure                     int64\n",
      "main_humidity                     int64\n",
      "main_temp_min                     int64\n",
      "main_temp_max                     int64\n",
      "wind_speed                      float64\n",
      "wind_deg                        float64\n",
      "dtype: object\n"
     ]
    }
   ],
   "source": [
    "print('The shape of our features is:', dfML.shape,'\\n', dfML.dtypes)"
   ]
  },
  {
   "cell_type": "markdown",
   "metadata": {},
   "source": [
    "### Resolve date into time components"
   ]
  },
  {
   "cell_type": "code",
   "execution_count": 18,
   "metadata": {},
   "outputs": [],
   "source": [
    "#Drop 'last_update' feature\n",
    "dfML['year'] = dfML.data_entry_timestamp.dt.year \n",
    "dfML['Day'] = dfML.data_entry_timestamp.dt.day\n",
    "dfML['month'] = dfML.data_entry_timestamp.dt.month\n",
    "dfML['hour'] = dfML.data_entry_timestamp.dt.hour\n",
    "dfML['minute'] = dfML.data_entry_timestamp.dt.minute\n",
    "dfML['dayOfWeek'] = dfML.data_entry_timestamp.dt.weekday"
   ]
  },
  {
   "cell_type": "markdown",
   "metadata": {},
   "source": [
    "### Check logical integrity of data "
   ]
  },
  {
   "cell_type": "markdown",
   "metadata": {},
   "source": [
    "**Data integrity is checked for following cases:**\n",
    " - is \"bike_stands\" $>=$ \"available_bike_stands\" $+$ \"available_bikes\"  [Any other sequence is incorrect]\n",
    " - is \"last_update\" $<=$ \"data_entry_timestamp\" [Any other sequence is incorrect]"
   ]
  },
  {
   "cell_type": "code",
   "execution_count": 19,
   "metadata": {},
   "outputs": [
    {
     "name": "stdout",
     "output_type": "stream",
     "text": [
      "Number of rows failing the test:  18\n"
     ]
    },
    {
     "data": {
      "text/html": [
       "<div>\n",
       "<style scoped>\n",
       "    .dataframe tbody tr th:only-of-type {\n",
       "        vertical-align: middle;\n",
       "    }\n",
       "\n",
       "    .dataframe tbody tr th {\n",
       "        vertical-align: top;\n",
       "    }\n",
       "\n",
       "    .dataframe thead th {\n",
       "        text-align: right;\n",
       "    }\n",
       "</style>\n",
       "<table border=\"1\" class=\"dataframe\">\n",
       "  <thead>\n",
       "    <tr style=\"text-align: right;\">\n",
       "      <th></th>\n",
       "      <th>id_Entry</th>\n",
       "      <th>available_bike_stands</th>\n",
       "      <th>available_bikes</th>\n",
       "      <th>bike_stands</th>\n",
       "    </tr>\n",
       "  </thead>\n",
       "  <tbody>\n",
       "    <tr>\n",
       "      <th>63885</th>\n",
       "      <td>65630</td>\n",
       "      <td>17</td>\n",
       "      <td>0</td>\n",
       "      <td>16</td>\n",
       "    </tr>\n",
       "    <tr>\n",
       "      <th>248795</th>\n",
       "      <td>250540</td>\n",
       "      <td>16</td>\n",
       "      <td>1</td>\n",
       "      <td>16</td>\n",
       "    </tr>\n",
       "    <tr>\n",
       "      <th>248905</th>\n",
       "      <td>250650</td>\n",
       "      <td>16</td>\n",
       "      <td>1</td>\n",
       "      <td>16</td>\n",
       "    </tr>\n",
       "    <tr>\n",
       "      <th>249125</th>\n",
       "      <td>250870</td>\n",
       "      <td>16</td>\n",
       "      <td>1</td>\n",
       "      <td>16</td>\n",
       "    </tr>\n",
       "    <tr>\n",
       "      <th>249235</th>\n",
       "      <td>250980</td>\n",
       "      <td>16</td>\n",
       "      <td>1</td>\n",
       "      <td>16</td>\n",
       "    </tr>\n",
       "  </tbody>\n",
       "</table>\n",
       "</div>"
      ],
      "text/plain": [
       "        id_Entry  available_bike_stands  available_bikes  bike_stands\n",
       "63885      65630                     17                0           16\n",
       "248795    250540                     16                1           16\n",
       "248905    250650                     16                1           16\n",
       "249125    250870                     16                1           16\n",
       "249235    250980                     16                1           16"
      ]
     },
     "execution_count": 19,
     "metadata": {},
     "output_type": "execute_result"
    }
   ],
   "source": [
    "test_1 = dfML[[\"id_Entry\",\"available_bike_stands\",\"available_bikes\",\"bike_stands\"]][dfML[\"available_bike_stands\"].add(dfML[\"available_bikes\"], axis=0)  >\\\n",
    "                                                                         dfML[\"bike_stands\"]]\n",
    "print(\"Number of rows failing the test: \", test_1.shape[0])\n",
    "test_1.head(5)"
   ]
  },
  {
   "cell_type": "markdown",
   "metadata": {},
   "source": [
    "#### Remove errors by adding available_bikes and bike_stands"
   ]
  },
  {
   "cell_type": "code",
   "execution_count": 20,
   "metadata": {},
   "outputs": [],
   "source": [
    "dTest_1 = test_1[\"id_Entry\"]\n",
    "\n",
    "for data in dTest_1: \n",
    "    dfML.loc[(dfML.id_Entry == data),'bike_stands'] = dfML.loc[(dfML.id_Entry == data),'available_bikes'] + dfML.loc[(dfML.id_Entry == data),'available_bike_stands']"
   ]
  },
  {
   "cell_type": "code",
   "execution_count": 21,
   "metadata": {},
   "outputs": [
    {
     "name": "stdout",
     "output_type": "stream",
     "text": [
      "Number of rows failing the test:  0\n"
     ]
    },
    {
     "data": {
      "text/html": [
       "<div>\n",
       "<style scoped>\n",
       "    .dataframe tbody tr th:only-of-type {\n",
       "        vertical-align: middle;\n",
       "    }\n",
       "\n",
       "    .dataframe tbody tr th {\n",
       "        vertical-align: top;\n",
       "    }\n",
       "\n",
       "    .dataframe thead th {\n",
       "        text-align: right;\n",
       "    }\n",
       "</style>\n",
       "<table border=\"1\" class=\"dataframe\">\n",
       "  <thead>\n",
       "    <tr style=\"text-align: right;\">\n",
       "      <th></th>\n",
       "      <th>id_Entry</th>\n",
       "      <th>available_bike_stands</th>\n",
       "      <th>available_bikes</th>\n",
       "      <th>bike_stands</th>\n",
       "    </tr>\n",
       "  </thead>\n",
       "  <tbody>\n",
       "  </tbody>\n",
       "</table>\n",
       "</div>"
      ],
      "text/plain": [
       "Empty DataFrame\n",
       "Columns: [id_Entry, available_bike_stands, available_bikes, bike_stands]\n",
       "Index: []"
      ]
     },
     "execution_count": 21,
     "metadata": {},
     "output_type": "execute_result"
    }
   ],
   "source": [
    "test_1 = dfML[[\"id_Entry\",\"available_bike_stands\",\"available_bikes\",\"bike_stands\"]][dfML[\"available_bike_stands\"].add(dfML[\"available_bikes\"], axis=0)  >\\\n",
    "                                                                         dfML[\"bike_stands\"]]\n",
    "print(\"Number of rows failing the test: \", test_1.shape[0])\n",
    "test_1.head(5)"
   ]
  },
  {
   "cell_type": "markdown",
   "metadata": {},
   "source": [
    "### Set Data types prior to encoding"
   ]
  },
  {
   "cell_type": "code",
   "execution_count": 22,
   "metadata": {
    "scrolled": true
   },
   "outputs": [
    {
     "data": {
      "text/html": [
       "<div>\n",
       "<style scoped>\n",
       "    .dataframe tbody tr th:only-of-type {\n",
       "        vertical-align: middle;\n",
       "    }\n",
       "\n",
       "    .dataframe tbody tr th {\n",
       "        vertical-align: top;\n",
       "    }\n",
       "\n",
       "    .dataframe thead th {\n",
       "        text-align: right;\n",
       "    }\n",
       "</style>\n",
       "<table border=\"1\" class=\"dataframe\">\n",
       "  <thead>\n",
       "    <tr style=\"text-align: right;\">\n",
       "      <th></th>\n",
       "      <th>number</th>\n",
       "      <th>available_bike_stands</th>\n",
       "      <th>available_bikes</th>\n",
       "      <th>main_temp</th>\n",
       "      <th>main_feels_like</th>\n",
       "      <th>main_pressure</th>\n",
       "      <th>main_humidity</th>\n",
       "      <th>main_temp_min</th>\n",
       "      <th>main_temp_max</th>\n",
       "      <th>wind_speed</th>\n",
       "      <th>wind_deg</th>\n",
       "      <th>year</th>\n",
       "      <th>Day</th>\n",
       "      <th>month</th>\n",
       "      <th>hour</th>\n",
       "      <th>minute</th>\n",
       "      <th>dayOfWeek</th>\n",
       "    </tr>\n",
       "  </thead>\n",
       "  <tbody>\n",
       "    <tr>\n",
       "      <th>0</th>\n",
       "      <td>42</td>\n",
       "      <td>17</td>\n",
       "      <td>13</td>\n",
       "      <td>12</td>\n",
       "      <td>7</td>\n",
       "      <td>987</td>\n",
       "      <td>87</td>\n",
       "      <td>11</td>\n",
       "      <td>14</td>\n",
       "      <td>7.2</td>\n",
       "      <td>250.0</td>\n",
       "      <td>2020</td>\n",
       "      <td>28</td>\n",
       "      <td>2</td>\n",
       "      <td>15</td>\n",
       "      <td>0</td>\n",
       "      <td>4</td>\n",
       "    </tr>\n",
       "    <tr>\n",
       "      <th>1</th>\n",
       "      <td>30</td>\n",
       "      <td>16</td>\n",
       "      <td>4</td>\n",
       "      <td>12</td>\n",
       "      <td>7</td>\n",
       "      <td>987</td>\n",
       "      <td>87</td>\n",
       "      <td>11</td>\n",
       "      <td>14</td>\n",
       "      <td>7.2</td>\n",
       "      <td>250.0</td>\n",
       "      <td>2020</td>\n",
       "      <td>28</td>\n",
       "      <td>2</td>\n",
       "      <td>15</td>\n",
       "      <td>0</td>\n",
       "      <td>4</td>\n",
       "    </tr>\n",
       "    <tr>\n",
       "      <th>2</th>\n",
       "      <td>54</td>\n",
       "      <td>22</td>\n",
       "      <td>9</td>\n",
       "      <td>12</td>\n",
       "      <td>7</td>\n",
       "      <td>987</td>\n",
       "      <td>87</td>\n",
       "      <td>11</td>\n",
       "      <td>14</td>\n",
       "      <td>7.2</td>\n",
       "      <td>250.0</td>\n",
       "      <td>2020</td>\n",
       "      <td>28</td>\n",
       "      <td>2</td>\n",
       "      <td>15</td>\n",
       "      <td>0</td>\n",
       "      <td>4</td>\n",
       "    </tr>\n",
       "    <tr>\n",
       "      <th>3</th>\n",
       "      <td>108</td>\n",
       "      <td>37</td>\n",
       "      <td>3</td>\n",
       "      <td>12</td>\n",
       "      <td>7</td>\n",
       "      <td>987</td>\n",
       "      <td>87</td>\n",
       "      <td>11</td>\n",
       "      <td>14</td>\n",
       "      <td>7.2</td>\n",
       "      <td>250.0</td>\n",
       "      <td>2020</td>\n",
       "      <td>28</td>\n",
       "      <td>2</td>\n",
       "      <td>15</td>\n",
       "      <td>0</td>\n",
       "      <td>4</td>\n",
       "    </tr>\n",
       "    <tr>\n",
       "      <th>4</th>\n",
       "      <td>56</td>\n",
       "      <td>13</td>\n",
       "      <td>27</td>\n",
       "      <td>12</td>\n",
       "      <td>7</td>\n",
       "      <td>987</td>\n",
       "      <td>87</td>\n",
       "      <td>11</td>\n",
       "      <td>14</td>\n",
       "      <td>7.2</td>\n",
       "      <td>250.0</td>\n",
       "      <td>2020</td>\n",
       "      <td>28</td>\n",
       "      <td>2</td>\n",
       "      <td>15</td>\n",
       "      <td>0</td>\n",
       "      <td>4</td>\n",
       "    </tr>\n",
       "    <tr>\n",
       "      <th>...</th>\n",
       "      <td>...</td>\n",
       "      <td>...</td>\n",
       "      <td>...</td>\n",
       "      <td>...</td>\n",
       "      <td>...</td>\n",
       "      <td>...</td>\n",
       "      <td>...</td>\n",
       "      <td>...</td>\n",
       "      <td>...</td>\n",
       "      <td>...</td>\n",
       "      <td>...</td>\n",
       "      <td>...</td>\n",
       "      <td>...</td>\n",
       "      <td>...</td>\n",
       "      <td>...</td>\n",
       "      <td>...</td>\n",
       "      <td>...</td>\n",
       "    </tr>\n",
       "    <tr>\n",
       "      <th>369165</th>\n",
       "      <td>39</td>\n",
       "      <td>6</td>\n",
       "      <td>14</td>\n",
       "      <td>10</td>\n",
       "      <td>7</td>\n",
       "      <td>1018</td>\n",
       "      <td>66</td>\n",
       "      <td>8</td>\n",
       "      <td>12</td>\n",
       "      <td>2.6</td>\n",
       "      <td>150.0</td>\n",
       "      <td>2020</td>\n",
       "      <td>24</td>\n",
       "      <td>8</td>\n",
       "      <td>10</td>\n",
       "      <td>40</td>\n",
       "      <td>0</td>\n",
       "    </tr>\n",
       "    <tr>\n",
       "      <th>369166</th>\n",
       "      <td>83</td>\n",
       "      <td>27</td>\n",
       "      <td>13</td>\n",
       "      <td>11</td>\n",
       "      <td>9</td>\n",
       "      <td>1017</td>\n",
       "      <td>58</td>\n",
       "      <td>9</td>\n",
       "      <td>12</td>\n",
       "      <td>1.0</td>\n",
       "      <td>150.0</td>\n",
       "      <td>2020</td>\n",
       "      <td>24</td>\n",
       "      <td>9</td>\n",
       "      <td>10</td>\n",
       "      <td>50</td>\n",
       "      <td>3</td>\n",
       "    </tr>\n",
       "    <tr>\n",
       "      <th>369167</th>\n",
       "      <td>92</td>\n",
       "      <td>25</td>\n",
       "      <td>15</td>\n",
       "      <td>11</td>\n",
       "      <td>9</td>\n",
       "      <td>1017</td>\n",
       "      <td>58</td>\n",
       "      <td>9</td>\n",
       "      <td>12</td>\n",
       "      <td>1.0</td>\n",
       "      <td>150.0</td>\n",
       "      <td>2020</td>\n",
       "      <td>24</td>\n",
       "      <td>10</td>\n",
       "      <td>0</td>\n",
       "      <td>0</td>\n",
       "      <td>5</td>\n",
       "    </tr>\n",
       "    <tr>\n",
       "      <th>369168</th>\n",
       "      <td>21</td>\n",
       "      <td>22</td>\n",
       "      <td>8</td>\n",
       "      <td>11</td>\n",
       "      <td>9</td>\n",
       "      <td>1017</td>\n",
       "      <td>58</td>\n",
       "      <td>9</td>\n",
       "      <td>12</td>\n",
       "      <td>1.0</td>\n",
       "      <td>150.0</td>\n",
       "      <td>2020</td>\n",
       "      <td>24</td>\n",
       "      <td>11</td>\n",
       "      <td>11</td>\n",
       "      <td>10</td>\n",
       "      <td>1</td>\n",
       "    </tr>\n",
       "    <tr>\n",
       "      <th>369169</th>\n",
       "      <td>88</td>\n",
       "      <td>9</td>\n",
       "      <td>21</td>\n",
       "      <td>11</td>\n",
       "      <td>7</td>\n",
       "      <td>1017</td>\n",
       "      <td>62</td>\n",
       "      <td>10</td>\n",
       "      <td>12</td>\n",
       "      <td>4.1</td>\n",
       "      <td>200.0</td>\n",
       "      <td>2020</td>\n",
       "      <td>24</td>\n",
       "      <td>12</td>\n",
       "      <td>11</td>\n",
       "      <td>20</td>\n",
       "      <td>3</td>\n",
       "    </tr>\n",
       "  </tbody>\n",
       "</table>\n",
       "<p>369170 rows × 17 columns</p>\n",
       "</div>"
      ],
      "text/plain": [
       "        number  available_bike_stands  available_bikes  main_temp  \\\n",
       "0           42                     17               13         12   \n",
       "1           30                     16                4         12   \n",
       "2           54                     22                9         12   \n",
       "3          108                     37                3         12   \n",
       "4           56                     13               27         12   \n",
       "...        ...                    ...              ...        ...   \n",
       "369165      39                      6               14         10   \n",
       "369166      83                     27               13         11   \n",
       "369167      92                     25               15         11   \n",
       "369168      21                     22                8         11   \n",
       "369169      88                      9               21         11   \n",
       "\n",
       "        main_feels_like  main_pressure  main_humidity  main_temp_min  \\\n",
       "0                     7            987             87             11   \n",
       "1                     7            987             87             11   \n",
       "2                     7            987             87             11   \n",
       "3                     7            987             87             11   \n",
       "4                     7            987             87             11   \n",
       "...                 ...            ...            ...            ...   \n",
       "369165                7           1018             66              8   \n",
       "369166                9           1017             58              9   \n",
       "369167                9           1017             58              9   \n",
       "369168                9           1017             58              9   \n",
       "369169                7           1017             62             10   \n",
       "\n",
       "        main_temp_max  wind_speed  wind_deg  year  Day  month  hour  minute  \\\n",
       "0                  14         7.2     250.0  2020   28      2    15       0   \n",
       "1                  14         7.2     250.0  2020   28      2    15       0   \n",
       "2                  14         7.2     250.0  2020   28      2    15       0   \n",
       "3                  14         7.2     250.0  2020   28      2    15       0   \n",
       "4                  14         7.2     250.0  2020   28      2    15       0   \n",
       "...               ...         ...       ...   ...  ...    ...   ...     ...   \n",
       "369165             12         2.6     150.0  2020   24      8    10      40   \n",
       "369166             12         1.0     150.0  2020   24      9    10      50   \n",
       "369167             12         1.0     150.0  2020   24     10     0       0   \n",
       "369168             12         1.0     150.0  2020   24     11    11      10   \n",
       "369169             12         4.1     200.0  2020   24     12    11      20   \n",
       "\n",
       "        dayOfWeek  \n",
       "0               4  \n",
       "1               4  \n",
       "2               4  \n",
       "3               4  \n",
       "4               4  \n",
       "...           ...  \n",
       "369165          0  \n",
       "369166          3  \n",
       "369167          5  \n",
       "369168          1  \n",
       "369169          3  \n",
       "\n",
       "[369170 rows x 17 columns]"
      ]
     },
     "execution_count": 22,
     "metadata": {},
     "output_type": "execute_result"
    }
   ],
   "source": [
    "dfML = dfML.drop(['bike_stands','id_Entry', 'data_entry_timestamp'], axis = 1)\n",
    "dfML.reset_index(drop = True)"
   ]
  },
  {
   "cell_type": "code",
   "execution_count": 23,
   "metadata": {
    "hideCode": false,
    "hidePrompt": false,
    "scrolled": true
   },
   "outputs": [
    {
     "name": "stdout",
     "output_type": "stream",
     "text": [
      "The shape of our features is: (369170, 17) \n",
      " number                     int64\n",
      "available_bike_stands      int64\n",
      "available_bikes            int64\n",
      "main_temp                  int64\n",
      "main_feels_like            int64\n",
      "main_pressure              int64\n",
      "main_humidity              int64\n",
      "main_temp_min              int64\n",
      "main_temp_max              int64\n",
      "wind_speed               float64\n",
      "wind_deg                 float64\n",
      "year                       int64\n",
      "Day                        int64\n",
      "month                      int64\n",
      "hour                       int64\n",
      "minute                     int64\n",
      "dayOfWeek                  int64\n",
      "dtype: object\n"
     ]
    }
   ],
   "source": [
    "print('The shape of our features is:', dfML.shape,'\\n', dfML.dtypes)"
   ]
  },
  {
   "cell_type": "code",
   "execution_count": 24,
   "metadata": {},
   "outputs": [],
   "source": [
    "# Assign data type category to columns listed in categorical_columns\n",
    "categorical_columns = dfML[['year', 'month', 'dayOfWeek']].columns\n",
    "for column in categorical_columns:\n",
    "    dfML[column] = dfML[column].astype('category') "
   ]
  },
  {
   "cell_type": "code",
   "execution_count": 25,
   "metadata": {
    "hideCode": false,
    "hidePrompt": false,
    "scrolled": true
   },
   "outputs": [
    {
     "name": "stdout",
     "output_type": "stream",
     "text": [
      "The shape of our features is: (369170, 17)\n",
      "number                      int64\n",
      "available_bike_stands       int64\n",
      "available_bikes             int64\n",
      "main_temp                   int64\n",
      "main_feels_like             int64\n",
      "main_pressure               int64\n",
      "main_humidity               int64\n",
      "main_temp_min               int64\n",
      "main_temp_max               int64\n",
      "wind_speed                float64\n",
      "wind_deg                  float64\n",
      "year                     category\n",
      "Day                         int64\n",
      "month                    category\n",
      "hour                        int64\n",
      "minute                      int64\n",
      "dayOfWeek                category\n",
      "dtype: object\n"
     ]
    }
   ],
   "source": [
    "print('The shape of our features is:', dfML.shape)\n",
    "print(dfML.dtypes)"
   ]
  },
  {
   "cell_type": "code",
   "execution_count": 26,
   "metadata": {
    "scrolled": false
   },
   "outputs": [
    {
     "data": {
      "text/html": [
       "<div>\n",
       "<style scoped>\n",
       "    .dataframe tbody tr th:only-of-type {\n",
       "        vertical-align: middle;\n",
       "    }\n",
       "\n",
       "    .dataframe tbody tr th {\n",
       "        vertical-align: top;\n",
       "    }\n",
       "\n",
       "    .dataframe thead th {\n",
       "        text-align: right;\n",
       "    }\n",
       "</style>\n",
       "<table border=\"1\" class=\"dataframe\">\n",
       "  <thead>\n",
       "    <tr style=\"text-align: right;\">\n",
       "      <th></th>\n",
       "      <th>number</th>\n",
       "      <th>available_bike_stands</th>\n",
       "      <th>available_bikes</th>\n",
       "      <th>main_temp</th>\n",
       "      <th>main_feels_like</th>\n",
       "      <th>main_pressure</th>\n",
       "      <th>main_humidity</th>\n",
       "      <th>main_temp_min</th>\n",
       "      <th>main_temp_max</th>\n",
       "      <th>wind_speed</th>\n",
       "      <th>wind_deg</th>\n",
       "      <th>year</th>\n",
       "      <th>Day</th>\n",
       "      <th>month</th>\n",
       "      <th>hour</th>\n",
       "      <th>minute</th>\n",
       "      <th>dayOfWeek</th>\n",
       "    </tr>\n",
       "  </thead>\n",
       "  <tbody>\n",
       "    <tr>\n",
       "      <th>0</th>\n",
       "      <td>42</td>\n",
       "      <td>17</td>\n",
       "      <td>13</td>\n",
       "      <td>12</td>\n",
       "      <td>7</td>\n",
       "      <td>987</td>\n",
       "      <td>87</td>\n",
       "      <td>11</td>\n",
       "      <td>14</td>\n",
       "      <td>7.2</td>\n",
       "      <td>250.0</td>\n",
       "      <td>2020</td>\n",
       "      <td>28</td>\n",
       "      <td>2</td>\n",
       "      <td>15</td>\n",
       "      <td>0</td>\n",
       "      <td>4</td>\n",
       "    </tr>\n",
       "    <tr>\n",
       "      <th>1</th>\n",
       "      <td>30</td>\n",
       "      <td>16</td>\n",
       "      <td>4</td>\n",
       "      <td>12</td>\n",
       "      <td>7</td>\n",
       "      <td>987</td>\n",
       "      <td>87</td>\n",
       "      <td>11</td>\n",
       "      <td>14</td>\n",
       "      <td>7.2</td>\n",
       "      <td>250.0</td>\n",
       "      <td>2020</td>\n",
       "      <td>28</td>\n",
       "      <td>2</td>\n",
       "      <td>15</td>\n",
       "      <td>0</td>\n",
       "      <td>4</td>\n",
       "    </tr>\n",
       "    <tr>\n",
       "      <th>2</th>\n",
       "      <td>54</td>\n",
       "      <td>22</td>\n",
       "      <td>9</td>\n",
       "      <td>12</td>\n",
       "      <td>7</td>\n",
       "      <td>987</td>\n",
       "      <td>87</td>\n",
       "      <td>11</td>\n",
       "      <td>14</td>\n",
       "      <td>7.2</td>\n",
       "      <td>250.0</td>\n",
       "      <td>2020</td>\n",
       "      <td>28</td>\n",
       "      <td>2</td>\n",
       "      <td>15</td>\n",
       "      <td>0</td>\n",
       "      <td>4</td>\n",
       "    </tr>\n",
       "    <tr>\n",
       "      <th>3</th>\n",
       "      <td>108</td>\n",
       "      <td>37</td>\n",
       "      <td>3</td>\n",
       "      <td>12</td>\n",
       "      <td>7</td>\n",
       "      <td>987</td>\n",
       "      <td>87</td>\n",
       "      <td>11</td>\n",
       "      <td>14</td>\n",
       "      <td>7.2</td>\n",
       "      <td>250.0</td>\n",
       "      <td>2020</td>\n",
       "      <td>28</td>\n",
       "      <td>2</td>\n",
       "      <td>15</td>\n",
       "      <td>0</td>\n",
       "      <td>4</td>\n",
       "    </tr>\n",
       "    <tr>\n",
       "      <th>4</th>\n",
       "      <td>56</td>\n",
       "      <td>13</td>\n",
       "      <td>27</td>\n",
       "      <td>12</td>\n",
       "      <td>7</td>\n",
       "      <td>987</td>\n",
       "      <td>87</td>\n",
       "      <td>11</td>\n",
       "      <td>14</td>\n",
       "      <td>7.2</td>\n",
       "      <td>250.0</td>\n",
       "      <td>2020</td>\n",
       "      <td>28</td>\n",
       "      <td>2</td>\n",
       "      <td>15</td>\n",
       "      <td>0</td>\n",
       "      <td>4</td>\n",
       "    </tr>\n",
       "  </tbody>\n",
       "</table>\n",
       "</div>"
      ],
      "text/plain": [
       "   number  available_bike_stands  available_bikes  main_temp  main_feels_like  \\\n",
       "0      42                     17               13         12                7   \n",
       "1      30                     16                4         12                7   \n",
       "2      54                     22                9         12                7   \n",
       "3     108                     37                3         12                7   \n",
       "4      56                     13               27         12                7   \n",
       "\n",
       "   main_pressure  main_humidity  main_temp_min  main_temp_max  wind_speed  \\\n",
       "0            987             87             11             14         7.2   \n",
       "1            987             87             11             14         7.2   \n",
       "2            987             87             11             14         7.2   \n",
       "3            987             87             11             14         7.2   \n",
       "4            987             87             11             14         7.2   \n",
       "\n",
       "   wind_deg  year  Day month  hour  minute dayOfWeek  \n",
       "0     250.0  2020   28     2    15       0         4  \n",
       "1     250.0  2020   28     2    15       0         4  \n",
       "2     250.0  2020   28     2    15       0         4  \n",
       "3     250.0  2020   28     2    15       0         4  \n",
       "4     250.0  2020   28     2    15       0         4  "
      ]
     },
     "execution_count": 26,
     "metadata": {},
     "output_type": "execute_result"
    }
   ],
   "source": [
    "dfML.head()"
   ]
  },
  {
   "cell_type": "markdown",
   "metadata": {},
   "source": [
    "## Encoding"
   ]
  },
  {
   "cell_type": "markdown",
   "metadata": {},
   "source": [
    "#### Dictionary vectorization"
   ]
  },
  {
   "cell_type": "code",
   "execution_count": 27,
   "metadata": {},
   "outputs": [],
   "source": [
    "dfML_enc = pd.get_dummies(dfML, prefix_sep='_')\n",
    "# X head\n",
    "dfML_enc.head()\n",
    "\n",
    "dfML_enc.to_csv(\"FeaturesGetDummies.csv\")"
   ]
  },
  {
   "cell_type": "code",
   "execution_count": 28,
   "metadata": {},
   "outputs": [
    {
     "name": "stdout",
     "output_type": "stream",
     "text": [
      "Shape of features after one-hot encoding: (369170, 34)\n"
     ]
    }
   ],
   "source": [
    "print('Shape of features after one-hot encoding:', dfML_enc.shape)"
   ]
  },
  {
   "cell_type": "markdown",
   "metadata": {},
   "source": [
    "## Features and Labels"
   ]
  },
  {
   "cell_type": "code",
   "execution_count": 29,
   "metadata": {},
   "outputs": [],
   "source": [
    "# return dataframe without target variable for processing\n",
    "def prepareDF(dfML, targetCol):\n",
    "    target = np.array(dfML[targetCol])\n",
    "    \n",
    "    # Remove the target variable from dataframe\n",
    "    dfML= dfML.drop(targetCol, axis = 1)\n",
    "\n",
    "    # Saving feature names for later use\n",
    "    feature_list = list(dfML.columns)\n",
    "\n",
    "    # Convert to numpy array\n",
    "    dfML_array = np.array(dfML)\n",
    "    \n",
    "    return dfML_array, target, feature_list"
   ]
  },
  {
   "cell_type": "markdown",
   "metadata": {},
   "source": [
    "## Training and Testing Sets"
   ]
  },
  {
   "cell_type": "code",
   "execution_count": 30,
   "metadata": {},
   "outputs": [],
   "source": [
    "def trainTestData(features, target):\n",
    "    # Split the data into training and testing sets\n",
    "    train_features, test_features, train_labels, test_labels = train_test_split(features, target, test_size = 0.25,\n",
    "                                                                               random_state = 42)\n",
    "    return train_features, test_features, train_labels, test_labels"
   ]
  },
  {
   "cell_type": "markdown",
   "metadata": {},
   "source": [
    "## Training the Forest"
   ]
  },
  {
   "cell_type": "code",
   "execution_count": 32,
   "metadata": {
    "hideCode": false,
    "hidePrompt": false
   },
   "outputs": [],
   "source": [
    "def trainRandomForest(train_features, train_labels):\n",
    "    # Instantiate model \n",
    "    rf = RandomForestRegressor(n_estimators= 100, random_state=42)\n",
    "\n",
    "    # Train the random forest model\n",
    "    rf.fit(train_features, train_labels)\n",
    "    \n",
    "    return rf"
   ]
  },
  {
   "cell_type": "markdown",
   "metadata": {},
   "source": [
    "## Make Predictions on Test Data"
   ]
  },
  {
   "cell_type": "code",
   "execution_count": 34,
   "metadata": {},
   "outputs": [],
   "source": [
    "def predictRandomForest(rf, test_features):\n",
    "    # Use the forest's predict method on the test data\n",
    "    predictions = rf.predict(test_features) \n",
    "    \n",
    "    return predictions"
   ]
  },
  {
   "cell_type": "markdown",
   "metadata": {},
   "source": [
    "## View Results"
   ]
  },
  {
   "cell_type": "code",
   "execution_count": 35,
   "metadata": {},
   "outputs": [],
   "source": [
    "def result(predictions,test_labels):\n",
    "    # Calculate the absolute errors\n",
    "    errors = abs(predictions - test_labels)\n",
    "\n",
    "    # Print out the mean absolute error (mae)\n",
    "    print('Mean Absolute Error:', round(np.mean(errors), 2))\n",
    "    \n",
    "    \n",
    "    print('\\n==============================================================================')\n",
    "    print(\"MAE: \", metrics.mean_absolute_error(test_labels, predictions))\n",
    "    print(\"RMSE: \", metrics.mean_squared_error(test_labels, predictions, squared=False))    \n",
    "#     print(\"RMSE: \", metrics.mean_squared_error(test_labels, predictions)**0.5)\n",
    "    print(\"R2: \", metrics.r2_score(test_labels, predictions))\n",
    "\n",
    "    \n",
    "    plt.plot(test_labels[:10])\n",
    "#     plt.xticks(range(len(dates)), dates)\n",
    "    plt.plot(predictions[:10])\n",
    "    \n",
    "    plt.xlabel('Time')\n",
    "    plt.ylabel('Available stands')\n",
    "\n",
    "    plt.show()\n",
    "\n"
   ]
  },
  {
   "cell_type": "markdown",
   "metadata": {},
   "source": [
    "## Variable Importances"
   ]
  },
  {
   "cell_type": "code",
   "execution_count": 36,
   "metadata": {},
   "outputs": [],
   "source": [
    "def show_Importance(rf,features):\n",
    "    # Get numerical feature importances\n",
    "    importances = list(rf.feature_importances_)\n",
    "\n",
    "    # List of tuples with variable and importance\n",
    "    feature_importances = [(features, round(importance, 2)) for features, importance in zip(feature_list, importances)]\n",
    "\n",
    "    # Sort the feature importances by most important first\n",
    "    feature_importances = sorted(feature_importances, key = lambda x: x[1], reverse = True)\n",
    "\n",
    "    # Print out the feature and importances \n",
    "    [print('Variable: {:20} Importance: {}'.format(*pair)) for pair in feature_importances]"
   ]
  },
  {
   "cell_type": "markdown",
   "metadata": {},
   "source": [
    "## Pipeline"
   ]
  },
  {
   "cell_type": "code",
   "execution_count": 39,
   "metadata": {
    "scrolled": true
   },
   "outputs": [],
   "source": [
    "# Data processing pipeline \n",
    "targetCols = ['available_bikes','available_bike_stands']\n",
    "# ***************************************************************************************************************\n",
    "\n",
    "\n",
    "stations = dfML_enc['number'].unique()\n",
    "\n",
    "for station in stations:\n",
    "    dfML_station = dfML_enc.loc[dfML_enc['number'] == station] \n",
    "    dfML_enc_DA = dfML_station\n",
    "\n",
    "    \n",
    "    for targetCol in targetCols: \n",
    "    \n",
    "        # Array of target variables\n",
    "        target = np.array(dfML_enc_DA[targetCol])\n",
    "\n",
    "        dfML_pipeline = dfML_enc_DA.drop(['available_bikes','available_bike_stands','number'], axis = 1)\n",
    "\n",
    "        # Saving input feature names for later use\n",
    "        feature_list = list(dfML_pipeline.columns)\n",
    "        # Convert to numpy array\n",
    "        features = np.array(dfML_pipeline)\n",
    "\n",
    "        train_features, test_features, train_labels, test_labels = trainTestData(features, target)\n",
    "        rfBikeModel = trainRandomForest(train_features, train_labels)\n",
    "\n",
    "        # save the model\n",
    "        filename = 'stn'+str(station)+\"_\"+targetCol+'.pkl'\n",
    "        pickle.dump(rfBikeModel, open(filename, 'wb'))    "
   ]
  },
  {
   "cell_type": "code",
   "execution_count": 40,
   "metadata": {},
   "outputs": [
    {
     "name": "stdout",
     "output_type": "stream",
     "text": [
      "Mean Absolute Error: 0.62\n",
      "\n",
      "==============================================================================\n",
      "MAE:  0.616702380952381\n",
      "RMSE:  0.9736287671337963\n",
      "R2:  0.9878976940259074\n"
     ]
    },
    {
     "data": {
      "image/png": "[encoded data removed]",
      "text/plain": [
       "<Figure size 432x288 with 1 Axes>"
      ]
     },
     "metadata": {
      "needs_background": "light"
     },
     "output_type": "display_data"
    }
   ],
   "source": [
    "# load the model \n",
    "rfBikeModel_loaded = pickle.load(open(filename, 'rb'))\n",
    "predictions = predictRandomForest(rfBikeModel_loaded,test_features)\n",
    "result(predictions,test_labels, targetCol)\n",
    "# show_Importance(rfBikeModel_loaded,features)"
   ]
  }
 ],
 "metadata": {
  "hide_code_all_hidden": false,
  "kernelspec": {
   "display_name": "Python 3",
   "language": "python",
   "name": "python3"
  },
  "language_info": {
   "codemirror_mode": {
    "name": "ipython",
    "version": 3
   },
   "file_extension": ".py",
   "mimetype": "text/x-python",
   "name": "python",
   "nbconvert_exporter": "python",
   "pygments_lexer": "ipython3",
   "version": "3.7.6"
  }
 },
 "nbformat": 4,
 "nbformat_minor": 2
}
